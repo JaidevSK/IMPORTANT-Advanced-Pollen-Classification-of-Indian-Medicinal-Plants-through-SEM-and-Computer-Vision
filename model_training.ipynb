{
 "cells": [
  {
   "cell_type": "code",
   "execution_count": 149,
   "metadata": {},
   "outputs": [
    {
     "name": "stdout",
     "output_type": "stream",
     "text": [
      "Requirement already satisfied: ultralytics in c:\\users\\jaide\\anaconda3\\envs\\mnist\\lib\\site-packages (8.3.15)\n",
      "Requirement already satisfied: numpy>=1.23.0 in c:\\users\\jaide\\anaconda3\\envs\\mnist\\lib\\site-packages (from ultralytics) (1.26.4)\n",
      "Requirement already satisfied: matplotlib>=3.3.0 in c:\\users\\jaide\\anaconda3\\envs\\mnist\\lib\\site-packages (from ultralytics) (3.9.0)\n",
      "Requirement already satisfied: opencv-python>=4.6.0 in c:\\users\\jaide\\anaconda3\\envs\\mnist\\lib\\site-packages (from ultralytics) (4.10.0.84)\n",
      "Requirement already satisfied: pillow>=7.1.2 in c:\\users\\jaide\\anaconda3\\envs\\mnist\\lib\\site-packages (from ultralytics) (10.4.0)\n",
      "Requirement already satisfied: pyyaml>=5.3.1 in c:\\users\\jaide\\anaconda3\\envs\\mnist\\lib\\site-packages (from ultralytics) (6.0.1)\n",
      "Requirement already satisfied: requests>=2.23.0 in c:\\users\\jaide\\anaconda3\\envs\\mnist\\lib\\site-packages (from ultralytics) (2.32.3)\n",
      "Requirement already satisfied: scipy>=1.4.1 in c:\\users\\jaide\\anaconda3\\envs\\mnist\\lib\\site-packages (from ultralytics) (1.13.1)\n",
      "Requirement already satisfied: torch>=1.8.0 in c:\\users\\jaide\\anaconda3\\envs\\mnist\\lib\\site-packages (from ultralytics) (2.3.1)\n",
      "Requirement already satisfied: torchvision>=0.9.0 in c:\\users\\jaide\\anaconda3\\envs\\mnist\\lib\\site-packages (from ultralytics) (0.18.1)\n",
      "Requirement already satisfied: tqdm>=4.64.0 in c:\\users\\jaide\\anaconda3\\envs\\mnist\\lib\\site-packages (from ultralytics) (4.66.4)\n",
      "Requirement already satisfied: psutil in c:\\users\\jaide\\anaconda3\\envs\\mnist\\lib\\site-packages (from ultralytics) (5.9.0)\n",
      "Requirement already satisfied: py-cpuinfo in c:\\users\\jaide\\anaconda3\\envs\\mnist\\lib\\site-packages (from ultralytics) (9.0.0)\n",
      "Requirement already satisfied: pandas>=1.1.4 in c:\\users\\jaide\\anaconda3\\envs\\mnist\\lib\\site-packages (from ultralytics) (2.2.2)\n",
      "Requirement already satisfied: seaborn>=0.11.0 in c:\\users\\jaide\\anaconda3\\envs\\mnist\\lib\\site-packages (from ultralytics) (0.13.2)\n",
      "Requirement already satisfied: ultralytics-thop>=2.0.0 in c:\\users\\jaide\\anaconda3\\envs\\mnist\\lib\\site-packages (from ultralytics) (2.0.9)\n",
      "Requirement already satisfied: contourpy>=1.0.1 in c:\\users\\jaide\\anaconda3\\envs\\mnist\\lib\\site-packages (from matplotlib>=3.3.0->ultralytics) (1.2.1)\n",
      "Requirement already satisfied: cycler>=0.10 in c:\\users\\jaide\\anaconda3\\envs\\mnist\\lib\\site-packages (from matplotlib>=3.3.0->ultralytics) (0.12.1)\n",
      "Requirement already satisfied: fonttools>=4.22.0 in c:\\users\\jaide\\anaconda3\\envs\\mnist\\lib\\site-packages (from matplotlib>=3.3.0->ultralytics) (4.53.0)\n",
      "Requirement already satisfied: kiwisolver>=1.3.1 in c:\\users\\jaide\\anaconda3\\envs\\mnist\\lib\\site-packages (from matplotlib>=3.3.0->ultralytics) (1.4.5)\n",
      "Requirement already satisfied: packaging>=20.0 in c:\\users\\jaide\\anaconda3\\envs\\mnist\\lib\\site-packages (from matplotlib>=3.3.0->ultralytics) (24.1)\n",
      "Requirement already satisfied: pyparsing>=2.3.1 in c:\\users\\jaide\\anaconda3\\envs\\mnist\\lib\\site-packages (from matplotlib>=3.3.0->ultralytics) (3.1.2)\n",
      "Requirement already satisfied: python-dateutil>=2.7 in c:\\users\\jaide\\anaconda3\\envs\\mnist\\lib\\site-packages (from matplotlib>=3.3.0->ultralytics) (2.9.0)\n",
      "Requirement already satisfied: pytz>=2020.1 in c:\\users\\jaide\\anaconda3\\envs\\mnist\\lib\\site-packages (from pandas>=1.1.4->ultralytics) (2024.1)\n",
      "Requirement already satisfied: tzdata>=2022.7 in c:\\users\\jaide\\anaconda3\\envs\\mnist\\lib\\site-packages (from pandas>=1.1.4->ultralytics) (2024.1)\n",
      "Requirement already satisfied: charset-normalizer<4,>=2 in c:\\users\\jaide\\anaconda3\\envs\\mnist\\lib\\site-packages (from requests>=2.23.0->ultralytics) (3.3.2)\n",
      "Requirement already satisfied: idna<4,>=2.5 in c:\\users\\jaide\\anaconda3\\envs\\mnist\\lib\\site-packages (from requests>=2.23.0->ultralytics) (3.7)\n",
      "Requirement already satisfied: urllib3<3,>=1.21.1 in c:\\users\\jaide\\anaconda3\\envs\\mnist\\lib\\site-packages (from requests>=2.23.0->ultralytics) (2.2.2)\n",
      "Requirement already satisfied: certifi>=2017.4.17 in c:\\users\\jaide\\anaconda3\\envs\\mnist\\lib\\site-packages (from requests>=2.23.0->ultralytics) (2024.7.4)\n",
      "Requirement already satisfied: filelock in c:\\users\\jaide\\anaconda3\\envs\\mnist\\lib\\site-packages (from torch>=1.8.0->ultralytics) (3.15.4)\n",
      "Requirement already satisfied: typing-extensions>=4.8.0 in c:\\users\\jaide\\anaconda3\\envs\\mnist\\lib\\site-packages (from torch>=1.8.0->ultralytics) (4.12.2)\n",
      "Requirement already satisfied: sympy in c:\\users\\jaide\\anaconda3\\envs\\mnist\\lib\\site-packages (from torch>=1.8.0->ultralytics) (1.12.1)\n",
      "Requirement already satisfied: networkx in c:\\users\\jaide\\anaconda3\\envs\\mnist\\lib\\site-packages (from torch>=1.8.0->ultralytics) (3.3)\n",
      "Requirement already satisfied: jinja2 in c:\\users\\jaide\\anaconda3\\envs\\mnist\\lib\\site-packages (from torch>=1.8.0->ultralytics) (3.1.4)\n",
      "Requirement already satisfied: fsspec in c:\\users\\jaide\\anaconda3\\envs\\mnist\\lib\\site-packages (from torch>=1.8.0->ultralytics) (2024.6.1)\n",
      "Requirement already satisfied: mkl<=2021.4.0,>=2021.1.1 in c:\\users\\jaide\\anaconda3\\envs\\mnist\\lib\\site-packages (from torch>=1.8.0->ultralytics) (2021.4.0)\n",
      "Requirement already satisfied: colorama in c:\\users\\jaide\\anaconda3\\envs\\mnist\\lib\\site-packages (from tqdm>=4.64.0->ultralytics) (0.4.6)\n",
      "Requirement already satisfied: intel-openmp==2021.* in c:\\users\\jaide\\anaconda3\\envs\\mnist\\lib\\site-packages (from mkl<=2021.4.0,>=2021.1.1->torch>=1.8.0->ultralytics) (2021.4.0)\n",
      "Requirement already satisfied: tbb==2021.* in c:\\users\\jaide\\anaconda3\\envs\\mnist\\lib\\site-packages (from mkl<=2021.4.0,>=2021.1.1->torch>=1.8.0->ultralytics) (2021.13.0)\n",
      "Requirement already satisfied: six>=1.5 in c:\\users\\jaide\\anaconda3\\envs\\mnist\\lib\\site-packages (from python-dateutil>=2.7->matplotlib>=3.3.0->ultralytics) (1.16.0)\n",
      "Requirement already satisfied: MarkupSafe>=2.0 in c:\\users\\jaide\\anaconda3\\envs\\mnist\\lib\\site-packages (from jinja2->torch>=1.8.0->ultralytics) (2.1.5)\n",
      "Requirement already satisfied: mpmath<1.4.0,>=1.1.0 in c:\\users\\jaide\\anaconda3\\envs\\mnist\\lib\\site-packages (from sympy->torch>=1.8.0->ultralytics) (1.3.0)\n",
      "Note: you may need to restart the kernel to use updated packages.\n"
     ]
    }
   ],
   "source": [
    "pip install ultralytics"
   ]
  },
  {
   "cell_type": "code",
   "execution_count": 150,
   "metadata": {},
   "outputs": [],
   "source": [
    "from ultralytics import YOLO\n",
    "\n",
    "model = YOLO(\"yolo11n-seg.yaml\")\n"
   ]
  },
  {
   "cell_type": "code",
   "execution_count": 152,
   "metadata": {},
   "outputs": [
    {
     "name": "stdout",
     "output_type": "stream",
     "text": [
      "Ultralytics 8.3.15  Python-3.11.9 torch-2.3.1+cpu CPU (12th Gen Intel Core(TM) i5-12500H)\n",
      "\u001b[34m\u001b[1mengine\\trainer: \u001b[0mtask=segment, mode=train, model=yolo11n-seg.yaml, data=C:/SRIPdataset/GPU/segmentation_model/data.yaml, epochs=2, time=None, patience=100, batch=8, imgsz=640, save=True, save_period=-1, cache=False, device=cpu, workers=8, project=None, name=train18, exist_ok=False, pretrained=True, optimizer=auto, verbose=True, seed=0, deterministic=True, single_cls=False, rect=False, cos_lr=False, close_mosaic=10, resume=False, amp=True, fraction=1.0, profile=False, freeze=None, multi_scale=False, overlap_mask=True, mask_ratio=4, dropout=0.0, val=True, split=val, save_json=False, save_hybrid=False, conf=None, iou=0.7, max_det=300, half=False, dnn=False, plots=True, source=None, vid_stride=1, stream_buffer=False, visualize=False, augment=False, agnostic_nms=False, classes=None, retina_masks=False, embed=None, show=False, save_frames=False, save_txt=False, save_conf=False, save_crop=False, show_labels=True, show_conf=True, show_boxes=True, line_width=None, format=torchscript, keras=False, optimize=False, int8=False, dynamic=False, simplify=True, opset=None, workspace=4, nms=False, lr0=0.01, lrf=0.01, momentum=0.937, weight_decay=0.0005, warmup_epochs=3.0, warmup_momentum=0.8, warmup_bias_lr=0.1, box=7.5, cls=0.5, dfl=1.5, pose=12.0, kobj=1.0, label_smoothing=0.0, nbs=64, hsv_h=0.015, hsv_s=0.7, hsv_v=0.4, degrees=0.0, translate=0.1, scale=0.5, shear=0.0, perspective=0.0, flipud=0.0, fliplr=0.5, bgr=0.0, mosaic=1.0, mixup=0.0, copy_paste=0.0, copy_paste_mode=flip, auto_augment=randaugment, erasing=0.4, crop_fraction=1.0, cfg=None, tracker=botsort.yaml, save_dir=c:\\Users\\jaide\\runs\\segment\\train18\n",
      "\n",
      "                   from  n    params  module                                       arguments                     \n",
      "  0                  -1  1       464  ultralytics.nn.modules.conv.Conv             [3, 16, 3, 2]                 \n",
      "  1                  -1  1      4672  ultralytics.nn.modules.conv.Conv             [16, 32, 3, 2]                \n",
      "  2                  -1  1      6640  ultralytics.nn.modules.block.C3k2            [32, 64, 1, False, 0.25]      \n",
      "  3                  -1  1     36992  ultralytics.nn.modules.conv.Conv             [64, 64, 3, 2]                \n",
      "  4                  -1  1     26080  ultralytics.nn.modules.block.C3k2            [64, 128, 1, False, 0.25]     \n",
      "  5                  -1  1    147712  ultralytics.nn.modules.conv.Conv             [128, 128, 3, 2]              \n",
      "  6                  -1  1     87040  ultralytics.nn.modules.block.C3k2            [128, 128, 1, True]           \n",
      "  7                  -1  1    295424  ultralytics.nn.modules.conv.Conv             [128, 256, 3, 2]              \n",
      "  8                  -1  1    346112  ultralytics.nn.modules.block.C3k2            [256, 256, 1, True]           \n",
      "  9                  -1  1    164608  ultralytics.nn.modules.block.SPPF            [256, 256, 5]                 \n",
      " 10                  -1  1    249728  ultralytics.nn.modules.block.C2PSA           [256, 256, 1]                 \n",
      " 11                  -1  1         0  torch.nn.modules.upsampling.Upsample         [None, 2, 'nearest']          \n",
      " 12             [-1, 6]  1         0  ultralytics.nn.modules.conv.Concat           [1]                           \n",
      " 13                  -1  1    111296  ultralytics.nn.modules.block.C3k2            [384, 128, 1, False]          \n",
      " 14                  -1  1         0  torch.nn.modules.upsampling.Upsample         [None, 2, 'nearest']          \n",
      " 15             [-1, 4]  1         0  ultralytics.nn.modules.conv.Concat           [1]                           \n",
      " 16                  -1  1     32096  ultralytics.nn.modules.block.C3k2            [256, 64, 1, False]           \n",
      " 17                  -1  1     36992  ultralytics.nn.modules.conv.Conv             [64, 64, 3, 2]                \n",
      " 18            [-1, 13]  1         0  ultralytics.nn.modules.conv.Concat           [1]                           \n",
      " 19                  -1  1     86720  ultralytics.nn.modules.block.C3k2            [192, 128, 1, False]          \n",
      " 20                  -1  1    147712  ultralytics.nn.modules.conv.Conv             [128, 128, 3, 2]              \n",
      " 21            [-1, 10]  1         0  ultralytics.nn.modules.conv.Concat           [1]                           \n",
      " 22                  -1  1    378880  ultralytics.nn.modules.block.C3k2            [384, 256, 1, True]           \n",
      " 23        [16, 19, 22]  1    683635  ultralytics.nn.modules.head.Segment          [1, 32, 64, [64, 128, 256]]   \n",
      "YOLO11n-seg summary: 355 layers, 2,842,803 parameters, 2,842,787 gradients, 10.4 GFLOPs\n",
      "\n",
      "\u001b[34m\u001b[1mTensorBoard: \u001b[0mStart with 'tensorboard --logdir c:\\Users\\jaide\\runs\\segment\\train18', view at http://localhost:6006/\n",
      "Freezing layer 'model.23.dfl.conv.weight'\n"
     ]
    },
    {
     "name": "stderr",
     "output_type": "stream",
     "text": [
      "\u001b[34m\u001b[1mtrain: \u001b[0mScanning C:\\SRIPDataset\\GPU\\segmentation_model\\datasets\\train\\labels.cache... 271 images, 0 backgrounds, 0 corrupt: 100%|██████████| 271/271 [00:00<?, ?it/s]\n",
      "\u001b[34m\u001b[1mval: \u001b[0mScanning C:\\SRIPDataset\\GPU\\segmentation_model\\datasets\\val\\labels.cache... 0 images, 271 backgrounds, 0 corrupt: 100%|██████████| 271/271 [00:00<?, ?it/s]"
     ]
    },
    {
     "name": "stdout",
     "output_type": "stream",
     "text": [
      "WARNING  No labels found in C:\\SRIPDataset\\GPU\\segmentation_model\\datasets\\val\\labels.cache, training may not work correctly. See https://docs.ultralytics.com/datasets for dataset formatting guidance.\n"
     ]
    },
    {
     "name": "stderr",
     "output_type": "stream",
     "text": [
      "\n"
     ]
    },
    {
     "name": "stdout",
     "output_type": "stream",
     "text": [
      "Plotting labels to c:\\Users\\jaide\\runs\\segment\\train18\\labels.jpg... \n",
      "\u001b[34m\u001b[1moptimizer:\u001b[0m 'optimizer=auto' found, ignoring 'lr0=0.01' and 'momentum=0.937' and determining best 'optimizer', 'lr0' and 'momentum' automatically... \n",
      "\u001b[34m\u001b[1moptimizer:\u001b[0m AdamW(lr=0.002, momentum=0.9) with parameter groups 90 weight(decay=0.0), 101 weight(decay=0.0005), 100 bias(decay=0.0)\n",
      "\u001b[34m\u001b[1mTensorBoard: \u001b[0mmodel graph visualization added \n",
      "Image sizes 640 train, 640 val\n",
      "Using 0 dataloader workers\n",
      "Logging results to \u001b[1mc:\\Users\\jaide\\runs\\segment\\train18\u001b[0m\n",
      "Starting training for 2 epochs...\n",
      "\n",
      "      Epoch    GPU_mem   box_loss   seg_loss   cls_loss   dfl_loss  Instances       Size\n"
     ]
    },
    {
     "name": "stderr",
     "output_type": "stream",
     "text": [
      "        1/2         0G      3.003      4.779        3.7      4.113         18        640: 100%|██████████| 34/34 [01:48<00:00,  3.20s/it]\n",
      "                 Class     Images  Instances      Box(P          R      mAP50  mAP50-95)     Mask(P          R      mAP50  mAP50-95): 100%|██████████| 17/17 [00:46<00:00,  2.75s/it]"
     ]
    },
    {
     "name": "stdout",
     "output_type": "stream",
     "text": [
      "                   all        271          0          0          0          0          0          0          0          0          0\n",
      "WARNING  no labels found in segment set, can not compute metrics without labels\n"
     ]
    },
    {
     "name": "stderr",
     "output_type": "stream",
     "text": [
      "\n"
     ]
    },
    {
     "name": "stdout",
     "output_type": "stream",
     "text": [
      "\n",
      "      Epoch    GPU_mem   box_loss   seg_loss   cls_loss   dfl_loss  Instances       Size\n"
     ]
    },
    {
     "name": "stderr",
     "output_type": "stream",
     "text": [
      "        2/2         0G      2.919      4.139      3.546      3.955         16        640: 100%|██████████| 34/34 [02:06<00:00,  3.71s/it]\n",
      "                 Class     Images  Instances      Box(P          R      mAP50  mAP50-95)     Mask(P          R      mAP50  mAP50-95): 100%|██████████| 17/17 [00:49<00:00,  2.89s/it]"
     ]
    },
    {
     "name": "stdout",
     "output_type": "stream",
     "text": [
      "                   all        271          0          0          0          0          0          0          0          0          0\n",
      "WARNING  no labels found in segment set, can not compute metrics without labels\n"
     ]
    },
    {
     "name": "stderr",
     "output_type": "stream",
     "text": [
      "\n"
     ]
    },
    {
     "name": "stdout",
     "output_type": "stream",
     "text": [
      "\n",
      "2 epochs completed in 0.094 hours.\n",
      "Optimizer stripped from c:\\Users\\jaide\\runs\\segment\\train18\\weights\\last.pt, 6.0MB\n",
      "Optimizer stripped from c:\\Users\\jaide\\runs\\segment\\train18\\weights\\best.pt, 6.0MB\n",
      "\n",
      "Validating c:\\Users\\jaide\\runs\\segment\\train18\\weights\\best.pt...\n",
      "WARNING  validating an untrained model YAML will result in 0 mAP.\n",
      "Ultralytics 8.3.15  Python-3.11.9 torch-2.3.1+cpu CPU (12th Gen Intel Core(TM) i5-12500H)\n",
      "YOLO11n-seg summary (fused): 265 layers, 2,834,763 parameters, 0 gradients, 10.2 GFLOPs\n"
     ]
    },
    {
     "name": "stderr",
     "output_type": "stream",
     "text": [
      "                 Class     Images  Instances      Box(P          R      mAP50  mAP50-95)     Mask(P          R      mAP50  mAP50-95): 100%|██████████| 17/17 [00:35<00:00,  2.12s/it]"
     ]
    },
    {
     "name": "stdout",
     "output_type": "stream",
     "text": [
      "                   all        271          0          0          0          0          0          0          0          0          0\n",
      "WARNING  no labels found in segment set, can not compute metrics without labels\n"
     ]
    },
    {
     "name": "stderr",
     "output_type": "stream",
     "text": [
      "\n"
     ]
    },
    {
     "name": "stdout",
     "output_type": "stream",
     "text": [
      "Speed: 1.4ms preprocess, 91.4ms inference, 0.0ms loss, 2.4ms postprocess per image\n",
      "Results saved to \u001b[1mc:\\Users\\jaide\\runs\\segment\\train18\u001b[0m\n"
     ]
    }
   ],
   "source": [
    "results = model.train(\n",
    "        batch=8,\n",
    "        device=\"cpu\",\n",
    "        data=\"C:/SRIPdataset/GPU/segmentation_model/data.yaml\",\n",
    "        epochs=2,\n",
    "    )"
   ]
  },
  {
   "cell_type": "code",
   "execution_count": 159,
   "metadata": {},
   "outputs": [
    {
     "data": {
      "text/plain": [
       "['Azadirachta indica_1.jpg',\n",
       " 'Azadirachta indica_2.jpg',\n",
       " 'Azadirachta indica_3.jpg',\n",
       " 'Azadirachta indica_4.jpg',\n",
       " 'Azadirachta indica_5.jpg',\n",
       " 'Azadirachta indica_6.jpg',\n",
       " 'Azadirachta indica_7.jpg',\n",
       " 'Azadirachta indica_8.jpg',\n",
       " 'Caesalpinia pulcherrima_1.jpg',\n",
       " 'Caesalpinia pulcherrima_2.jpg',\n",
       " 'Caesalpinia pulcherrima_3.jpg',\n",
       " 'Caesalpinia pulcherrima_4.jpg',\n",
       " 'Caesalpinia pulcherrima_5.jpg',\n",
       " 'Caesalpinia pulcherrima_6.jpg',\n",
       " 'Caesalpinia pulcherrima_7.jpg',\n",
       " 'Caesalpinia pulcherrima_8.jpg',\n",
       " 'Caesalpinia pulcherrima_9.jpg',\n",
       " 'Canna indica_1.jpg',\n",
       " 'Canna indica_2.jpg',\n",
       " 'Canna indica_3.jpg',\n",
       " 'Canna indica_4.jpg',\n",
       " 'Canna indica_5.jpg',\n",
       " 'Canna indica_6.jpg',\n",
       " 'Cassia fistula_1.jpg',\n",
       " 'Cassia fistula_10.jpg',\n",
       " 'Cassia fistula_3.jpg',\n",
       " 'Cassia fistula_4.jpg',\n",
       " 'Cassia fistula_5.jpg',\n",
       " 'Cassia fistula_6.jpg',\n",
       " 'Cassia fistula_7.jpg',\n",
       " 'Cassia fistula_8.jpg',\n",
       " 'Cassia fistula_9.jpg',\n",
       " 'Cassia javanica_1.jpg',\n",
       " 'Cassia javanica_10.jpg',\n",
       " 'Cassia javanica_2.jpg',\n",
       " 'Cassia javanica_3.jpg',\n",
       " 'Cassia javanica_4.jpg',\n",
       " 'Cassia javanica_5.jpg',\n",
       " 'Cassia javanica_6.jpg',\n",
       " 'Cassia javanica_7.jpg',\n",
       " 'Cassia javanica_8.jpg',\n",
       " 'Cassia javanica_9.jpg',\n",
       " 'Catharanthus roseus_1.jpg',\n",
       " 'Catharanthus roseus_10.jpg',\n",
       " 'Catharanthus roseus_2.jpg',\n",
       " 'Catharanthus roseus_3.jpg',\n",
       " 'Catharanthus roseus_4.jpg',\n",
       " 'Catharanthus roseus_5.jpg',\n",
       " 'Catharanthus roseus_6.jpg',\n",
       " 'Catharanthus roseus_7.jpg',\n",
       " 'Catharanthus roseus_8.jpg',\n",
       " 'Catharanthus roseus_9.jpg',\n",
       " 'Catharanthus_roseus_(Linn.)_Don_1.jpg',\n",
       " 'Catharanthus_roseus_(Linn.)_Don_10.jpg',\n",
       " 'Catharanthus_roseus_(Linn.)_Don_2.jpg',\n",
       " 'Catharanthus_roseus_(Linn.)_Don_3.jpg',\n",
       " 'Catharanthus_roseus_(Linn.)_Don_4.jpg',\n",
       " 'Catharanthus_roseus_(Linn.)_Don_5.jpg',\n",
       " 'Catharanthus_roseus_(Linn.)_Don_6.jpg',\n",
       " 'Catharanthus_roseus_(Linn.)_Don_7.jpg',\n",
       " 'Catharanthus_roseus_(Linn.)_Don_8.jpg',\n",
       " 'Catharanthus_roseus_(Linn.)_Don_9.jpg',\n",
       " 'Cordia sebestena_1.jpg',\n",
       " 'Cordia sebestena_10.jpg',\n",
       " 'Cordia sebestena_2.jpg',\n",
       " 'Cordia sebestena_3.jpg',\n",
       " 'Cordia sebestena_4.jpg',\n",
       " 'Cordia sebestena_5.jpg',\n",
       " 'Cordia sebestena_6.jpg',\n",
       " 'Cordia sebestena_7.jpg',\n",
       " 'Cordia sebestena_8.jpg',\n",
       " 'Cordia sebestena_9.jpg',\n",
       " 'Delonix regia_1.jpg',\n",
       " 'Delonix regia_10.jpg',\n",
       " 'Delonix regia_2.jpg',\n",
       " 'Delonix regia_3.jpg',\n",
       " 'Delonix regia_4.jpg',\n",
       " 'Delonix regia_5.jpg',\n",
       " 'Delonix regia_6.jpg',\n",
       " 'Delonix regia_7.jpg',\n",
       " 'Delonix regia_8.jpg',\n",
       " 'Eclipta prostrata_1.jpg',\n",
       " 'Eclipta prostrata_10.jpg',\n",
       " 'Eclipta prostrata_11.jpg',\n",
       " 'Eclipta prostrata_2.jpg',\n",
       " 'Eclipta prostrata_3.jpg',\n",
       " 'Eclipta prostrata_4.jpg',\n",
       " 'Eclipta prostrata_5.jpg',\n",
       " 'Eclipta prostrata_7.jpg',\n",
       " 'Eclipta prostrata_8.jpg',\n",
       " 'Eclipta prostrata_9.jpg',\n",
       " 'Gaillardia pulchella_10.jpg',\n",
       " 'Gaillardia pulchella_11.jpg',\n",
       " 'Gaillardia pulchella_2.jpg',\n",
       " 'Gaillardia pulchella_3.jpg',\n",
       " 'Gaillardia pulchella_4.jpg',\n",
       " 'Gaillardia pulchella_5.jpg',\n",
       " 'Gaillardia pulchella_6.jpg',\n",
       " 'Gaillardia pulchella_7.jpg',\n",
       " 'Gaillardia pulchella_8.jpg',\n",
       " 'Gaillardia pulchella_9.jpg',\n",
       " 'Glandularia bipiinnatifida_1.jpg',\n",
       " 'Glandularia bipiinnatifida_10.jpg',\n",
       " 'Glandularia bipiinnatifida_2.jpg',\n",
       " 'Glandularia bipiinnatifida_3.jpg',\n",
       " 'Glandularia bipiinnatifida_4.jpg',\n",
       " 'Glandularia bipiinnatifida_5.jpg',\n",
       " 'Glandularia bipiinnatifida_6.jpg',\n",
       " 'Glandularia bipiinnatifida_7.jpg',\n",
       " 'Glandularia bipiinnatifida_8.jpg',\n",
       " 'Glandularia bipiinnatifida_9.jpg',\n",
       " 'Helianthus annuus_1.jpg',\n",
       " 'Helianthus annuus_10.jpg',\n",
       " 'Helianthus annuus_2.jpg',\n",
       " 'Helianthus annuus_3.jpg',\n",
       " 'Helianthus annuus_4.jpg',\n",
       " 'Helianthus annuus_5.jpg',\n",
       " 'Helianthus annuus_6.jpg',\n",
       " 'Helianthus annuus_7.jpg',\n",
       " 'Helianthus annuus_8.jpg',\n",
       " 'Helianthus annuus_9.jpg',\n",
       " 'Hibiscus arnottianus_1.jpg',\n",
       " 'Hibiscus arnottianus_10.jpg',\n",
       " 'Hibiscus arnottianus_11.jpg',\n",
       " 'Hibiscus arnottianus_2.jpg',\n",
       " 'Hibiscus arnottianus_3.jpg',\n",
       " 'Hibiscus arnottianus_4.jpg',\n",
       " 'Hibiscus arnottianus_5.jpg',\n",
       " 'Hibiscus arnottianus_6.jpg',\n",
       " 'Hibiscus arnottianus_7.jpg',\n",
       " 'Hibiscus arnottianus_8.jpg',\n",
       " 'Hibiscus arnottianus_9.jpg',\n",
       " 'Hibiscus rosa-sinensis_1.jpg',\n",
       " 'Hibiscus rosa-sinensis_10.jpg',\n",
       " 'Hibiscus rosa-sinensis_2.jpg',\n",
       " 'Hibiscus rosa-sinensis_3.jpg',\n",
       " 'Hibiscus rosa-sinensis_4.jpg',\n",
       " 'Hibiscus rosa-sinensis_5.jpg',\n",
       " 'Hibiscus rosa-sinensis_6.jpg',\n",
       " 'Hibiscus rosa-sinensis_7.jpg',\n",
       " 'Hibiscus rosa-sinensis_8.jpg',\n",
       " 'Hibiscus rosa-sinensis_9.jpg',\n",
       " 'Hymenocallis littoralis_1.jpg',\n",
       " 'Hymenocallis littoralis_10.jpg',\n",
       " 'Hymenocallis littoralis_2.jpg',\n",
       " 'Hymenocallis littoralis_3.jpg',\n",
       " 'Hymenocallis littoralis_4.jpg',\n",
       " 'Hymenocallis littoralis_5.jpg',\n",
       " 'Hymenocallis littoralis_6.jpg',\n",
       " 'Hymenocallis littoralis_7.jpg',\n",
       " 'Hymenocallis littoralis_8.jpg',\n",
       " 'Hymenocallis littoralis_9.jpg',\n",
       " 'Ixora_1.jpg',\n",
       " 'Ixora_10.jpg',\n",
       " 'Ixora_11.jpg',\n",
       " 'Ixora_2.jpg',\n",
       " 'Ixora_3.jpg',\n",
       " 'Ixora_5.jpg',\n",
       " 'Ixora_8.jpg',\n",
       " 'Ixora_9.jpg',\n",
       " 'Jasminum sambac_1.jpg',\n",
       " 'Jasminum sambac_2.jpg',\n",
       " 'Jasminum sambac_3.jpg',\n",
       " 'Jasminum sambac_4.jpg',\n",
       " 'Jasminum sambac_5.jpg',\n",
       " 'Jasminum sambac_6.jpg',\n",
       " 'Jasminum sambac_7.jpg',\n",
       " 'Jasminum sambac_8.jpg',\n",
       " 'Murraya paniculata_1.jpg',\n",
       " 'Murraya paniculata_10.jpg',\n",
       " 'Murraya paniculata_2.jpg',\n",
       " 'Murraya paniculata_3.jpg',\n",
       " 'Murraya paniculata_4.jpg',\n",
       " 'Murraya paniculata_5.jpg',\n",
       " 'Murraya paniculata_6.jpg',\n",
       " 'Murraya paniculata_7.jpg',\n",
       " 'Murraya paniculata_8.jpg',\n",
       " 'Murraya paniculata_9.jpg',\n",
       " 'Ocimum sanctum_1.jpg',\n",
       " 'Ocimum sanctum_10.jpg',\n",
       " 'Ocimum sanctum_2.jpg',\n",
       " 'Ocimum sanctum_3.jpg',\n",
       " 'Ocimum sanctum_4.jpg',\n",
       " 'Ocimum sanctum_5.jpg',\n",
       " 'Ocimum sanctum_6.jpg',\n",
       " 'Ocimum sanctum_7.jpg',\n",
       " 'Ocimum sanctum_8.jpg',\n",
       " 'Ocimum sanctum_9.jpg',\n",
       " 'Ocimum tenuiflorum_1.jpg',\n",
       " 'Ocimum tenuiflorum_10.jpg',\n",
       " 'Ocimum tenuiflorum_11.jpg',\n",
       " 'Ocimum tenuiflorum_2.jpg',\n",
       " 'Ocimum tenuiflorum_3.jpg',\n",
       " 'Ocimum tenuiflorum_4.jpg',\n",
       " 'Ocimum tenuiflorum_5.jpg',\n",
       " 'Ocimum tenuiflorum_6.jpg',\n",
       " 'Ocimum tenuiflorum_7.jpg',\n",
       " 'Ocimum tenuiflorum_8.jpg',\n",
       " 'Ocimum tenuiflorum_9.jpg',\n",
       " 'Plumeria alba_1.jpg',\n",
       " 'Plumeria alba_10.jpg',\n",
       " 'Plumeria alba_2.jpg',\n",
       " 'Plumeria alba_3.jpg',\n",
       " 'Plumeria alba_4.jpg',\n",
       " 'Plumeria alba_5.jpg',\n",
       " 'Plumeria alba_6.jpg',\n",
       " 'Plumeria alba_7.jpg',\n",
       " 'Plumeria alba_8.jpg',\n",
       " 'Plumeria alba_9.jpg',\n",
       " 'Portulaca grandiflora_1.jpg',\n",
       " 'Portulaca grandiflora_10.jpg',\n",
       " 'Portulaca grandiflora_2.jpg',\n",
       " 'Portulaca grandiflora_3.jpg',\n",
       " 'Portulaca grandiflora_4.jpg',\n",
       " 'Portulaca grandiflora_5.jpg',\n",
       " 'Portulaca grandiflora_6.jpg',\n",
       " 'Portulaca grandiflora_7.jpg',\n",
       " 'Portulaca grandiflora_8.jpg',\n",
       " 'Portulaca grandiflora_9.jpg',\n",
       " 'Sphagneticola trilobata_1.jpg',\n",
       " 'Sphagneticola trilobata_10.jpg',\n",
       " 'Sphagneticola trilobata_2.jpg',\n",
       " 'Sphagneticola trilobata_3.jpg',\n",
       " 'Sphagneticola trilobata_4.jpg',\n",
       " 'Sphagneticola trilobata_5.jpg',\n",
       " 'Sphagneticola trilobata_6.jpg',\n",
       " 'Sphagneticola trilobata_7.jpg',\n",
       " 'Sphagneticola trilobata_8.jpg',\n",
       " 'Sphagneticola trilobata_9.jpg',\n",
       " 'Tabernaemontana divaricata_1.jpg',\n",
       " 'Tabernaemontana divaricata_2.jpg',\n",
       " 'Tabernaemontana divaricata_3.jpg',\n",
       " 'Tabernaemontana divaricata_4.jpg',\n",
       " 'Tabernaemontana divaricata_5.jpg',\n",
       " 'Tabernaemontana divaricata_6.jpg',\n",
       " 'Tabernaemontana divaricata_7.jpg',\n",
       " 'Tagetes erecta_1.jpg',\n",
       " 'Tagetes erecta_2.jpg',\n",
       " 'Tagetes erecta_3.jpg',\n",
       " 'Tagetes erecta_4.jpg',\n",
       " 'Tamarindus indica_1.jpg',\n",
       " 'Tamarindus indica_10.jpg',\n",
       " 'Tamarindus indica_11.jpg',\n",
       " 'Tamarindus indica_2.jpg',\n",
       " 'Tamarindus indica_3.jpg',\n",
       " 'Tamarindus indica_4.jpg',\n",
       " 'Tamarindus indica_5.jpg',\n",
       " 'Tamarindus indica_6.jpg',\n",
       " 'Tamarindus indica_7.jpg',\n",
       " 'Tamarindus indica_8.jpg',\n",
       " 'Tamarindus indica_9.jpg',\n",
       " 'Tecoma capensis_1.jpg',\n",
       " 'Tecoma capensis_10.jpg',\n",
       " 'Tecoma capensis_2.jpg',\n",
       " 'Tecoma capensis_3.jpg',\n",
       " 'Tecoma capensis_4.jpg',\n",
       " 'Tecoma capensis_5.jpg',\n",
       " 'Tecoma capensis_6.jpg',\n",
       " 'Tecoma capensis_7.jpg',\n",
       " 'Tecoma capensis_8.jpg',\n",
       " 'Tecoma capensis_9.jpg',\n",
       " 'Tecomaria capensis_1.jpg',\n",
       " 'Tecomaria capensis_10.jpg',\n",
       " 'Tecomaria capensis_2.jpg',\n",
       " 'Tecomaria capensis_3.jpg',\n",
       " 'Tecomaria capensis_4.jpg',\n",
       " 'Tecomaria capensis_5.jpg',\n",
       " 'Tecomaria capensis_6.jpg',\n",
       " 'Tecomaria capensis_7.jpg',\n",
       " 'Tecomaria capensis_8.jpg',\n",
       " 'Tecomaria capensis_9.jpg']"
      ]
     },
     "execution_count": 159,
     "metadata": {},
     "output_type": "execute_result"
    }
   ],
   "source": [
    "# Predics the for the first 5 images in the test folder and plot the results\n",
    "\n",
    "filenames = os.listdir(\"C:/SRIPdataset/GPU/segmentation_model/datasets/test/images/\")\n",
    "filenames"
   ]
  },
  {
   "cell_type": "code",
   "execution_count": 169,
   "metadata": {},
   "outputs": [
    {
     "name": "stdout",
     "output_type": "stream",
     "text": [
      "\n",
      "0: 512x640 (no detections), 108.8ms\n",
      "Speed: 4.0ms preprocess, 108.8ms inference, 1.0ms postprocess per image at shape (1, 3, 512, 640)\n"
     ]
    }
   ],
   "source": [
    "# for the first five files in the test folder\n",
    "from PIL import Image\n",
    "import numpy as np\n",
    "import matplotlib.pyplot as plt\n",
    "resarr = []\n",
    "images = []\n",
    "\n",
    "for file in filenames[24:25]:\n",
    "    img = Image.open(\"C:/SRIPdataset/GPU/segmentation_model/datasets/test/images/\" + file)\n",
    "    results = model(img)\n",
    "    resarr.append(results)\n",
    "    images.append(img)\n",
    "    \n",
    "    "
   ]
  },
  {
   "cell_type": "code",
   "execution_count": 178,
   "metadata": {},
   "outputs": [
    {
     "data": {
      "text/plain": [
       "ultralytics.engine.results.Boxes object with attributes:\n",
       "\n",
       "cls: tensor([])\n",
       "conf: tensor([])\n",
       "data: tensor([], size=(0, 6))\n",
       "id: None\n",
       "is_track: False\n",
       "orig_shape: (1024, 1280)\n",
       "shape: torch.Size([0, 6])\n",
       "xywh: tensor([], size=(0, 4))\n",
       "xywhn: tensor([], size=(0, 4))\n",
       "xyxy: tensor([], size=(0, 4))\n",
       "xyxyn: tensor([], size=(0, 4))"
      ]
     },
     "execution_count": 178,
     "metadata": {},
     "output_type": "execute_result"
    }
   ],
   "source": [
    "results[0].boxes"
   ]
  },
  {
   "cell_type": "code",
   "execution_count": null,
   "metadata": {},
   "outputs": [],
   "source": []
  }
 ],
 "metadata": {
  "kernelspec": {
   "display_name": "mnist",
   "language": "python",
   "name": "python3"
  },
  "language_info": {
   "codemirror_mode": {
    "name": "ipython",
    "version": 3
   },
   "file_extension": ".py",
   "mimetype": "text/x-python",
   "name": "python",
   "nbconvert_exporter": "python",
   "pygments_lexer": "ipython3",
   "version": "3.11.9"
  }
 },
 "nbformat": 4,
 "nbformat_minor": 2
}
