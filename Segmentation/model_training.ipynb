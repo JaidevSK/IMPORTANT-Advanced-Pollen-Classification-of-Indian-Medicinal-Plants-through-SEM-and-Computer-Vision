{
 "cells": [
  {
   "cell_type": "code",
   "execution_count": 22,
   "metadata": {},
   "outputs": [],
   "source": [
    "from ultralytics import YOLO\n",
    "\n",
    "model = YOLO(\"yolo11n-seg.yaml\")\n"
   ]
  },
  {
   "cell_type": "code",
   "execution_count": 23,
   "metadata": {},
   "outputs": [
    {
     "name": "stdout",
     "output_type": "stream",
     "text": [
      "Ultralytics 8.3.17 🚀 Python-3.9.20 torch-1.13.1+cu117 CPU (Intel Core(TM) i7-5960X 3.00GHz)\n",
      "WARNING ⚠️ Upgrade to torch>=2.0.0 for deterministic training.\n",
      "\u001b[34m\u001b[1mengine/trainer: \u001b[0mtask=segment, mode=train, model=yolo11n-seg.yaml, data=/home/project/Jaidev/GPU/segmentation_model/data.yaml, epochs=20, time=None, patience=100, batch=8, imgsz=640, save=True, save_period=-1, cache=False, device=cpu, workers=8, project=None, name=train, exist_ok=False, pretrained=True, optimizer=auto, verbose=True, seed=0, deterministic=True, single_cls=False, rect=False, cos_lr=False, close_mosaic=10, resume=False, amp=True, fraction=1.0, profile=False, freeze=None, multi_scale=False, overlap_mask=True, mask_ratio=4, dropout=0.0, val=True, split=val, save_json=False, save_hybrid=False, conf=None, iou=0.7, max_det=300, half=False, dnn=False, plots=True, source=None, vid_stride=1, stream_buffer=False, visualize=False, augment=False, agnostic_nms=False, classes=None, retina_masks=False, embed=None, show=False, save_frames=False, save_txt=False, save_conf=False, save_crop=False, show_labels=True, show_conf=True, show_boxes=True, line_width=None, format=torchscript, keras=False, optimize=False, int8=False, dynamic=False, simplify=True, opset=None, workspace=4, nms=False, lr0=0.01, lrf=0.01, momentum=0.937, weight_decay=0.0005, warmup_epochs=3.0, warmup_momentum=0.8, warmup_bias_lr=0.1, box=7.5, cls=0.5, dfl=1.5, pose=12.0, kobj=1.0, label_smoothing=0.0, nbs=64, hsv_h=0.015, hsv_s=0.7, hsv_v=0.4, degrees=0.0, translate=0.1, scale=0.5, shear=0.0, perspective=0.0, flipud=0.0, fliplr=0.5, bgr=0.0, mosaic=1.0, mixup=0.0, copy_paste=0.0, copy_paste_mode=flip, auto_augment=randaugment, erasing=0.4, crop_fraction=1.0, cfg=None, tracker=botsort.yaml, save_dir=runs/segment/train\n",
      "Overriding model.yaml nc=80 with nc=1\n",
      "\n",
      "                   from  n    params  module                                       arguments                     \n",
      "  0                  -1  1       464  ultralytics.nn.modules.conv.Conv             [3, 16, 3, 2]                 \n",
      "  1                  -1  1      4672  ultralytics.nn.modules.conv.Conv             [16, 32, 3, 2]                \n",
      "  2                  -1  1      6640  ultralytics.nn.modules.block.C3k2            [32, 64, 1, False, 0.25]      \n",
      "  3                  -1  1     36992  ultralytics.nn.modules.conv.Conv             [64, 64, 3, 2]                \n",
      "  4                  -1  1     26080  ultralytics.nn.modules.block.C3k2            [64, 128, 1, False, 0.25]     \n",
      "  5                  -1  1    147712  ultralytics.nn.modules.conv.Conv             [128, 128, 3, 2]              \n",
      "  6                  -1  1     87040  ultralytics.nn.modules.block.C3k2            [128, 128, 1, True]           \n",
      "  7                  -1  1    295424  ultralytics.nn.modules.conv.Conv             [128, 256, 3, 2]              \n",
      "  8                  -1  1    346112  ultralytics.nn.modules.block.C3k2            [256, 256, 1, True]           \n",
      "  9                  -1  1    164608  ultralytics.nn.modules.block.SPPF            [256, 256, 5]                 \n",
      " 10                  -1  1    249728  ultralytics.nn.modules.block.C2PSA           [256, 256, 1]                 \n",
      " 11                  -1  1         0  torch.nn.modules.upsampling.Upsample         [None, 2, 'nearest']          \n",
      " 12             [-1, 6]  1         0  ultralytics.nn.modules.conv.Concat           [1]                           \n",
      " 13                  -1  1    111296  ultralytics.nn.modules.block.C3k2            [384, 128, 1, False]          \n",
      " 14                  -1  1         0  torch.nn.modules.upsampling.Upsample         [None, 2, 'nearest']          \n",
      " 15             [-1, 4]  1         0  ultralytics.nn.modules.conv.Concat           [1]                           \n",
      " 16                  -1  1     32096  ultralytics.nn.modules.block.C3k2            [256, 64, 1, False]           \n",
      " 17                  -1  1     36992  ultralytics.nn.modules.conv.Conv             [64, 64, 3, 2]                \n",
      " 18            [-1, 13]  1         0  ultralytics.nn.modules.conv.Concat           [1]                           \n",
      " 19                  -1  1     86720  ultralytics.nn.modules.block.C3k2            [192, 128, 1, False]          \n",
      " 20                  -1  1    147712  ultralytics.nn.modules.conv.Conv             [128, 128, 3, 2]              \n",
      " 21            [-1, 10]  1         0  ultralytics.nn.modules.conv.Concat           [1]                           \n",
      " 22                  -1  1    378880  ultralytics.nn.modules.block.C3k2            [384, 256, 1, True]           \n",
      " 23        [16, 19, 22]  1    683635  ultralytics.nn.modules.head.Segment          [1, 32, 64, [64, 128, 256]]   \n",
      "YOLO11n-seg summary: 355 layers, 2,842,803 parameters, 2,842,787 gradients, 10.4 GFLOPs\n",
      "\n",
      "Freezing layer 'model.23.dfl.conv.weight'\n"
     ]
    },
    {
     "name": "stderr",
     "output_type": "stream",
     "text": [
      "\u001b[34m\u001b[1mtrain: \u001b[0mScanning /home/project/Jaidev/GPU/segmentation_model/datasets/train/labels.cache... 271 images, 0 backgrounds, 0 corrupt: 100%|██████████| 271/271 [00:00<?, ?it/s]\n",
      "\u001b[34m\u001b[1mval: \u001b[0mScanning /home/project/Jaidev/GPU/segmentation_model/datasets/val/labels.cache... 271 images, 0 backgrounds, 0 corrupt: 100%|██████████| 271/271 [00:00<?, ?it/s]"
     ]
    },
    {
     "name": "stdout",
     "output_type": "stream",
     "text": [
      "Plotting labels to runs/segment/train/labels.jpg... \n"
     ]
    },
    {
     "name": "stderr",
     "output_type": "stream",
     "text": [
      "\n"
     ]
    },
    {
     "name": "stdout",
     "output_type": "stream",
     "text": [
      "\u001b[34m\u001b[1moptimizer:\u001b[0m 'optimizer=auto' found, ignoring 'lr0=0.01' and 'momentum=0.937' and determining best 'optimizer', 'lr0' and 'momentum' automatically... \n",
      "\u001b[34m\u001b[1moptimizer:\u001b[0m AdamW(lr=0.002, momentum=0.9) with parameter groups 90 weight(decay=0.0), 101 weight(decay=0.0005), 100 bias(decay=0.0)\n",
      "Image sizes 640 train, 640 val\n",
      "Using 0 dataloader workers\n",
      "Logging results to \u001b[1mruns/segment/train\u001b[0m\n",
      "Starting training for 20 epochs...\n",
      "\n",
      "      Epoch    GPU_mem   box_loss   seg_loss   cls_loss   dfl_loss  Instances       Size\n"
     ]
    },
    {
     "name": "stderr",
     "output_type": "stream",
     "text": [
      "       1/20         0G      3.001      4.777      3.697      4.112         18        640: 100%|██████████| 34/34 [00:57<00:00,  1.68s/it]\n",
      "                 Class     Images  Instances      Box(P          R      mAP50  mAP50-95)     Mask(P          R      mAP50  mAP50-95): 100%|██████████| 17/17 [00:22<00:00,  1.34s/it]"
     ]
    },
    {
     "name": "stdout",
     "output_type": "stream",
     "text": [
      "                   all        271        271    0.00332      0.948      0.039    0.00942    0.00319      0.911     0.0116    0.00231\n"
     ]
    },
    {
     "name": "stderr",
     "output_type": "stream",
     "text": [
      "\n"
     ]
    },
    {
     "name": "stdout",
     "output_type": "stream",
     "text": [
      "\n",
      "      Epoch    GPU_mem   box_loss   seg_loss   cls_loss   dfl_loss  Instances       Size\n"
     ]
    },
    {
     "name": "stderr",
     "output_type": "stream",
     "text": [
      "       2/20         0G      2.912      4.136       3.52      3.932         16        640: 100%|██████████| 34/34 [00:54<00:00,  1.62s/it]\n",
      "                 Class     Images  Instances      Box(P          R      mAP50  mAP50-95)     Mask(P          R      mAP50  mAP50-95): 100%|██████████| 17/17 [00:21<00:00,  1.27s/it]"
     ]
    },
    {
     "name": "stdout",
     "output_type": "stream",
     "text": [
      "                   all        271        271    0.00316      0.948        0.1     0.0283    0.00304      0.911     0.0529     0.0106\n"
     ]
    },
    {
     "name": "stderr",
     "output_type": "stream",
     "text": [
      "\n"
     ]
    },
    {
     "name": "stdout",
     "output_type": "stream",
     "text": [
      "\n",
      "      Epoch    GPU_mem   box_loss   seg_loss   cls_loss   dfl_loss  Instances       Size\n"
     ]
    },
    {
     "name": "stderr",
     "output_type": "stream",
     "text": [
      "       3/20         0G      2.869      3.816      3.439      3.708         19        640: 100%|██████████| 34/34 [00:54<00:00,  1.62s/it]\n",
      "                 Class     Images  Instances      Box(P          R      mAP50  mAP50-95)     Mask(P          R      mAP50  mAP50-95): 100%|██████████| 17/17 [00:21<00:00,  1.29s/it]"
     ]
    },
    {
     "name": "stdout",
     "output_type": "stream",
     "text": [
      "                   all        271        271    0.00319      0.956     0.0534     0.0159    0.00304      0.911     0.0272    0.00606\n"
     ]
    },
    {
     "name": "stderr",
     "output_type": "stream",
     "text": [
      "\n"
     ]
    },
    {
     "name": "stdout",
     "output_type": "stream",
     "text": [
      "\n",
      "      Epoch    GPU_mem   box_loss   seg_loss   cls_loss   dfl_loss  Instances       Size\n"
     ]
    },
    {
     "name": "stderr",
     "output_type": "stream",
     "text": [
      "       4/20         0G      2.733      3.527      3.254      3.528         11        640: 100%|██████████| 34/34 [00:54<00:00,  1.60s/it]\n",
      "                 Class     Images  Instances      Box(P          R      mAP50  mAP50-95)     Mask(P          R      mAP50  mAP50-95): 100%|██████████| 17/17 [00:21<00:00,  1.24s/it]"
     ]
    },
    {
     "name": "stdout",
     "output_type": "stream",
     "text": [
      "                   all        271        271    0.00513      0.882     0.0197    0.00403          0          0          0          0\n"
     ]
    },
    {
     "name": "stderr",
     "output_type": "stream",
     "text": [
      "\n"
     ]
    },
    {
     "name": "stdout",
     "output_type": "stream",
     "text": [
      "\n",
      "      Epoch    GPU_mem   box_loss   seg_loss   cls_loss   dfl_loss  Instances       Size\n"
     ]
    },
    {
     "name": "stderr",
     "output_type": "stream",
     "text": [
      "       5/20         0G      2.743      3.268       3.21      3.388         13        640: 100%|██████████| 34/34 [00:57<00:00,  1.70s/it]\n",
      "                 Class     Images  Instances      Box(P          R      mAP50  mAP50-95)     Mask(P          R      mAP50  mAP50-95): 100%|██████████| 17/17 [00:23<00:00,  1.36s/it]"
     ]
    },
    {
     "name": "stdout",
     "output_type": "stream",
     "text": [
      "                   all        271        271      0.156      0.332      0.142     0.0425      0.149      0.317      0.139     0.0438\n"
     ]
    },
    {
     "name": "stderr",
     "output_type": "stream",
     "text": [
      "\n"
     ]
    },
    {
     "name": "stdout",
     "output_type": "stream",
     "text": [
      "\n",
      "      Epoch    GPU_mem   box_loss   seg_loss   cls_loss   dfl_loss  Instances       Size\n"
     ]
    },
    {
     "name": "stderr",
     "output_type": "stream",
     "text": [
      "       6/20         0G      2.738      3.035      3.101      3.304         18        640: 100%|██████████| 34/34 [00:57<00:00,  1.68s/it]\n",
      "                 Class     Images  Instances      Box(P          R      mAP50  mAP50-95)     Mask(P          R      mAP50  mAP50-95): 100%|██████████| 17/17 [00:23<00:00,  1.36s/it]"
     ]
    },
    {
     "name": "stdout",
     "output_type": "stream",
     "text": [
      "                   all        271        271      0.144      0.225      0.106     0.0308      0.172      0.207      0.119     0.0472\n"
     ]
    },
    {
     "name": "stderr",
     "output_type": "stream",
     "text": [
      "\n"
     ]
    },
    {
     "name": "stdout",
     "output_type": "stream",
     "text": [
      "\n",
      "      Epoch    GPU_mem   box_loss   seg_loss   cls_loss   dfl_loss  Instances       Size\n"
     ]
    },
    {
     "name": "stderr",
     "output_type": "stream",
     "text": [
      "       7/20         0G      2.677      2.974      3.093      3.266         16        640: 100%|██████████| 34/34 [00:53<00:00,  1.57s/it]\n",
      "                 Class     Images  Instances      Box(P          R      mAP50  mAP50-95)     Mask(P          R      mAP50  mAP50-95): 100%|██████████| 17/17 [00:24<00:00,  1.42s/it]"
     ]
    },
    {
     "name": "stdout",
     "output_type": "stream",
     "text": [
      "                   all        271        271      0.154      0.417      0.153     0.0413      0.155      0.418      0.165     0.0689\n"
     ]
    },
    {
     "name": "stderr",
     "output_type": "stream",
     "text": [
      "\n"
     ]
    },
    {
     "name": "stdout",
     "output_type": "stream",
     "text": [
      "\n",
      "      Epoch    GPU_mem   box_loss   seg_loss   cls_loss   dfl_loss  Instances       Size\n"
     ]
    },
    {
     "name": "stderr",
     "output_type": "stream",
     "text": [
      "       8/20         0G       2.64      2.873      2.994      3.192         13        640: 100%|██████████| 34/34 [00:54<00:00,  1.61s/it]\n",
      "                 Class     Images  Instances      Box(P          R      mAP50  mAP50-95)     Mask(P          R      mAP50  mAP50-95): 100%|██████████| 17/17 [00:23<00:00,  1.38s/it]"
     ]
    },
    {
     "name": "stdout",
     "output_type": "stream",
     "text": [
      "                   all        271        271      0.207      0.395        0.2     0.0633      0.221      0.417      0.207     0.0831\n"
     ]
    },
    {
     "name": "stderr",
     "output_type": "stream",
     "text": [
      "\n"
     ]
    },
    {
     "name": "stdout",
     "output_type": "stream",
     "text": [
      "\n",
      "      Epoch    GPU_mem   box_loss   seg_loss   cls_loss   dfl_loss  Instances       Size\n"
     ]
    },
    {
     "name": "stderr",
     "output_type": "stream",
     "text": [
      "       9/20         0G      2.681      2.679      2.948      3.158         20        640: 100%|██████████| 34/34 [00:57<00:00,  1.69s/it]\n",
      "                 Class     Images  Instances      Box(P          R      mAP50  mAP50-95)     Mask(P          R      mAP50  mAP50-95): 100%|██████████| 17/17 [00:23<00:00,  1.39s/it]"
     ]
    },
    {
     "name": "stdout",
     "output_type": "stream",
     "text": [
      "                   all        271        271      0.179      0.417      0.172     0.0522      0.182      0.409      0.185      0.071\n"
     ]
    },
    {
     "name": "stderr",
     "output_type": "stream",
     "text": [
      "\n"
     ]
    },
    {
     "name": "stdout",
     "output_type": "stream",
     "text": [
      "\n",
      "      Epoch    GPU_mem   box_loss   seg_loss   cls_loss   dfl_loss  Instances       Size\n"
     ]
    },
    {
     "name": "stderr",
     "output_type": "stream",
     "text": [
      "      10/20         0G       2.61      2.524      2.897      3.107         20        640: 100%|██████████| 34/34 [00:57<00:00,  1.68s/it]\n",
      "                 Class     Images  Instances      Box(P          R      mAP50  mAP50-95)     Mask(P          R      mAP50  mAP50-95): 100%|██████████| 17/17 [00:23<00:00,  1.39s/it]"
     ]
    },
    {
     "name": "stdout",
     "output_type": "stream",
     "text": [
      "                   all        271        271      0.306      0.384      0.255     0.0858      0.314      0.376      0.266      0.106\n"
     ]
    },
    {
     "name": "stderr",
     "output_type": "stream",
     "text": [
      "\n"
     ]
    },
    {
     "name": "stdout",
     "output_type": "stream",
     "text": [
      "Closing dataloader mosaic\n",
      "\n",
      "      Epoch    GPU_mem   box_loss   seg_loss   cls_loss   dfl_loss  Instances       Size\n"
     ]
    },
    {
     "name": "stderr",
     "output_type": "stream",
     "text": [
      "      11/20         0G      2.309       2.76      3.195      2.937          7        640: 100%|██████████| 34/34 [00:56<00:00,  1.67s/it]\n",
      "                 Class     Images  Instances      Box(P          R      mAP50  mAP50-95)     Mask(P          R      mAP50  mAP50-95): 100%|██████████| 17/17 [00:23<00:00,  1.36s/it]"
     ]
    },
    {
     "name": "stdout",
     "output_type": "stream",
     "text": [
      "                   all        271        271      0.271      0.406      0.233     0.0652      0.302      0.395      0.262      0.105\n"
     ]
    },
    {
     "name": "stderr",
     "output_type": "stream",
     "text": [
      "\n"
     ]
    },
    {
     "name": "stdout",
     "output_type": "stream",
     "text": [
      "\n",
      "      Epoch    GPU_mem   box_loss   seg_loss   cls_loss   dfl_loss  Instances       Size\n"
     ]
    },
    {
     "name": "stderr",
     "output_type": "stream",
     "text": [
      "      12/20         0G      2.224      2.456       2.82      2.877          7        640: 100%|██████████| 34/34 [00:54<00:00,  1.60s/it]\n",
      "                 Class     Images  Instances      Box(P          R      mAP50  mAP50-95)     Mask(P          R      mAP50  mAP50-95): 100%|██████████| 17/17 [00:22<00:00,  1.35s/it]"
     ]
    },
    {
     "name": "stdout",
     "output_type": "stream",
     "text": [
      "                   all        271        271      0.182       0.45      0.197     0.0549      0.194      0.446      0.212     0.0891\n"
     ]
    },
    {
     "name": "stderr",
     "output_type": "stream",
     "text": [
      "\n"
     ]
    },
    {
     "name": "stdout",
     "output_type": "stream",
     "text": [
      "\n",
      "      Epoch    GPU_mem   box_loss   seg_loss   cls_loss   dfl_loss  Instances       Size\n"
     ]
    },
    {
     "name": "stderr",
     "output_type": "stream",
     "text": [
      "      13/20         0G      2.161      2.329      2.769      2.879          7        640: 100%|██████████| 34/34 [00:54<00:00,  1.61s/it]\n",
      "                 Class     Images  Instances      Box(P          R      mAP50  mAP50-95)     Mask(P          R      mAP50  mAP50-95): 100%|██████████| 17/17 [00:22<00:00,  1.31s/it]"
     ]
    },
    {
     "name": "stdout",
     "output_type": "stream",
     "text": [
      "                   all        271        271      0.303      0.395        0.3      0.118      0.311      0.396      0.303      0.151\n"
     ]
    },
    {
     "name": "stderr",
     "output_type": "stream",
     "text": [
      "\n"
     ]
    },
    {
     "name": "stdout",
     "output_type": "stream",
     "text": [
      "\n",
      "      Epoch    GPU_mem   box_loss   seg_loss   cls_loss   dfl_loss  Instances       Size\n"
     ]
    },
    {
     "name": "stderr",
     "output_type": "stream",
     "text": [
      "      14/20         0G      2.189      2.469      2.731      2.837          7        640: 100%|██████████| 34/34 [00:54<00:00,  1.60s/it]\n",
      "                 Class     Images  Instances      Box(P          R      mAP50  mAP50-95)     Mask(P          R      mAP50  mAP50-95): 100%|██████████| 17/17 [00:21<00:00,  1.26s/it]"
     ]
    },
    {
     "name": "stdout",
     "output_type": "stream",
     "text": [
      "                   all        271        271      0.175      0.432      0.202     0.0644      0.204      0.299      0.203     0.0771\n"
     ]
    },
    {
     "name": "stderr",
     "output_type": "stream",
     "text": [
      "\n"
     ]
    },
    {
     "name": "stdout",
     "output_type": "stream",
     "text": [
      "\n",
      "      Epoch    GPU_mem   box_loss   seg_loss   cls_loss   dfl_loss  Instances       Size\n"
     ]
    },
    {
     "name": "stderr",
     "output_type": "stream",
     "text": [
      "      15/20         0G      2.153      2.439      2.684      2.784          7        640: 100%|██████████| 34/34 [00:53<00:00,  1.56s/it]\n",
      "                 Class     Images  Instances      Box(P          R      mAP50  mAP50-95)     Mask(P          R      mAP50  mAP50-95): 100%|██████████| 17/17 [00:21<00:00,  1.26s/it]"
     ]
    },
    {
     "name": "stdout",
     "output_type": "stream",
     "text": [
      "                   all        271        271      0.504      0.524      0.478      0.214      0.501       0.52      0.476      0.291\n"
     ]
    },
    {
     "name": "stderr",
     "output_type": "stream",
     "text": [
      "\n"
     ]
    },
    {
     "name": "stdout",
     "output_type": "stream",
     "text": [
      "\n",
      "      Epoch    GPU_mem   box_loss   seg_loss   cls_loss   dfl_loss  Instances       Size\n"
     ]
    },
    {
     "name": "stderr",
     "output_type": "stream",
     "text": [
      "      16/20         0G      2.089      2.219      2.565       2.73          7        640: 100%|██████████| 34/34 [00:55<00:00,  1.64s/it]\n",
      "                 Class     Images  Instances      Box(P          R      mAP50  mAP50-95)     Mask(P          R      mAP50  mAP50-95): 100%|██████████| 17/17 [00:20<00:00,  1.23s/it]"
     ]
    },
    {
     "name": "stdout",
     "output_type": "stream",
     "text": [
      "                   all        271        271      0.536       0.52      0.507      0.254      0.524      0.509      0.506      0.328\n"
     ]
    },
    {
     "name": "stderr",
     "output_type": "stream",
     "text": [
      "\n"
     ]
    },
    {
     "name": "stdout",
     "output_type": "stream",
     "text": [
      "\n",
      "      Epoch    GPU_mem   box_loss   seg_loss   cls_loss   dfl_loss  Instances       Size\n"
     ]
    },
    {
     "name": "stderr",
     "output_type": "stream",
     "text": [
      "      17/20         0G       2.02      2.044      2.458      2.686          7        640: 100%|██████████| 34/34 [00:54<00:00,  1.59s/it]\n",
      "                 Class     Images  Instances      Box(P          R      mAP50  mAP50-95)     Mask(P          R      mAP50  mAP50-95): 100%|██████████| 17/17 [00:21<00:00,  1.26s/it]"
     ]
    },
    {
     "name": "stdout",
     "output_type": "stream",
     "text": [
      "                   all        271        271      0.468      0.579      0.509      0.255      0.471      0.565      0.505      0.316\n"
     ]
    },
    {
     "name": "stderr",
     "output_type": "stream",
     "text": [
      "\n"
     ]
    },
    {
     "name": "stdout",
     "output_type": "stream",
     "text": [
      "\n",
      "      Epoch    GPU_mem   box_loss   seg_loss   cls_loss   dfl_loss  Instances       Size\n"
     ]
    },
    {
     "name": "stderr",
     "output_type": "stream",
     "text": [
      "      18/20         0G      1.985       1.96      2.444      2.641          7        640: 100%|██████████| 34/34 [00:53<00:00,  1.59s/it]\n",
      "                 Class     Images  Instances      Box(P          R      mAP50  mAP50-95)     Mask(P          R      mAP50  mAP50-95): 100%|██████████| 17/17 [00:20<00:00,  1.23s/it]"
     ]
    },
    {
     "name": "stdout",
     "output_type": "stream",
     "text": [
      "                   all        271        271      0.545      0.619      0.579      0.283      0.544      0.595      0.571      0.359\n"
     ]
    },
    {
     "name": "stderr",
     "output_type": "stream",
     "text": [
      "\n"
     ]
    },
    {
     "name": "stdout",
     "output_type": "stream",
     "text": [
      "\n",
      "      Epoch    GPU_mem   box_loss   seg_loss   cls_loss   dfl_loss  Instances       Size\n"
     ]
    },
    {
     "name": "stderr",
     "output_type": "stream",
     "text": [
      "      19/20         0G      1.984      1.952      2.373      2.628          7        640: 100%|██████████| 34/34 [00:54<00:00,  1.61s/it]\n",
      "                 Class     Images  Instances      Box(P          R      mAP50  mAP50-95)     Mask(P          R      mAP50  mAP50-95): 100%|██████████| 17/17 [00:20<00:00,  1.23s/it]"
     ]
    },
    {
     "name": "stdout",
     "output_type": "stream",
     "text": [
      "                   all        271        271      0.732       0.59      0.679      0.328      0.725      0.587      0.675      0.435\n"
     ]
    },
    {
     "name": "stderr",
     "output_type": "stream",
     "text": [
      "\n"
     ]
    },
    {
     "name": "stdout",
     "output_type": "stream",
     "text": [
      "\n",
      "      Epoch    GPU_mem   box_loss   seg_loss   cls_loss   dfl_loss  Instances       Size\n"
     ]
    },
    {
     "name": "stderr",
     "output_type": "stream",
     "text": [
      "      20/20         0G      1.897      1.908      2.383      2.539          7        640: 100%|██████████| 34/34 [00:54<00:00,  1.61s/it]\n",
      "                 Class     Images  Instances      Box(P          R      mAP50  mAP50-95)     Mask(P          R      mAP50  mAP50-95): 100%|██████████| 17/17 [00:21<00:00,  1.25s/it]"
     ]
    },
    {
     "name": "stdout",
     "output_type": "stream",
     "text": [
      "                   all        271        271      0.687      0.624      0.702      0.346      0.689      0.629       0.71      0.473\n"
     ]
    },
    {
     "name": "stderr",
     "output_type": "stream",
     "text": [
      "\n"
     ]
    },
    {
     "name": "stdout",
     "output_type": "stream",
     "text": [
      "\n",
      "20 epochs completed in 0.434 hours.\n",
      "Optimizer stripped from runs/segment/train/weights/last.pt, 6.0MB\n",
      "Optimizer stripped from runs/segment/train/weights/best.pt, 6.0MB\n",
      "\n",
      "Validating runs/segment/train/weights/best.pt...\n",
      "WARNING ⚠️ validating an untrained model YAML will result in 0 mAP.\n",
      "Ultralytics 8.3.17 🚀 Python-3.9.20 torch-1.13.1+cu117 CPU (Intel Core(TM) i7-5960X 3.00GHz)\n",
      "YOLO11n-seg summary (fused): 265 layers, 2,834,763 parameters, 0 gradients, 10.2 GFLOPs\n"
     ]
    },
    {
     "name": "stderr",
     "output_type": "stream",
     "text": [
      "                 Class     Images  Instances      Box(P          R      mAP50  mAP50-95)     Mask(P          R      mAP50  mAP50-95): 100%|██████████| 17/17 [00:19<00:00,  1.17s/it]\n"
     ]
    },
    {
     "name": "stdout",
     "output_type": "stream",
     "text": [
      "                   all        271        271      0.685      0.625      0.702      0.346      0.689      0.629      0.709      0.473\n",
      "Speed: 0.6ms preprocess, 49.2ms inference, 0.0ms loss, 1.1ms postprocess per image\n",
      "Results saved to \u001b[1mruns/segment/train\u001b[0m\n"
     ]
    }
   ],
   "source": [
    "results = model.train(\n",
    "        batch=8,\n",
    "        device=\"cpu\",\n",
    "        data=\"/home/project/Jaidev/GPU/segmentation_model/data.yaml\",\n",
    "        epochs=20\n",
    "    )"
   ]
  },
  {
   "cell_type": "code",
   "execution_count": 24,
   "metadata": {},
   "outputs": [
    {
     "data": {
      "text/plain": [
       "ultralytics.utils.metrics.SegmentMetrics object with attributes:\n",
       "\n",
       "ap_class_index: array([0])\n",
       "box: ultralytics.utils.metrics.Metric object\n",
       "confusion_matrix: <ultralytics.utils.metrics.ConfusionMatrix object at 0x7fb755017100>\n",
       "curves: ['Precision-Recall(B)', 'F1-Confidence(B)', 'Precision-Confidence(B)', 'Recall-Confidence(B)', 'Precision-Recall(M)', 'F1-Confidence(M)', 'Precision-Confidence(M)', 'Recall-Confidence(M)']\n",
       "curves_results: [[array([          0,    0.001001,    0.002002,    0.003003,    0.004004,    0.005005,    0.006006,    0.007007,    0.008008,    0.009009,     0.01001,    0.011011,    0.012012,    0.013013,    0.014014,    0.015015,    0.016016,    0.017017,    0.018018,    0.019019,     0.02002,    0.021021,    0.022022,    0.023023,\n",
       "          0.024024,    0.025025,    0.026026,    0.027027,    0.028028,    0.029029,     0.03003,    0.031031,    0.032032,    0.033033,    0.034034,    0.035035,    0.036036,    0.037037,    0.038038,    0.039039,     0.04004,    0.041041,    0.042042,    0.043043,    0.044044,    0.045045,    0.046046,    0.047047,\n",
       "          0.048048,    0.049049,     0.05005,    0.051051,    0.052052,    0.053053,    0.054054,    0.055055,    0.056056,    0.057057,    0.058058,    0.059059,     0.06006,    0.061061,    0.062062,    0.063063,    0.064064,    0.065065,    0.066066,    0.067067,    0.068068,    0.069069,     0.07007,    0.071071,\n",
       "          0.072072,    0.073073,    0.074074,    0.075075,    0.076076,    0.077077,    0.078078,    0.079079,     0.08008,    0.081081,    0.082082,    0.083083,    0.084084,    0.085085,    0.086086,    0.087087,    0.088088,    0.089089,     0.09009,    0.091091,    0.092092,    0.093093,    0.094094,    0.095095,\n",
       "          0.096096,    0.097097,    0.098098,    0.099099,      0.1001,      0.1011,      0.1021,      0.1031,      0.1041,     0.10511,     0.10611,     0.10711,     0.10811,     0.10911,     0.11011,     0.11111,     0.11211,     0.11311,     0.11411,     0.11512,     0.11612,     0.11712,     0.11812,     0.11912,\n",
       "           0.12012,     0.12112,     0.12212,     0.12312,     0.12412,     0.12513,     0.12613,     0.12713,     0.12813,     0.12913,     0.13013,     0.13113,     0.13213,     0.13313,     0.13413,     0.13514,     0.13614,     0.13714,     0.13814,     0.13914,     0.14014,     0.14114,     0.14214,     0.14314,\n",
       "           0.14414,     0.14515,     0.14615,     0.14715,     0.14815,     0.14915,     0.15015,     0.15115,     0.15215,     0.15315,     0.15415,     0.15516,     0.15616,     0.15716,     0.15816,     0.15916,     0.16016,     0.16116,     0.16216,     0.16316,     0.16416,     0.16517,     0.16617,     0.16717,\n",
       "           0.16817,     0.16917,     0.17017,     0.17117,     0.17217,     0.17317,     0.17417,     0.17518,     0.17618,     0.17718,     0.17818,     0.17918,     0.18018,     0.18118,     0.18218,     0.18318,     0.18418,     0.18519,     0.18619,     0.18719,     0.18819,     0.18919,     0.19019,     0.19119,\n",
       "           0.19219,     0.19319,     0.19419,      0.1952,      0.1962,      0.1972,      0.1982,      0.1992,      0.2002,      0.2012,      0.2022,      0.2032,      0.2042,     0.20521,     0.20621,     0.20721,     0.20821,     0.20921,     0.21021,     0.21121,     0.21221,     0.21321,     0.21421,     0.21522,\n",
       "           0.21622,     0.21722,     0.21822,     0.21922,     0.22022,     0.22122,     0.22222,     0.22322,     0.22422,     0.22523,     0.22623,     0.22723,     0.22823,     0.22923,     0.23023,     0.23123,     0.23223,     0.23323,     0.23423,     0.23524,     0.23624,     0.23724,     0.23824,     0.23924,\n",
       "           0.24024,     0.24124,     0.24224,     0.24324,     0.24424,     0.24525,     0.24625,     0.24725,     0.24825,     0.24925,     0.25025,     0.25125,     0.25225,     0.25325,     0.25425,     0.25526,     0.25626,     0.25726,     0.25826,     0.25926,     0.26026,     0.26126,     0.26226,     0.26326,\n",
       "           0.26426,     0.26527,     0.26627,     0.26727,     0.26827,     0.26927,     0.27027,     0.27127,     0.27227,     0.27327,     0.27427,     0.27528,     0.27628,     0.27728,     0.27828,     0.27928,     0.28028,     0.28128,     0.28228,     0.28328,     0.28428,     0.28529,     0.28629,     0.28729,\n",
       "           0.28829,     0.28929,     0.29029,     0.29129,     0.29229,     0.29329,     0.29429,      0.2953,      0.2963,      0.2973,      0.2983,      0.2993,      0.3003,      0.3013,      0.3023,      0.3033,      0.3043,     0.30531,     0.30631,     0.30731,     0.30831,     0.30931,     0.31031,     0.31131,\n",
       "           0.31231,     0.31331,     0.31431,     0.31532,     0.31632,     0.31732,     0.31832,     0.31932,     0.32032,     0.32132,     0.32232,     0.32332,     0.32432,     0.32533,     0.32633,     0.32733,     0.32833,     0.32933,     0.33033,     0.33133,     0.33233,     0.33333,     0.33433,     0.33534,\n",
       "           0.33634,     0.33734,     0.33834,     0.33934,     0.34034,     0.34134,     0.34234,     0.34334,     0.34434,     0.34535,     0.34635,     0.34735,     0.34835,     0.34935,     0.35035,     0.35135,     0.35235,     0.35335,     0.35435,     0.35536,     0.35636,     0.35736,     0.35836,     0.35936,\n",
       "           0.36036,     0.36136,     0.36236,     0.36336,     0.36436,     0.36537,     0.36637,     0.36737,     0.36837,     0.36937,     0.37037,     0.37137,     0.37237,     0.37337,     0.37437,     0.37538,     0.37638,     0.37738,     0.37838,     0.37938,     0.38038,     0.38138,     0.38238,     0.38338,\n",
       "           0.38438,     0.38539,     0.38639,     0.38739,     0.38839,     0.38939,     0.39039,     0.39139,     0.39239,     0.39339,     0.39439,      0.3954,      0.3964,      0.3974,      0.3984,      0.3994,      0.4004,      0.4014,      0.4024,      0.4034,      0.4044,     0.40541,     0.40641,     0.40741,\n",
       "           0.40841,     0.40941,     0.41041,     0.41141,     0.41241,     0.41341,     0.41441,     0.41542,     0.41642,     0.41742,     0.41842,     0.41942,     0.42042,     0.42142,     0.42242,     0.42342,     0.42442,     0.42543,     0.42643,     0.42743,     0.42843,     0.42943,     0.43043,     0.43143,\n",
       "           0.43243,     0.43343,     0.43443,     0.43544,     0.43644,     0.43744,     0.43844,     0.43944,     0.44044,     0.44144,     0.44244,     0.44344,     0.44444,     0.44545,     0.44645,     0.44745,     0.44845,     0.44945,     0.45045,     0.45145,     0.45245,     0.45345,     0.45445,     0.45546,\n",
       "           0.45646,     0.45746,     0.45846,     0.45946,     0.46046,     0.46146,     0.46246,     0.46346,     0.46446,     0.46547,     0.46647,     0.46747,     0.46847,     0.46947,     0.47047,     0.47147,     0.47247,     0.47347,     0.47447,     0.47548,     0.47648,     0.47748,     0.47848,     0.47948,\n",
       "           0.48048,     0.48148,     0.48248,     0.48348,     0.48448,     0.48549,     0.48649,     0.48749,     0.48849,     0.48949,     0.49049,     0.49149,     0.49249,     0.49349,     0.49449,      0.4955,      0.4965,      0.4975,      0.4985,      0.4995,      0.5005,      0.5015,      0.5025,      0.5035,\n",
       "            0.5045,     0.50551,     0.50651,     0.50751,     0.50851,     0.50951,     0.51051,     0.51151,     0.51251,     0.51351,     0.51451,     0.51552,     0.51652,     0.51752,     0.51852,     0.51952,     0.52052,     0.52152,     0.52252,     0.52352,     0.52452,     0.52553,     0.52653,     0.52753,\n",
       "           0.52853,     0.52953,     0.53053,     0.53153,     0.53253,     0.53353,     0.53453,     0.53554,     0.53654,     0.53754,     0.53854,     0.53954,     0.54054,     0.54154,     0.54254,     0.54354,     0.54454,     0.54555,     0.54655,     0.54755,     0.54855,     0.54955,     0.55055,     0.55155,\n",
       "           0.55255,     0.55355,     0.55455,     0.55556,     0.55656,     0.55756,     0.55856,     0.55956,     0.56056,     0.56156,     0.56256,     0.56356,     0.56456,     0.56557,     0.56657,     0.56757,     0.56857,     0.56957,     0.57057,     0.57157,     0.57257,     0.57357,     0.57457,     0.57558,\n",
       "           0.57658,     0.57758,     0.57858,     0.57958,     0.58058,     0.58158,     0.58258,     0.58358,     0.58458,     0.58559,     0.58659,     0.58759,     0.58859,     0.58959,     0.59059,     0.59159,     0.59259,     0.59359,     0.59459,      0.5956,      0.5966,      0.5976,      0.5986,      0.5996,\n",
       "            0.6006,      0.6016,      0.6026,      0.6036,      0.6046,     0.60561,     0.60661,     0.60761,     0.60861,     0.60961,     0.61061,     0.61161,     0.61261,     0.61361,     0.61461,     0.61562,     0.61662,     0.61762,     0.61862,     0.61962,     0.62062,     0.62162,     0.62262,     0.62362,\n",
       "           0.62462,     0.62563,     0.62663,     0.62763,     0.62863,     0.62963,     0.63063,     0.63163,     0.63263,     0.63363,     0.63463,     0.63564,     0.63664,     0.63764,     0.63864,     0.63964,     0.64064,     0.64164,     0.64264,     0.64364,     0.64464,     0.64565,     0.64665,     0.64765,\n",
       "           0.64865,     0.64965,     0.65065,     0.65165,     0.65265,     0.65365,     0.65465,     0.65566,     0.65666,     0.65766,     0.65866,     0.65966,     0.66066,     0.66166,     0.66266,     0.66366,     0.66466,     0.66567,     0.66667,     0.66767,     0.66867,     0.66967,     0.67067,     0.67167,\n",
       "           0.67267,     0.67367,     0.67467,     0.67568,     0.67668,     0.67768,     0.67868,     0.67968,     0.68068,     0.68168,     0.68268,     0.68368,     0.68468,     0.68569,     0.68669,     0.68769,     0.68869,     0.68969,     0.69069,     0.69169,     0.69269,     0.69369,     0.69469,      0.6957,\n",
       "            0.6967,      0.6977,      0.6987,      0.6997,      0.7007,      0.7017,      0.7027,      0.7037,      0.7047,     0.70571,     0.70671,     0.70771,     0.70871,     0.70971,     0.71071,     0.71171,     0.71271,     0.71371,     0.71471,     0.71572,     0.71672,     0.71772,     0.71872,     0.71972,\n",
       "           0.72072,     0.72172,     0.72272,     0.72372,     0.72472,     0.72573,     0.72673,     0.72773,     0.72873,     0.72973,     0.73073,     0.73173,     0.73273,     0.73373,     0.73473,     0.73574,     0.73674,     0.73774,     0.73874,     0.73974,     0.74074,     0.74174,     0.74274,     0.74374,\n",
       "           0.74474,     0.74575,     0.74675,     0.74775,     0.74875,     0.74975,     0.75075,     0.75175,     0.75275,     0.75375,     0.75475,     0.75576,     0.75676,     0.75776,     0.75876,     0.75976,     0.76076,     0.76176,     0.76276,     0.76376,     0.76476,     0.76577,     0.76677,     0.76777,\n",
       "           0.76877,     0.76977,     0.77077,     0.77177,     0.77277,     0.77377,     0.77477,     0.77578,     0.77678,     0.77778,     0.77878,     0.77978,     0.78078,     0.78178,     0.78278,     0.78378,     0.78478,     0.78579,     0.78679,     0.78779,     0.78879,     0.78979,     0.79079,     0.79179,\n",
       "           0.79279,     0.79379,     0.79479,      0.7958,      0.7968,      0.7978,      0.7988,      0.7998,      0.8008,      0.8018,      0.8028,      0.8038,      0.8048,     0.80581,     0.80681,     0.80781,     0.80881,     0.80981,     0.81081,     0.81181,     0.81281,     0.81381,     0.81481,     0.81582,\n",
       "           0.81682,     0.81782,     0.81882,     0.81982,     0.82082,     0.82182,     0.82282,     0.82382,     0.82482,     0.82583,     0.82683,     0.82783,     0.82883,     0.82983,     0.83083,     0.83183,     0.83283,     0.83383,     0.83483,     0.83584,     0.83684,     0.83784,     0.83884,     0.83984,\n",
       "           0.84084,     0.84184,     0.84284,     0.84384,     0.84484,     0.84585,     0.84685,     0.84785,     0.84885,     0.84985,     0.85085,     0.85185,     0.85285,     0.85385,     0.85485,     0.85586,     0.85686,     0.85786,     0.85886,     0.85986,     0.86086,     0.86186,     0.86286,     0.86386,\n",
       "           0.86486,     0.86587,     0.86687,     0.86787,     0.86887,     0.86987,     0.87087,     0.87187,     0.87287,     0.87387,     0.87487,     0.87588,     0.87688,     0.87788,     0.87888,     0.87988,     0.88088,     0.88188,     0.88288,     0.88388,     0.88488,     0.88589,     0.88689,     0.88789,\n",
       "           0.88889,     0.88989,     0.89089,     0.89189,     0.89289,     0.89389,     0.89489,      0.8959,      0.8969,      0.8979,      0.8989,      0.8999,      0.9009,      0.9019,      0.9029,      0.9039,      0.9049,     0.90591,     0.90691,     0.90791,     0.90891,     0.90991,     0.91091,     0.91191,\n",
       "           0.91291,     0.91391,     0.91491,     0.91592,     0.91692,     0.91792,     0.91892,     0.91992,     0.92092,     0.92192,     0.92292,     0.92392,     0.92492,     0.92593,     0.92693,     0.92793,     0.92893,     0.92993,     0.93093,     0.93193,     0.93293,     0.93393,     0.93493,     0.93594,\n",
       "           0.93694,     0.93794,     0.93894,     0.93994,     0.94094,     0.94194,     0.94294,     0.94394,     0.94494,     0.94595,     0.94695,     0.94795,     0.94895,     0.94995,     0.95095,     0.95195,     0.95295,     0.95395,     0.95495,     0.95596,     0.95696,     0.95796,     0.95896,     0.95996,\n",
       "           0.96096,     0.96196,     0.96296,     0.96396,     0.96496,     0.96597,     0.96697,     0.96797,     0.96897,     0.96997,     0.97097,     0.97197,     0.97297,     0.97397,     0.97497,     0.97598,     0.97698,     0.97798,     0.97898,     0.97998,     0.98098,     0.98198,     0.98298,     0.98398,\n",
       "           0.98498,     0.98599,     0.98699,     0.98799,     0.98899,     0.98999,     0.99099,     0.99199,     0.99299,     0.99399,     0.99499,       0.996,       0.997,       0.998,       0.999,           1]), array([[          1,           1,           1,           1,           1,           1,           1,           1,           1,           1,           1,           1,           1,           1,           1,           1,           1,           1,           1,           1,           1,           1,           1,\n",
       "                  1,           1,           1,           1,           1,           1,           1,           1,           1,           1,           1,           1,           1,           1,           1,           1,           1,           1,           1,           1,           1,           1,           1,\n",
       "                  1,           1,           1,           1,           1,           1,           1,           1,           1,           1,           1,           1,           1,           1,           1,           1,           1,           1,           1,           1,           1,           1,           1,\n",
       "                  1,           1,           1,           1,           1,           1,           1,           1,           1,           1,           1,           1,           1,           1,           1,           1,           1,           1,           1,           1,           1,           1,           1,\n",
       "                  1,           1,           1,           1,           1,           1,           1,           1,           1,           1,           1,           1,           1,           1,           1,           1,           1,           1,           1,           1,           1,           1,           1,\n",
       "                  1,           1,           1,           1,           1,           1,           1,           1,           1,           1,           1,           1,           1,           1,           1,           1,           1,           1,           1,           1,           1,           1,           1,\n",
       "                  1,           1,           1,           1,           1,           1,           1,           1,           1,           1,           1,           1,           1,           1,           1,           1,           1,     0.98333,     0.98333,     0.98333,     0.98333,     0.98333,     0.98333,\n",
       "            0.98333,     0.98333,     0.98333,     0.98333,     0.98333,     0.98333,     0.98333,     0.98333,     0.98333,     0.98333,     0.98333,     0.98333,     0.98333,     0.98333,     0.98333,     0.98333,     0.98333,     0.98333,     0.98333,     0.98333,     0.98333,     0.98333,     0.98333,\n",
       "            0.98333,     0.98333,     0.98333,     0.98333,     0.98333,     0.98333,     0.98333,     0.98333,     0.98333,     0.98333,     0.98333,     0.98333,     0.98333,     0.98333,     0.98333,     0.98333,     0.98333,     0.98333,     0.98333,     0.98333,     0.98333,     0.98333,     0.98333,\n",
       "            0.98333,     0.98333,     0.98333,     0.98333,     0.98333,     0.98333,     0.98333,     0.98333,     0.98333,     0.98333,     0.98333,     0.97701,     0.97701,     0.97701,     0.97701,     0.97701,     0.97701,     0.97701,     0.97701,     0.97701,     0.97701,     0.97701,     0.97701,\n",
       "            0.97701,     0.97701,     0.97701,     0.97701,     0.97701,     0.97701,     0.97701,     0.97701,     0.97701,     0.97701,     0.97701,     0.97701,     0.97701,     0.97701,     0.97701,     0.97701,     0.97701,     0.97701,     0.97701,     0.97701,     0.97701,     0.97701,     0.97701,\n",
       "            0.97701,     0.97701,     0.97701,     0.97701,     0.97701,     0.97701,     0.97701,     0.97701,     0.97701,     0.97701,     0.97701,     0.97701,     0.97701,     0.97701,     0.97701,     0.97701,     0.97701,     0.97701,     0.97701,     0.97701,     0.97701,     0.97701,     0.97701,\n",
       "            0.97701,     0.97701,     0.97701,     0.97701,     0.97701,     0.97701,     0.97701,     0.97701,     0.97701,     0.97701,     0.97701,     0.97701,     0.97701,     0.97701,     0.97701,     0.97701,     0.97701,     0.97701,     0.97701,     0.97701,     0.97701,     0.97701,     0.97701,\n",
       "            0.97701,     0.97701,     0.97701,     0.97701,     0.97701,     0.97701,     0.97701,     0.97701,     0.97701,     0.97701,     0.97701,     0.97701,     0.97701,     0.97701,     0.97701,     0.96629,     0.96629,     0.96629,     0.96629,     0.95699,     0.95699,     0.95699,     0.95699,\n",
       "            0.95699,     0.95699,     0.95699,     0.95699,     0.95699,     0.95699,     0.95699,     0.94118,     0.94118,     0.94118,     0.94118,     0.94118,     0.94118,     0.94118,     0.94118,     0.94118,     0.94118,     0.94118,     0.94118,     0.94118,     0.94118,     0.94118,     0.94118,\n",
       "            0.94118,     0.94118,     0.94118,     0.94118,     0.94118,     0.94118,     0.94118,     0.94118,     0.94118,     0.93269,     0.93269,     0.93269,     0.93269,     0.92727,     0.92727,     0.92727,     0.92727,     0.92727,     0.92727,     0.92727,     0.92727,     0.92727,     0.92727,\n",
       "            0.92727,     0.92727,     0.92727,     0.92727,     0.92727,     0.92727,     0.92727,     0.92727,     0.92727,     0.91964,     0.91964,     0.91964,     0.89744,     0.89744,     0.89744,     0.89744,     0.89744,     0.89744,     0.89744,     0.89744,     0.89516,     0.89516,     0.89516,\n",
       "            0.89516,     0.89516,     0.89516,     0.89516,     0.89516,     0.89516,     0.89516,     0.89516,     0.89516,     0.89516,     0.89516,     0.89516,     0.89516,     0.89516,     0.89516,     0.89516,     0.89516,     0.89516,     0.89516,     0.89147,     0.89147,     0.89147,     0.89147,\n",
       "            0.89147,     0.89147,     0.89147,     0.89147,     0.89147,     0.89147,     0.89147,     0.89147,     0.89147,     0.89147,      0.8855,      0.8855,      0.8855,      0.8855,      0.8806,      0.8806,      0.8806,      0.8806,      0.8806,      0.8806,      0.8806,     0.87591,     0.87591,\n",
       "            0.87591,     0.87591,     0.87591,     0.87591,     0.87591,     0.87591,     0.87234,     0.87234,     0.87234,     0.87234,     0.87234,     0.87234,     0.87234,     0.87234,     0.87234,     0.87234,     0.87234,     0.86111,     0.86111,     0.86111,     0.86111,     0.84516,     0.84516,\n",
       "            0.84516,     0.84516,     0.84516,     0.84516,     0.84516,     0.84516,     0.84516,     0.84516,     0.84516,     0.84516,     0.84516,     0.84516,     0.84516,     0.84516,     0.84516,     0.84516,     0.84516,     0.84516,     0.84516,     0.84516,     0.84516,     0.84516,     0.84516,\n",
       "            0.83333,     0.83333,     0.83333,     0.83333,     0.83333,     0.83333,     0.83333,     0.83333,     0.83333,     0.83333,     0.83333,     0.83333,     0.83333,     0.83333,     0.83333,     0.82249,     0.82249,     0.82249,     0.82249,     0.82249,     0.82249,     0.82249,     0.82249,\n",
       "            0.82249,     0.82249,     0.82249,     0.82249,     0.82249,     0.82249,     0.82249,     0.81503,     0.81503,     0.81503,     0.81503,     0.81503,     0.81503,     0.81503,     0.79775,     0.79775,     0.79775,     0.79775,     0.79444,     0.79444,     0.79444,     0.79444,     0.79348,\n",
       "            0.79348,     0.79348,     0.79348,     0.79348,     0.79348,     0.79348,     0.79348,     0.79348,     0.79348,     0.79348,     0.79058,     0.79058,     0.79058,     0.79058,     0.79058,     0.79058,     0.79058,     0.79058,     0.79058,     0.79058,     0.79058,     0.79058,     0.79058,\n",
       "            0.79058,     0.79058,     0.79058,     0.79058,     0.79058,     0.78351,     0.78351,     0.78351,     0.78351,     0.77665,     0.77665,     0.77665,     0.77665,       0.775,       0.775,       0.775,       0.775,       0.775,       0.775,       0.775,      0.7734,      0.7734,      0.7734,\n",
       "             0.7734,      0.7734,      0.7734,      0.7734,     0.76812,     0.76812,     0.76812,     0.76812,     0.76812,     0.76812,     0.76812,     0.76812,     0.76777,     0.76777,     0.76777,     0.76777,     0.76777,     0.76777,     0.76777,     0.76777,     0.76777,     0.76777,     0.76777,\n",
       "            0.72768,     0.72768,     0.72768,     0.72566,     0.72566,     0.72566,     0.72566,     0.71429,     0.71429,     0.71429,     0.71429,      0.7094,      0.7094,      0.7094,     0.70763,     0.70763,     0.70763,     0.70763,         0.7,         0.7,         0.7,         0.7,     0.69835,\n",
       "            0.69835,     0.69835,     0.68775,     0.68775,     0.68775,     0.68775,     0.68775,     0.68775,     0.68775,     0.68775,     0.68775,     0.68775,     0.68775,     0.68775,     0.68775,     0.68775,     0.68775,     0.68775,     0.68775,     0.68775,     0.68775,     0.67954,     0.67954,\n",
       "            0.67954,     0.67954,     0.67954,     0.67954,     0.67954,     0.67557,     0.67557,     0.67557,     0.67557,      0.6717,      0.6717,      0.6717,      0.6717,     0.64982,     0.64982,     0.64982,     0.64982,     0.64982,     0.64982,     0.64982,     0.64789,     0.64789,     0.64789,\n",
       "            0.64789,     0.64789,     0.64789,     0.64789,     0.64789,     0.64789,     0.64789,     0.64789,     0.64789,     0.64789,     0.64789,     0.64789,     0.63793,     0.63793,     0.63793,     0.61184,     0.61184,     0.61184,     0.61184,     0.60518,     0.60518,     0.60518,     0.60518,\n",
       "            0.59873,     0.59873,     0.59873,     0.59873,     0.58696,     0.58696,     0.58696,     0.57229,     0.57229,     0.57229,     0.57229,     0.57015,     0.57015,     0.57015,     0.57015,     0.56637,     0.56637,     0.56637,     0.56433,     0.56433,     0.56433,     0.56433,     0.56395,\n",
       "            0.56395,     0.56395,     0.56395,     0.55556,     0.55556,     0.55556,     0.54902,     0.54902,     0.54902,     0.54902,     0.54875,     0.54875,     0.54875,     0.54875,     0.53951,     0.53951,     0.53951,     0.53495,     0.53495,     0.53495,     0.53495,     0.52356,     0.52356,\n",
       "            0.52356,     0.52356,     0.51804,     0.51804,     0.51804,     0.51269,     0.51269,     0.51269,     0.51269,     0.51128,     0.51128,     0.51128,     0.51128,     0.51128,     0.51128,     0.51128,     0.51128,     0.50995,     0.50995,     0.50995,     0.50864,     0.50864,     0.50864,\n",
       "            0.50864,     0.48364,     0.48364,     0.48364,     0.48364,     0.47489,     0.47489,     0.47489,      0.4698,      0.4698,      0.4698,      0.4698,      0.4698,      0.4698,      0.4698,      0.4698,      0.4587,      0.4587,      0.4587,     0.44915,     0.44915,     0.44915,     0.44915,\n",
       "            0.44283,     0.44283,     0.44283,     0.44283,     0.43763,     0.43763,     0.43763,     0.42323,     0.42323,     0.42323,     0.42323,     0.42105,     0.42105,     0.42105,     0.42105,     0.40485,     0.40485,     0.40485,     0.40074,     0.40074,     0.40074,     0.40074,     0.38968,\n",
       "            0.38968,     0.38968,     0.38968,     0.36066,     0.36066,     0.36066,     0.35968,     0.35968,     0.35968,     0.35968,     0.35968,     0.35968,     0.35968,     0.35968,     0.35968,     0.35968,     0.35968,     0.35968,     0.35489,     0.35489,     0.35489,     0.35489,     0.35489,\n",
       "            0.35489,     0.35489,     0.33883,     0.33883,     0.33883,     0.33883,     0.31616,     0.31616,     0.31616,     0.27143,     0.27143,     0.27143,     0.27143,     0.23272,     0.23272,     0.23272,     0.23272,     0.23209,     0.23209,     0.23209,     0.23008,     0.23008,     0.23008,\n",
       "            0.23008,     0.22415,     0.22415,     0.22415,     0.22415,     0.22382,     0.22382,     0.22382,      0.2093,      0.2093,      0.2093,      0.2093,     0.19567,     0.19567,     0.19567,     0.19567,     0.19109,     0.19109,     0.19109,     0.16916,     0.16916,     0.16916,     0.16916,\n",
       "            0.15648,     0.15648,     0.15648,     0.15648,     0.13977,     0.13977,     0.13977,     0.13977,     0.13115,     0.13115,     0.13115,     0.12487,     0.12487,     0.12487,     0.12487,     0.11168,     0.11168,     0.11168,     0.11168,     0.10738,     0.10738,     0.10738,     0.10613,\n",
       "            0.10613,     0.10613,     0.10613,     0.10333,     0.10333,     0.10333,     0.10333,    0.099959,    0.099959,    0.099959,    0.089234,    0.089234,    0.089234,    0.089234,    0.084239,    0.084239,    0.084239,    0.084239,    0.079224,    0.079224,    0.079224,    0.076359,    0.076359,\n",
       "           0.076359,    0.076359,    0.069916,    0.069916,    0.069916,    0.069916,    0.068256,    0.068256,    0.068256,    0.066144,    0.066144,    0.066144,    0.066144,    0.061254,    0.061254,    0.061254,    0.061254,    0.061254,    0.061254,    0.061254,    0.061254,    0.055507,    0.055507,\n",
       "           0.055507,    0.049328,    0.049328,    0.049328,    0.049328,     0.04696,     0.04696,     0.04696,     0.04696,    0.045971,    0.045971,    0.045971,     0.04041,     0.04041,     0.04041,     0.04041,    0.038024,    0.038024,    0.038024,    0.038024,    0.022008,    0.022008,    0.022008,\n",
       "           0.020715,    0.020715,    0.020715,    0.020715,    0.019883,    0.019883,    0.019883,    0.019883,    0.011114,    0.011114,    0.011114,    0.010302,    0.010302,    0.010302,    0.010302,   0.0077777,   0.0077777,   0.0077777,   0.0077777,   0.0043643,   0.0040526,   0.0037409,   0.0034291,\n",
       "          0.0031174,   0.0028057,   0.0024939,   0.0021822,   0.0018704,   0.0015587,    0.001247,  0.00093522,  0.00062348,  0.00031174,           0]]), 'Recall', 'Precision'], [array([          0,    0.001001,    0.002002,    0.003003,    0.004004,    0.005005,    0.006006,    0.007007,    0.008008,    0.009009,     0.01001,    0.011011,    0.012012,    0.013013,    0.014014,    0.015015,    0.016016,    0.017017,    0.018018,    0.019019,     0.02002,    0.021021,    0.022022,    0.023023,\n",
       "          0.024024,    0.025025,    0.026026,    0.027027,    0.028028,    0.029029,     0.03003,    0.031031,    0.032032,    0.033033,    0.034034,    0.035035,    0.036036,    0.037037,    0.038038,    0.039039,     0.04004,    0.041041,    0.042042,    0.043043,    0.044044,    0.045045,    0.046046,    0.047047,\n",
       "          0.048048,    0.049049,     0.05005,    0.051051,    0.052052,    0.053053,    0.054054,    0.055055,    0.056056,    0.057057,    0.058058,    0.059059,     0.06006,    0.061061,    0.062062,    0.063063,    0.064064,    0.065065,    0.066066,    0.067067,    0.068068,    0.069069,     0.07007,    0.071071,\n",
       "          0.072072,    0.073073,    0.074074,    0.075075,    0.076076,    0.077077,    0.078078,    0.079079,     0.08008,    0.081081,    0.082082,    0.083083,    0.084084,    0.085085,    0.086086,    0.087087,    0.088088,    0.089089,     0.09009,    0.091091,    0.092092,    0.093093,    0.094094,    0.095095,\n",
       "          0.096096,    0.097097,    0.098098,    0.099099,      0.1001,      0.1011,      0.1021,      0.1031,      0.1041,     0.10511,     0.10611,     0.10711,     0.10811,     0.10911,     0.11011,     0.11111,     0.11211,     0.11311,     0.11411,     0.11512,     0.11612,     0.11712,     0.11812,     0.11912,\n",
       "           0.12012,     0.12112,     0.12212,     0.12312,     0.12412,     0.12513,     0.12613,     0.12713,     0.12813,     0.12913,     0.13013,     0.13113,     0.13213,     0.13313,     0.13413,     0.13514,     0.13614,     0.13714,     0.13814,     0.13914,     0.14014,     0.14114,     0.14214,     0.14314,\n",
       "           0.14414,     0.14515,     0.14615,     0.14715,     0.14815,     0.14915,     0.15015,     0.15115,     0.15215,     0.15315,     0.15415,     0.15516,     0.15616,     0.15716,     0.15816,     0.15916,     0.16016,     0.16116,     0.16216,     0.16316,     0.16416,     0.16517,     0.16617,     0.16717,\n",
       "           0.16817,     0.16917,     0.17017,     0.17117,     0.17217,     0.17317,     0.17417,     0.17518,     0.17618,     0.17718,     0.17818,     0.17918,     0.18018,     0.18118,     0.18218,     0.18318,     0.18418,     0.18519,     0.18619,     0.18719,     0.18819,     0.18919,     0.19019,     0.19119,\n",
       "           0.19219,     0.19319,     0.19419,      0.1952,      0.1962,      0.1972,      0.1982,      0.1992,      0.2002,      0.2012,      0.2022,      0.2032,      0.2042,     0.20521,     0.20621,     0.20721,     0.20821,     0.20921,     0.21021,     0.21121,     0.21221,     0.21321,     0.21421,     0.21522,\n",
       "           0.21622,     0.21722,     0.21822,     0.21922,     0.22022,     0.22122,     0.22222,     0.22322,     0.22422,     0.22523,     0.22623,     0.22723,     0.22823,     0.22923,     0.23023,     0.23123,     0.23223,     0.23323,     0.23423,     0.23524,     0.23624,     0.23724,     0.23824,     0.23924,\n",
       "           0.24024,     0.24124,     0.24224,     0.24324,     0.24424,     0.24525,     0.24625,     0.24725,     0.24825,     0.24925,     0.25025,     0.25125,     0.25225,     0.25325,     0.25425,     0.25526,     0.25626,     0.25726,     0.25826,     0.25926,     0.26026,     0.26126,     0.26226,     0.26326,\n",
       "           0.26426,     0.26527,     0.26627,     0.26727,     0.26827,     0.26927,     0.27027,     0.27127,     0.27227,     0.27327,     0.27427,     0.27528,     0.27628,     0.27728,     0.27828,     0.27928,     0.28028,     0.28128,     0.28228,     0.28328,     0.28428,     0.28529,     0.28629,     0.28729,\n",
       "           0.28829,     0.28929,     0.29029,     0.29129,     0.29229,     0.29329,     0.29429,      0.2953,      0.2963,      0.2973,      0.2983,      0.2993,      0.3003,      0.3013,      0.3023,      0.3033,      0.3043,     0.30531,     0.30631,     0.30731,     0.30831,     0.30931,     0.31031,     0.31131,\n",
       "           0.31231,     0.31331,     0.31431,     0.31532,     0.31632,     0.31732,     0.31832,     0.31932,     0.32032,     0.32132,     0.32232,     0.32332,     0.32432,     0.32533,     0.32633,     0.32733,     0.32833,     0.32933,     0.33033,     0.33133,     0.33233,     0.33333,     0.33433,     0.33534,\n",
       "           0.33634,     0.33734,     0.33834,     0.33934,     0.34034,     0.34134,     0.34234,     0.34334,     0.34434,     0.34535,     0.34635,     0.34735,     0.34835,     0.34935,     0.35035,     0.35135,     0.35235,     0.35335,     0.35435,     0.35536,     0.35636,     0.35736,     0.35836,     0.35936,\n",
       "           0.36036,     0.36136,     0.36236,     0.36336,     0.36436,     0.36537,     0.36637,     0.36737,     0.36837,     0.36937,     0.37037,     0.37137,     0.37237,     0.37337,     0.37437,     0.37538,     0.37638,     0.37738,     0.37838,     0.37938,     0.38038,     0.38138,     0.38238,     0.38338,\n",
       "           0.38438,     0.38539,     0.38639,     0.38739,     0.38839,     0.38939,     0.39039,     0.39139,     0.39239,     0.39339,     0.39439,      0.3954,      0.3964,      0.3974,      0.3984,      0.3994,      0.4004,      0.4014,      0.4024,      0.4034,      0.4044,     0.40541,     0.40641,     0.40741,\n",
       "           0.40841,     0.40941,     0.41041,     0.41141,     0.41241,     0.41341,     0.41441,     0.41542,     0.41642,     0.41742,     0.41842,     0.41942,     0.42042,     0.42142,     0.42242,     0.42342,     0.42442,     0.42543,     0.42643,     0.42743,     0.42843,     0.42943,     0.43043,     0.43143,\n",
       "           0.43243,     0.43343,     0.43443,     0.43544,     0.43644,     0.43744,     0.43844,     0.43944,     0.44044,     0.44144,     0.44244,     0.44344,     0.44444,     0.44545,     0.44645,     0.44745,     0.44845,     0.44945,     0.45045,     0.45145,     0.45245,     0.45345,     0.45445,     0.45546,\n",
       "           0.45646,     0.45746,     0.45846,     0.45946,     0.46046,     0.46146,     0.46246,     0.46346,     0.46446,     0.46547,     0.46647,     0.46747,     0.46847,     0.46947,     0.47047,     0.47147,     0.47247,     0.47347,     0.47447,     0.47548,     0.47648,     0.47748,     0.47848,     0.47948,\n",
       "           0.48048,     0.48148,     0.48248,     0.48348,     0.48448,     0.48549,     0.48649,     0.48749,     0.48849,     0.48949,     0.49049,     0.49149,     0.49249,     0.49349,     0.49449,      0.4955,      0.4965,      0.4975,      0.4985,      0.4995,      0.5005,      0.5015,      0.5025,      0.5035,\n",
       "            0.5045,     0.50551,     0.50651,     0.50751,     0.50851,     0.50951,     0.51051,     0.51151,     0.51251,     0.51351,     0.51451,     0.51552,     0.51652,     0.51752,     0.51852,     0.51952,     0.52052,     0.52152,     0.52252,     0.52352,     0.52452,     0.52553,     0.52653,     0.52753,\n",
       "           0.52853,     0.52953,     0.53053,     0.53153,     0.53253,     0.53353,     0.53453,     0.53554,     0.53654,     0.53754,     0.53854,     0.53954,     0.54054,     0.54154,     0.54254,     0.54354,     0.54454,     0.54555,     0.54655,     0.54755,     0.54855,     0.54955,     0.55055,     0.55155,\n",
       "           0.55255,     0.55355,     0.55455,     0.55556,     0.55656,     0.55756,     0.55856,     0.55956,     0.56056,     0.56156,     0.56256,     0.56356,     0.56456,     0.56557,     0.56657,     0.56757,     0.56857,     0.56957,     0.57057,     0.57157,     0.57257,     0.57357,     0.57457,     0.57558,\n",
       "           0.57658,     0.57758,     0.57858,     0.57958,     0.58058,     0.58158,     0.58258,     0.58358,     0.58458,     0.58559,     0.58659,     0.58759,     0.58859,     0.58959,     0.59059,     0.59159,     0.59259,     0.59359,     0.59459,      0.5956,      0.5966,      0.5976,      0.5986,      0.5996,\n",
       "            0.6006,      0.6016,      0.6026,      0.6036,      0.6046,     0.60561,     0.60661,     0.60761,     0.60861,     0.60961,     0.61061,     0.61161,     0.61261,     0.61361,     0.61461,     0.61562,     0.61662,     0.61762,     0.61862,     0.61962,     0.62062,     0.62162,     0.62262,     0.62362,\n",
       "           0.62462,     0.62563,     0.62663,     0.62763,     0.62863,     0.62963,     0.63063,     0.63163,     0.63263,     0.63363,     0.63463,     0.63564,     0.63664,     0.63764,     0.63864,     0.63964,     0.64064,     0.64164,     0.64264,     0.64364,     0.64464,     0.64565,     0.64665,     0.64765,\n",
       "           0.64865,     0.64965,     0.65065,     0.65165,     0.65265,     0.65365,     0.65465,     0.65566,     0.65666,     0.65766,     0.65866,     0.65966,     0.66066,     0.66166,     0.66266,     0.66366,     0.66466,     0.66567,     0.66667,     0.66767,     0.66867,     0.66967,     0.67067,     0.67167,\n",
       "           0.67267,     0.67367,     0.67467,     0.67568,     0.67668,     0.67768,     0.67868,     0.67968,     0.68068,     0.68168,     0.68268,     0.68368,     0.68468,     0.68569,     0.68669,     0.68769,     0.68869,     0.68969,     0.69069,     0.69169,     0.69269,     0.69369,     0.69469,      0.6957,\n",
       "            0.6967,      0.6977,      0.6987,      0.6997,      0.7007,      0.7017,      0.7027,      0.7037,      0.7047,     0.70571,     0.70671,     0.70771,     0.70871,     0.70971,     0.71071,     0.71171,     0.71271,     0.71371,     0.71471,     0.71572,     0.71672,     0.71772,     0.71872,     0.71972,\n",
       "           0.72072,     0.72172,     0.72272,     0.72372,     0.72472,     0.72573,     0.72673,     0.72773,     0.72873,     0.72973,     0.73073,     0.73173,     0.73273,     0.73373,     0.73473,     0.73574,     0.73674,     0.73774,     0.73874,     0.73974,     0.74074,     0.74174,     0.74274,     0.74374,\n",
       "           0.74474,     0.74575,     0.74675,     0.74775,     0.74875,     0.74975,     0.75075,     0.75175,     0.75275,     0.75375,     0.75475,     0.75576,     0.75676,     0.75776,     0.75876,     0.75976,     0.76076,     0.76176,     0.76276,     0.76376,     0.76476,     0.76577,     0.76677,     0.76777,\n",
       "           0.76877,     0.76977,     0.77077,     0.77177,     0.77277,     0.77377,     0.77477,     0.77578,     0.77678,     0.77778,     0.77878,     0.77978,     0.78078,     0.78178,     0.78278,     0.78378,     0.78478,     0.78579,     0.78679,     0.78779,     0.78879,     0.78979,     0.79079,     0.79179,\n",
       "           0.79279,     0.79379,     0.79479,      0.7958,      0.7968,      0.7978,      0.7988,      0.7998,      0.8008,      0.8018,      0.8028,      0.8038,      0.8048,     0.80581,     0.80681,     0.80781,     0.80881,     0.80981,     0.81081,     0.81181,     0.81281,     0.81381,     0.81481,     0.81582,\n",
       "           0.81682,     0.81782,     0.81882,     0.81982,     0.82082,     0.82182,     0.82282,     0.82382,     0.82482,     0.82583,     0.82683,     0.82783,     0.82883,     0.82983,     0.83083,     0.83183,     0.83283,     0.83383,     0.83483,     0.83584,     0.83684,     0.83784,     0.83884,     0.83984,\n",
       "           0.84084,     0.84184,     0.84284,     0.84384,     0.84484,     0.84585,     0.84685,     0.84785,     0.84885,     0.84985,     0.85085,     0.85185,     0.85285,     0.85385,     0.85485,     0.85586,     0.85686,     0.85786,     0.85886,     0.85986,     0.86086,     0.86186,     0.86286,     0.86386,\n",
       "           0.86486,     0.86587,     0.86687,     0.86787,     0.86887,     0.86987,     0.87087,     0.87187,     0.87287,     0.87387,     0.87487,     0.87588,     0.87688,     0.87788,     0.87888,     0.87988,     0.88088,     0.88188,     0.88288,     0.88388,     0.88488,     0.88589,     0.88689,     0.88789,\n",
       "           0.88889,     0.88989,     0.89089,     0.89189,     0.89289,     0.89389,     0.89489,      0.8959,      0.8969,      0.8979,      0.8989,      0.8999,      0.9009,      0.9019,      0.9029,      0.9039,      0.9049,     0.90591,     0.90691,     0.90791,     0.90891,     0.90991,     0.91091,     0.91191,\n",
       "           0.91291,     0.91391,     0.91491,     0.91592,     0.91692,     0.91792,     0.91892,     0.91992,     0.92092,     0.92192,     0.92292,     0.92392,     0.92492,     0.92593,     0.92693,     0.92793,     0.92893,     0.92993,     0.93093,     0.93193,     0.93293,     0.93393,     0.93493,     0.93594,\n",
       "           0.93694,     0.93794,     0.93894,     0.93994,     0.94094,     0.94194,     0.94294,     0.94394,     0.94494,     0.94595,     0.94695,     0.94795,     0.94895,     0.94995,     0.95095,     0.95195,     0.95295,     0.95395,     0.95495,     0.95596,     0.95696,     0.95796,     0.95896,     0.95996,\n",
       "           0.96096,     0.96196,     0.96296,     0.96396,     0.96496,     0.96597,     0.96697,     0.96797,     0.96897,     0.96997,     0.97097,     0.97197,     0.97297,     0.97397,     0.97497,     0.97598,     0.97698,     0.97798,     0.97898,     0.97998,     0.98098,     0.98198,     0.98298,     0.98398,\n",
       "           0.98498,     0.98599,     0.98699,     0.98799,     0.98899,     0.98999,     0.99099,     0.99199,     0.99299,     0.99399,     0.99499,       0.996,       0.997,       0.998,       0.999,           1]), array([[  0.0091507,   0.0091633,    0.020355,    0.039132,     0.06545,    0.081759,    0.095578,      0.1092,        0.12,     0.13012,     0.14054,     0.15112,      0.1592,     0.16619,     0.17483,     0.18236,     0.18839,     0.19456,     0.20146,     0.20903,     0.21467,     0.22075,     0.22682,\n",
       "            0.23233,     0.23933,     0.24397,     0.24906,     0.25586,     0.26064,     0.26547,     0.27135,     0.27772,      0.2831,     0.28789,     0.29416,      0.2983,     0.30385,     0.31115,     0.31447,     0.31828,     0.32359,     0.32957,     0.33506,     0.34019,     0.34436,     0.34879,\n",
       "            0.35256,     0.35448,     0.35736,     0.36061,     0.36408,     0.36446,     0.37056,     0.37502,      0.3782,     0.38204,     0.38606,     0.39007,     0.39497,      0.4008,     0.40546,     0.40872,     0.41081,      0.4147,     0.41857,     0.42128,      0.4257,     0.43177,     0.43502,\n",
       "            0.43895,     0.44226,      0.4462,     0.45063,     0.45314,       0.458,      0.4603,     0.46458,     0.46738,     0.46997,     0.47332,     0.47838,       0.481,     0.48225,     0.48668,     0.49065,     0.49619,     0.49492,      0.4998,     0.49677,     0.49937,     0.50148,     0.50529,\n",
       "            0.50577,     0.50871,     0.51184,     0.51384,      0.5158,     0.52042,     0.52439,     0.52578,      0.5264,     0.52903,     0.52993,     0.53165,     0.53558,     0.53678,     0.53872,     0.53921,     0.54186,     0.54558,     0.54741,     0.54921,     0.55041,     0.55213,     0.55737,\n",
       "            0.55869,     0.56136,      0.5618,      0.5653,     0.56643,     0.56562,     0.56697,     0.56897,      0.5697,     0.57019,     0.57332,     0.57555,     0.57771,     0.57901,     0.58069,      0.5839,     0.58182,      0.5836,     0.58589,     0.58581,     0.58515,     0.58671,     0.58927,\n",
       "            0.59069,     0.59317,     0.59559,     0.59969,     0.60399,     0.60605,     0.60681,     0.60766,     0.60791,     0.60864,     0.60919,      0.6079,      0.6082,     0.60847,     0.60704,     0.60481,     0.60722,      0.6066,     0.60554,     0.60676,     0.60928,     0.60851,     0.61091,\n",
       "             0.6139,     0.61512,      0.6172,     0.61792,      0.6187,     0.61735,     0.61833,      0.6193,     0.62189,     0.62468,     0.62518,     0.62339,     0.62256,     0.62444,     0.62621,     0.62583,     0.62641,     0.62788,     0.62868,     0.62868,     0.62761,     0.62832,     0.62896,\n",
       "            0.62869,     0.62948,     0.63031,     0.62937,     0.62808,     0.62858,     0.62926,     0.63122,     0.63187,     0.63406,     0.63682,     0.63648,     0.63678,     0.63747,     0.63798,     0.63857,      0.6394,     0.64131,     0.64244,     0.64134,     0.64294,      0.6437,     0.64435,\n",
       "            0.64286,     0.64387,     0.64679,     0.64574,     0.64755,     0.64841,     0.64914,     0.64997,     0.65207,     0.65345,     0.65551,     0.65748,     0.65897,     0.65819,     0.65763,      0.6583,     0.66185,     0.65994,     0.65912,      0.6583,     0.65892,     0.65686,     0.65528,\n",
       "            0.65628,     0.65563,      0.6538,     0.65301,     0.65221,     0.65243,     0.65298,     0.65386,     0.65525,     0.65614,     0.65682,     0.65776,     0.66007,      0.6607,     0.66097,     0.66124,     0.66152,     0.66214,     0.66314,     0.66357,     0.66401,     0.66313,      0.6622,\n",
       "             0.6618,     0.66326,     0.66375,     0.66344,     0.65951,      0.6614,     0.66339,     0.66402,     0.66207,     0.65618,     0.65468,     0.65422,     0.65507,     0.65464,     0.65416,     0.65368,     0.65319,     0.65271,     0.65459,     0.65617,     0.65803,     0.65493,     0.65753,\n",
       "            0.65859,     0.65699,       0.657,     0.65503,     0.65645,      0.6571,     0.65552,     0.65499,     0.65561,     0.65645,      0.6575,     0.65812,     0.65893,     0.65843,      0.6578,     0.65857,     0.65806,     0.65755,     0.65705,     0.65654,     0.65604,     0.65666,     0.65742,\n",
       "            0.65781,      0.6582,     0.65863,     0.65921,     0.65979,     0.66296,     0.66375,     0.66813,     0.66912,     0.67102,     0.67174,     0.66906,     0.66643,     0.66418,     0.66477,     0.66169,     0.66043,     0.66173,     0.66198,      0.6605,     0.65683,     0.65743,     0.65803,\n",
       "            0.65346,     0.65292,     0.65358,     0.65253,     0.65217,     0.65291,     0.65348,     0.65354,      0.6531,     0.65266,     0.65222,     0.65177,     0.65133,     0.65089,     0.65233,     0.65282,      0.6533,     0.65296,     0.64757,     0.64651,     0.64544,     0.64467,     0.64423,\n",
       "            0.64378,     0.64334,     0.64289,     0.64245,     0.64201,     0.64115,     0.64037,     0.63869,     0.63812,     0.63754,     0.63696,     0.63639,     0.63581,      0.6332,     0.63161,     0.63143,     0.63189,     0.63235,     0.63025,     0.63121,     0.63174,     0.63227,     0.63417,\n",
       "            0.63479,     0.63421,     0.63217,     0.63021,     0.63064,      0.6309,     0.62949,     0.62715,     0.62419,     0.62181,     0.61974,     0.61985,      0.6206,     0.62256,     0.62309,     0.62176,     0.62043,     0.61814,     0.61476,     0.61121,     0.61221,     0.61269,     0.61318,\n",
       "            0.61375,      0.6148,     0.61303,     0.60795,     0.60677,     0.60559,     0.60104,     0.59923,     0.59198,     0.59481,     0.59521,     0.59561,     0.59601,     0.59715,     0.59709,     0.59639,      0.5957,       0.595,      0.5943,     0.59602,     0.59686,       0.593,     0.59167,\n",
       "            0.59034,     0.58858,     0.58691,     0.58744,     0.58656,     0.58567,     0.58479,     0.58206,     0.58241,     0.58175,      0.5811,     0.58044,     0.57978,      0.5787,     0.57588,     0.57677,     0.57491,     0.57497,     0.57328,     0.57158,     0.56421,     0.56357,     0.56293,\n",
       "            0.56229,     0.56165,     0.56101,     0.56074,      0.5611,     0.56147,     0.56183,     0.56039,     0.55451,      0.5522,     0.54617,     0.54025,     0.54109,     0.53997,     0.53843,     0.53636,     0.53424,     0.53669,     0.53749,      0.5341,     0.53436,     0.53462,     0.53489,\n",
       "            0.53515,     0.53541,     0.52968,     0.52705,     0.52522,     0.51966,     0.51675,      0.5137,     0.51409,     0.51305,       0.512,     0.51096,     0.50816,     0.50617,     0.50515,     0.50413,     0.50311,     0.49604,     0.49143,     0.48878,     0.48661,     0.48693,      0.4876,\n",
       "            0.48866,     0.48696,     0.48526,     0.48429,     0.48356,     0.48283,      0.4821,     0.48137,     0.48017,     0.47705,     0.47592,     0.47479,     0.47365,     0.47486,     0.46942,      0.4673,     0.46574,     0.46467,     0.46361,     0.46255,     0.45719,     0.45594,      0.4547,\n",
       "            0.45345,     0.44599,     0.44379,     0.44272,     0.44165,     0.44058,     0.43172,     0.42472,     0.42141,     0.42038,     0.41935,     0.41833,     0.41731,     0.41638,     0.41545,     0.41453,      0.4136,     0.41063,     0.40272,     0.40047,     0.39831,     0.39638,     0.39444,\n",
       "            0.38902,     0.38472,     0.37695,     0.37419,     0.37281,     0.37143,     0.36997,     0.36764,      0.3653,      0.3616,     0.35955,     0.35833,     0.35712,      0.3559,     0.35533,     0.35276,     0.34968,     0.34642,     0.34558,     0.34473,     0.34389,     0.34304,     0.34219,\n",
       "            0.34129,     0.34005,     0.33881,     0.33756,      0.3359,     0.31925,     0.31455,     0.31231,     0.30998,      0.3073,     0.30429,     0.30029,     0.29918,     0.29829,     0.29741,     0.29652,     0.29563,     0.29475,     0.29351,     0.29223,     0.29096,     0.28968,     0.28231,\n",
       "             0.2775,     0.26476,     0.26173,     0.26027,      0.2588,     0.25733,     0.25495,     0.25249,      0.2438,     0.23757,     0.23431,     0.23274,     0.23117,     0.22959,     0.22452,     0.22211,     0.22109,     0.22007,     0.21904,     0.21802,     0.21687,     0.21464,     0.21242,\n",
       "            0.21024,     0.20812,     0.20599,     0.19983,     0.19785,     0.19627,     0.19468,     0.18714,      0.1837,     0.18051,     0.17799,     0.17546,     0.16799,      0.1657,     0.16341,     0.16027,     0.15677,     0.15433,     0.15199,      0.1496,     0.14706,     0.14452,     0.14019,\n",
       "            0.13707,     0.13621,     0.13536,      0.1345,     0.13364,     0.13278,     0.13192,     0.13106,     0.12427,     0.12157,     0.11885,     0.11693,     0.11533,     0.11373,     0.11213,     0.11075,     0.10953,      0.1083,     0.10706,     0.10583,     0.10418,     0.10119,    0.098145,\n",
       "           0.092349,    0.087819,    0.084253,    0.082445,    0.080633,    0.078817,    0.068952,    0.064807,    0.061758,    0.058859,    0.057182,    0.056836,     0.05649,    0.056144,    0.055798,    0.055452,    0.055105,    0.054759,    0.054412,    0.054065,    0.053718,    0.053371,    0.053024,\n",
       "           0.052677,     0.05233,    0.051982,    0.051634,    0.051287,    0.050939,    0.050591,    0.049634,    0.047475,    0.045311,    0.042768,    0.036223,    0.035941,     0.03566,    0.035379,    0.035097,    0.034815,    0.034534,    0.034252,     0.03397,    0.033688,    0.033406,    0.033124,\n",
       "           0.032842,    0.032559,    0.032277,    0.031994,    0.031712,    0.031429,    0.031147,    0.030864,    0.030581,    0.030298,    0.030015,    0.029732,    0.029449,    0.029165,    0.027129,     0.02446,    0.021733,    0.017805,    0.014615,    0.014427,     0.01424,    0.014053,    0.013865,\n",
       "           0.013678,     0.01349,    0.013303,    0.013116,    0.012928,     0.01274,    0.012553,    0.012365,    0.012177,     0.01199,    0.011802,    0.011614,    0.011426,    0.011239,    0.011051,    0.010863,    0.010675,    0.010487,    0.010299,    0.010111,   0.0099226,   0.0097344,   0.0095463,\n",
       "          0.0093581,   0.0091698,   0.0089815,   0.0087932,   0.0086049,   0.0084165,   0.0082281,   0.0080396,   0.0078511,   0.0076626,    0.007474,           0,           0,           0,           0,           0,           0,           0,           0,           0,           0,           0,           0,\n",
       "                  0,           0,           0,           0,           0,           0,           0,           0,           0,           0,           0,           0,           0,           0,           0,           0,           0,           0,           0,           0,           0,           0,           0,\n",
       "                  0,           0,           0,           0,           0,           0,           0,           0,           0,           0,           0,           0,           0,           0,           0,           0,           0,           0,           0,           0,           0,           0,           0,\n",
       "                  0,           0,           0,           0,           0,           0,           0,           0,           0,           0,           0,           0,           0,           0,           0,           0,           0,           0,           0,           0,           0,           0,           0,\n",
       "                  0,           0,           0,           0,           0,           0,           0,           0,           0,           0,           0,           0,           0,           0,           0,           0,           0,           0,           0,           0,           0,           0,           0,\n",
       "                  0,           0,           0,           0,           0,           0,           0,           0,           0,           0,           0,           0,           0,           0,           0,           0,           0,           0,           0,           0,           0,           0,           0,\n",
       "                  0,           0,           0,           0,           0,           0,           0,           0,           0,           0,           0,           0,           0,           0,           0,           0,           0,           0,           0,           0,           0,           0,           0,\n",
       "                  0,           0,           0,           0,           0,           0,           0,           0,           0,           0,           0,           0,           0,           0,           0,           0,           0,           0,           0,           0,           0,           0,           0,\n",
       "                  0,           0,           0,           0,           0,           0,           0,           0,           0,           0,           0,           0,           0,           0,           0,           0,           0,           0,           0,           0,           0,           0,           0,\n",
       "                  0,           0,           0,           0,           0,           0,           0,           0,           0,           0,           0,           0,           0,           0,           0,           0,           0,           0,           0,           0,           0,           0,           0,\n",
       "                  0,           0,           0,           0,           0,           0,           0,           0,           0,           0,           0,           0,           0,           0,           0,           0,           0,           0,           0,           0,           0,           0,           0,\n",
       "                  0,           0,           0,           0,           0,           0,           0,           0,           0,           0,           0]]), 'Confidence', 'F1'], [array([          0,    0.001001,    0.002002,    0.003003,    0.004004,    0.005005,    0.006006,    0.007007,    0.008008,    0.009009,     0.01001,    0.011011,    0.012012,    0.013013,    0.014014,    0.015015,    0.016016,    0.017017,    0.018018,    0.019019,     0.02002,    0.021021,    0.022022,    0.023023,\n",
       "          0.024024,    0.025025,    0.026026,    0.027027,    0.028028,    0.029029,     0.03003,    0.031031,    0.032032,    0.033033,    0.034034,    0.035035,    0.036036,    0.037037,    0.038038,    0.039039,     0.04004,    0.041041,    0.042042,    0.043043,    0.044044,    0.045045,    0.046046,    0.047047,\n",
       "          0.048048,    0.049049,     0.05005,    0.051051,    0.052052,    0.053053,    0.054054,    0.055055,    0.056056,    0.057057,    0.058058,    0.059059,     0.06006,    0.061061,    0.062062,    0.063063,    0.064064,    0.065065,    0.066066,    0.067067,    0.068068,    0.069069,     0.07007,    0.071071,\n",
       "          0.072072,    0.073073,    0.074074,    0.075075,    0.076076,    0.077077,    0.078078,    0.079079,     0.08008,    0.081081,    0.082082,    0.083083,    0.084084,    0.085085,    0.086086,    0.087087,    0.088088,    0.089089,     0.09009,    0.091091,    0.092092,    0.093093,    0.094094,    0.095095,\n",
       "          0.096096,    0.097097,    0.098098,    0.099099,      0.1001,      0.1011,      0.1021,      0.1031,      0.1041,     0.10511,     0.10611,     0.10711,     0.10811,     0.10911,     0.11011,     0.11111,     0.11211,     0.11311,     0.11411,     0.11512,     0.11612,     0.11712,     0.11812,     0.11912,\n",
       "           0.12012,     0.12112,     0.12212,     0.12312,     0.12412,     0.12513,     0.12613,     0.12713,     0.12813,     0.12913,     0.13013,     0.13113,     0.13213,     0.13313,     0.13413,     0.13514,     0.13614,     0.13714,     0.13814,     0.13914,     0.14014,     0.14114,     0.14214,     0.14314,\n",
       "           0.14414,     0.14515,     0.14615,     0.14715,     0.14815,     0.14915,     0.15015,     0.15115,     0.15215,     0.15315,     0.15415,     0.15516,     0.15616,     0.15716,     0.15816,     0.15916,     0.16016,     0.16116,     0.16216,     0.16316,     0.16416,     0.16517,     0.16617,     0.16717,\n",
       "           0.16817,     0.16917,     0.17017,     0.17117,     0.17217,     0.17317,     0.17417,     0.17518,     0.17618,     0.17718,     0.17818,     0.17918,     0.18018,     0.18118,     0.18218,     0.18318,     0.18418,     0.18519,     0.18619,     0.18719,     0.18819,     0.18919,     0.19019,     0.19119,\n",
       "           0.19219,     0.19319,     0.19419,      0.1952,      0.1962,      0.1972,      0.1982,      0.1992,      0.2002,      0.2012,      0.2022,      0.2032,      0.2042,     0.20521,     0.20621,     0.20721,     0.20821,     0.20921,     0.21021,     0.21121,     0.21221,     0.21321,     0.21421,     0.21522,\n",
       "           0.21622,     0.21722,     0.21822,     0.21922,     0.22022,     0.22122,     0.22222,     0.22322,     0.22422,     0.22523,     0.22623,     0.22723,     0.22823,     0.22923,     0.23023,     0.23123,     0.23223,     0.23323,     0.23423,     0.23524,     0.23624,     0.23724,     0.23824,     0.23924,\n",
       "           0.24024,     0.24124,     0.24224,     0.24324,     0.24424,     0.24525,     0.24625,     0.24725,     0.24825,     0.24925,     0.25025,     0.25125,     0.25225,     0.25325,     0.25425,     0.25526,     0.25626,     0.25726,     0.25826,     0.25926,     0.26026,     0.26126,     0.26226,     0.26326,\n",
       "           0.26426,     0.26527,     0.26627,     0.26727,     0.26827,     0.26927,     0.27027,     0.27127,     0.27227,     0.27327,     0.27427,     0.27528,     0.27628,     0.27728,     0.27828,     0.27928,     0.28028,     0.28128,     0.28228,     0.28328,     0.28428,     0.28529,     0.28629,     0.28729,\n",
       "           0.28829,     0.28929,     0.29029,     0.29129,     0.29229,     0.29329,     0.29429,      0.2953,      0.2963,      0.2973,      0.2983,      0.2993,      0.3003,      0.3013,      0.3023,      0.3033,      0.3043,     0.30531,     0.30631,     0.30731,     0.30831,     0.30931,     0.31031,     0.31131,\n",
       "           0.31231,     0.31331,     0.31431,     0.31532,     0.31632,     0.31732,     0.31832,     0.31932,     0.32032,     0.32132,     0.32232,     0.32332,     0.32432,     0.32533,     0.32633,     0.32733,     0.32833,     0.32933,     0.33033,     0.33133,     0.33233,     0.33333,     0.33433,     0.33534,\n",
       "           0.33634,     0.33734,     0.33834,     0.33934,     0.34034,     0.34134,     0.34234,     0.34334,     0.34434,     0.34535,     0.34635,     0.34735,     0.34835,     0.34935,     0.35035,     0.35135,     0.35235,     0.35335,     0.35435,     0.35536,     0.35636,     0.35736,     0.35836,     0.35936,\n",
       "           0.36036,     0.36136,     0.36236,     0.36336,     0.36436,     0.36537,     0.36637,     0.36737,     0.36837,     0.36937,     0.37037,     0.37137,     0.37237,     0.37337,     0.37437,     0.37538,     0.37638,     0.37738,     0.37838,     0.37938,     0.38038,     0.38138,     0.38238,     0.38338,\n",
       "           0.38438,     0.38539,     0.38639,     0.38739,     0.38839,     0.38939,     0.39039,     0.39139,     0.39239,     0.39339,     0.39439,      0.3954,      0.3964,      0.3974,      0.3984,      0.3994,      0.4004,      0.4014,      0.4024,      0.4034,      0.4044,     0.40541,     0.40641,     0.40741,\n",
       "           0.40841,     0.40941,     0.41041,     0.41141,     0.41241,     0.41341,     0.41441,     0.41542,     0.41642,     0.41742,     0.41842,     0.41942,     0.42042,     0.42142,     0.42242,     0.42342,     0.42442,     0.42543,     0.42643,     0.42743,     0.42843,     0.42943,     0.43043,     0.43143,\n",
       "           0.43243,     0.43343,     0.43443,     0.43544,     0.43644,     0.43744,     0.43844,     0.43944,     0.44044,     0.44144,     0.44244,     0.44344,     0.44444,     0.44545,     0.44645,     0.44745,     0.44845,     0.44945,     0.45045,     0.45145,     0.45245,     0.45345,     0.45445,     0.45546,\n",
       "           0.45646,     0.45746,     0.45846,     0.45946,     0.46046,     0.46146,     0.46246,     0.46346,     0.46446,     0.46547,     0.46647,     0.46747,     0.46847,     0.46947,     0.47047,     0.47147,     0.47247,     0.47347,     0.47447,     0.47548,     0.47648,     0.47748,     0.47848,     0.47948,\n",
       "           0.48048,     0.48148,     0.48248,     0.48348,     0.48448,     0.48549,     0.48649,     0.48749,     0.48849,     0.48949,     0.49049,     0.49149,     0.49249,     0.49349,     0.49449,      0.4955,      0.4965,      0.4975,      0.4985,      0.4995,      0.5005,      0.5015,      0.5025,      0.5035,\n",
       "            0.5045,     0.50551,     0.50651,     0.50751,     0.50851,     0.50951,     0.51051,     0.51151,     0.51251,     0.51351,     0.51451,     0.51552,     0.51652,     0.51752,     0.51852,     0.51952,     0.52052,     0.52152,     0.52252,     0.52352,     0.52452,     0.52553,     0.52653,     0.52753,\n",
       "           0.52853,     0.52953,     0.53053,     0.53153,     0.53253,     0.53353,     0.53453,     0.53554,     0.53654,     0.53754,     0.53854,     0.53954,     0.54054,     0.54154,     0.54254,     0.54354,     0.54454,     0.54555,     0.54655,     0.54755,     0.54855,     0.54955,     0.55055,     0.55155,\n",
       "           0.55255,     0.55355,     0.55455,     0.55556,     0.55656,     0.55756,     0.55856,     0.55956,     0.56056,     0.56156,     0.56256,     0.56356,     0.56456,     0.56557,     0.56657,     0.56757,     0.56857,     0.56957,     0.57057,     0.57157,     0.57257,     0.57357,     0.57457,     0.57558,\n",
       "           0.57658,     0.57758,     0.57858,     0.57958,     0.58058,     0.58158,     0.58258,     0.58358,     0.58458,     0.58559,     0.58659,     0.58759,     0.58859,     0.58959,     0.59059,     0.59159,     0.59259,     0.59359,     0.59459,      0.5956,      0.5966,      0.5976,      0.5986,      0.5996,\n",
       "            0.6006,      0.6016,      0.6026,      0.6036,      0.6046,     0.60561,     0.60661,     0.60761,     0.60861,     0.60961,     0.61061,     0.61161,     0.61261,     0.61361,     0.61461,     0.61562,     0.61662,     0.61762,     0.61862,     0.61962,     0.62062,     0.62162,     0.62262,     0.62362,\n",
       "           0.62462,     0.62563,     0.62663,     0.62763,     0.62863,     0.62963,     0.63063,     0.63163,     0.63263,     0.63363,     0.63463,     0.63564,     0.63664,     0.63764,     0.63864,     0.63964,     0.64064,     0.64164,     0.64264,     0.64364,     0.64464,     0.64565,     0.64665,     0.64765,\n",
       "           0.64865,     0.64965,     0.65065,     0.65165,     0.65265,     0.65365,     0.65465,     0.65566,     0.65666,     0.65766,     0.65866,     0.65966,     0.66066,     0.66166,     0.66266,     0.66366,     0.66466,     0.66567,     0.66667,     0.66767,     0.66867,     0.66967,     0.67067,     0.67167,\n",
       "           0.67267,     0.67367,     0.67467,     0.67568,     0.67668,     0.67768,     0.67868,     0.67968,     0.68068,     0.68168,     0.68268,     0.68368,     0.68468,     0.68569,     0.68669,     0.68769,     0.68869,     0.68969,     0.69069,     0.69169,     0.69269,     0.69369,     0.69469,      0.6957,\n",
       "            0.6967,      0.6977,      0.6987,      0.6997,      0.7007,      0.7017,      0.7027,      0.7037,      0.7047,     0.70571,     0.70671,     0.70771,     0.70871,     0.70971,     0.71071,     0.71171,     0.71271,     0.71371,     0.71471,     0.71572,     0.71672,     0.71772,     0.71872,     0.71972,\n",
       "           0.72072,     0.72172,     0.72272,     0.72372,     0.72472,     0.72573,     0.72673,     0.72773,     0.72873,     0.72973,     0.73073,     0.73173,     0.73273,     0.73373,     0.73473,     0.73574,     0.73674,     0.73774,     0.73874,     0.73974,     0.74074,     0.74174,     0.74274,     0.74374,\n",
       "           0.74474,     0.74575,     0.74675,     0.74775,     0.74875,     0.74975,     0.75075,     0.75175,     0.75275,     0.75375,     0.75475,     0.75576,     0.75676,     0.75776,     0.75876,     0.75976,     0.76076,     0.76176,     0.76276,     0.76376,     0.76476,     0.76577,     0.76677,     0.76777,\n",
       "           0.76877,     0.76977,     0.77077,     0.77177,     0.77277,     0.77377,     0.77477,     0.77578,     0.77678,     0.77778,     0.77878,     0.77978,     0.78078,     0.78178,     0.78278,     0.78378,     0.78478,     0.78579,     0.78679,     0.78779,     0.78879,     0.78979,     0.79079,     0.79179,\n",
       "           0.79279,     0.79379,     0.79479,      0.7958,      0.7968,      0.7978,      0.7988,      0.7998,      0.8008,      0.8018,      0.8028,      0.8038,      0.8048,     0.80581,     0.80681,     0.80781,     0.80881,     0.80981,     0.81081,     0.81181,     0.81281,     0.81381,     0.81481,     0.81582,\n",
       "           0.81682,     0.81782,     0.81882,     0.81982,     0.82082,     0.82182,     0.82282,     0.82382,     0.82482,     0.82583,     0.82683,     0.82783,     0.82883,     0.82983,     0.83083,     0.83183,     0.83283,     0.83383,     0.83483,     0.83584,     0.83684,     0.83784,     0.83884,     0.83984,\n",
       "           0.84084,     0.84184,     0.84284,     0.84384,     0.84484,     0.84585,     0.84685,     0.84785,     0.84885,     0.84985,     0.85085,     0.85185,     0.85285,     0.85385,     0.85485,     0.85586,     0.85686,     0.85786,     0.85886,     0.85986,     0.86086,     0.86186,     0.86286,     0.86386,\n",
       "           0.86486,     0.86587,     0.86687,     0.86787,     0.86887,     0.86987,     0.87087,     0.87187,     0.87287,     0.87387,     0.87487,     0.87588,     0.87688,     0.87788,     0.87888,     0.87988,     0.88088,     0.88188,     0.88288,     0.88388,     0.88488,     0.88589,     0.88689,     0.88789,\n",
       "           0.88889,     0.88989,     0.89089,     0.89189,     0.89289,     0.89389,     0.89489,      0.8959,      0.8969,      0.8979,      0.8989,      0.8999,      0.9009,      0.9019,      0.9029,      0.9039,      0.9049,     0.90591,     0.90691,     0.90791,     0.90891,     0.90991,     0.91091,     0.91191,\n",
       "           0.91291,     0.91391,     0.91491,     0.91592,     0.91692,     0.91792,     0.91892,     0.91992,     0.92092,     0.92192,     0.92292,     0.92392,     0.92492,     0.92593,     0.92693,     0.92793,     0.92893,     0.92993,     0.93093,     0.93193,     0.93293,     0.93393,     0.93493,     0.93594,\n",
       "           0.93694,     0.93794,     0.93894,     0.93994,     0.94094,     0.94194,     0.94294,     0.94394,     0.94494,     0.94595,     0.94695,     0.94795,     0.94895,     0.94995,     0.95095,     0.95195,     0.95295,     0.95395,     0.95495,     0.95596,     0.95696,     0.95796,     0.95896,     0.95996,\n",
       "           0.96096,     0.96196,     0.96296,     0.96396,     0.96496,     0.96597,     0.96697,     0.96797,     0.96897,     0.96997,     0.97097,     0.97197,     0.97297,     0.97397,     0.97497,     0.97598,     0.97698,     0.97798,     0.97898,     0.97998,     0.98098,     0.98198,     0.98298,     0.98398,\n",
       "           0.98498,     0.98599,     0.98699,     0.98799,     0.98899,     0.98999,     0.99099,     0.99199,     0.99299,     0.99399,     0.99499,       0.996,       0.997,       0.998,       0.999,           1]), array([[  0.0045967,   0.0046031,    0.010284,    0.019969,    0.033876,    0.042706,    0.050335,    0.057964,    0.064123,    0.069998,    0.076091,     0.08236,    0.087216,     0.09147,    0.096729,     0.10141,      0.1052,     0.10917,      0.1136,     0.11844,     0.12207,     0.12609,     0.13007,\n",
       "            0.13379,     0.13845,     0.14166,     0.14511,     0.14974,     0.15303,     0.15649,     0.16059,     0.16507,     0.16889,     0.17245,     0.17697,     0.17997,     0.18403,     0.18941,     0.19206,     0.19509,      0.1991,     0.20365,     0.20786,     0.21204,      0.2153,     0.21877,\n",
       "            0.22174,     0.22351,     0.22607,     0.22867,     0.23175,     0.23262,     0.23761,     0.24129,     0.24393,     0.24713,      0.2505,     0.25389,     0.25806,     0.26306,     0.26709,     0.26993,     0.27214,     0.27556,     0.27899,     0.28141,     0.28537,     0.29084,      0.2938,\n",
       "             0.2974,     0.30045,      0.3041,     0.30822,     0.31057,     0.31516,     0.31787,     0.32197,     0.32467,     0.32717,     0.33043,     0.33538,     0.33796,     0.33982,     0.34423,     0.34821,     0.35382,     0.35388,     0.35889,     0.35788,     0.36059,     0.36353,     0.36755,\n",
       "            0.36806,     0.37119,     0.37453,     0.37667,     0.37878,     0.38379,     0.38813,     0.38964,      0.3912,     0.39411,      0.3951,     0.39703,     0.40234,     0.40464,     0.40686,     0.40741,     0.41044,     0.41473,     0.41686,     0.41997,     0.42138,     0.42445,     0.43067,\n",
       "            0.43226,     0.43546,      0.4368,     0.44138,     0.44279,     0.44294,      0.4446,     0.44707,     0.44918,     0.44979,      0.4537,     0.45764,     0.46052,     0.46218,     0.46432,     0.46844,     0.46847,     0.47078,     0.47378,     0.47432,     0.47422,     0.47627,     0.47965,\n",
       "            0.48269,     0.48634,     0.48961,     0.49517,     0.50105,      0.5039,     0.50494,     0.50612,     0.50812,     0.50915,     0.50992,     0.50917,     0.51022,     0.51099,     0.51015,     0.50885,     0.51227,     0.51215,     0.51162,     0.51337,     0.51699,     0.51715,     0.52301,\n",
       "            0.52742,     0.52921,      0.5323,     0.53337,     0.53454,       0.534,     0.53595,      0.5387,     0.54336,     0.54764,     0.54841,     0.54855,     0.54861,     0.55154,      0.5543,     0.55591,     0.55682,     0.55916,     0.56043,     0.56271,      0.5633,     0.56446,     0.56548,\n",
       "             0.5659,      0.5687,     0.57012,     0.57095,     0.57129,     0.57211,     0.57324,     0.57649,     0.57758,     0.58125,     0.58591,     0.58642,     0.58847,     0.58965,     0.59053,     0.59155,     0.59297,     0.59625,     0.59856,     0.59907,     0.60186,     0.60319,     0.60492,\n",
       "            0.60455,     0.60634,     0.61175,     0.61261,     0.61587,     0.61744,     0.61876,     0.62027,      0.6241,     0.62664,     0.63044,     0.63409,     0.63687,     0.63722,      0.6376,     0.63886,     0.64558,     0.64628,     0.64585,     0.64543,     0.64743,     0.64636,     0.64658,\n",
       "            0.64853,     0.64914,      0.6482,     0.64779,     0.64737,     0.64809,     0.64918,     0.65092,     0.65368,     0.65546,      0.6568,      0.6587,     0.66335,     0.66461,     0.66517,     0.66572,     0.66627,     0.66753,     0.66957,     0.67046,     0.67136,     0.67117,     0.67152,\n",
       "            0.67463,     0.67768,     0.67869,     0.67919,     0.67792,     0.68193,     0.68617,     0.68753,     0.68675,     0.68388,     0.68314,     0.68355,     0.68541,     0.68526,     0.68502,     0.68478,     0.68455,     0.68431,      0.6888,      0.6923,     0.69647,     0.69876,     0.70475,\n",
       "            0.70721,     0.70679,      0.7092,     0.70828,     0.71212,     0.71416,     0.71343,     0.71374,     0.71522,     0.71723,     0.71973,     0.72122,     0.72319,     0.72497,     0.72577,     0.72767,     0.72744,     0.72721,     0.72699,     0.72676,     0.72653,     0.72841,     0.73026,\n",
       "            0.73123,     0.73221,     0.73325,      0.7347,     0.73614,     0.74409,     0.74607,     0.75724,     0.75979,     0.76472,     0.76657,     0.76651,     0.76545,     0.76454,     0.76677,     0.76667,     0.76792,     0.77144,     0.77322,     0.77263,     0.77128,     0.77294,     0.77459,\n",
       "            0.77313,     0.77403,      0.7759,     0.77613,     0.77893,     0.78105,     0.78269,     0.78342,     0.78325,     0.78308,     0.78291,     0.78274,     0.78257,     0.78239,     0.78664,     0.78805,     0.78946,     0.79031,     0.78826,     0.78786,     0.78745,     0.78715,     0.78698,\n",
       "            0.78681,     0.78664,     0.78647,      0.7863,     0.78613,     0.79161,     0.79296,     0.79232,      0.7921,     0.79188,     0.79167,     0.79145,     0.79123,     0.79408,     0.79349,      0.7943,     0.79576,     0.79723,      0.7969,     0.80222,     0.80393,     0.80565,     0.81185,\n",
       "            0.81391,     0.81471,     0.81399,      0.8133,      0.8185,     0.82217,      0.8217,      0.8209,     0.81988,     0.81906,     0.81835,     0.82022,     0.82286,     0.82978,     0.83318,     0.83275,     0.83232,     0.83157,     0.83045,     0.83091,     0.83461,     0.83641,     0.83822,\n",
       "            0.84036,     0.84432,     0.84455,     0.84297,      0.8426,     0.84223,     0.84079,     0.84021,     0.83823,     0.84968,     0.85131,     0.85295,     0.85458,      0.8593,     0.86097,     0.86077,     0.86057,     0.86037,     0.86017,     0.86779,     0.87135,     0.87125,     0.87089,\n",
       "            0.87053,     0.87005,     0.87005,      0.8757,     0.87547,     0.87524,     0.87501,     0.87759,     0.88052,     0.88035,     0.88018,     0.88001,     0.87985,     0.87957,     0.87973,     0.88388,     0.88495,     0.89147,     0.89106,     0.89066,     0.88888,     0.88873,     0.88857,\n",
       "            0.88841,     0.88826,      0.8881,     0.88868,     0.89051,     0.89233,     0.89415,     0.89478,      0.8934,     0.89284,     0.89139,     0.89203,     0.89663,     0.89714,     0.89678,     0.89629,     0.89884,     0.91285,     0.91746,     0.91932,     0.92088,     0.92244,       0.924,\n",
       "            0.92556,     0.92712,     0.92627,     0.92581,     0.92548,     0.92449,     0.92395,     0.93209,     0.94108,     0.94093,     0.94078,     0.94062,     0.94021,     0.93991,     0.93976,     0.93961,     0.93946,     0.93837,     0.93765,     0.93723,     0.93688,     0.94124,     0.94626,\n",
       "            0.95695,     0.95676,     0.95657,     0.95646,     0.95637,     0.95629,     0.95621,     0.95612,     0.95599,     0.96623,     0.96612,     0.96602,     0.96592,       0.977,     0.97667,     0.97653,     0.97643,     0.97637,      0.9763,     0.97623,     0.97587,     0.97579,     0.97571,\n",
       "            0.97562,     0.97511,     0.97495,     0.97488,      0.9748,     0.97472,     0.97408,     0.97355,     0.97329,     0.97321,     0.97313,     0.97305,     0.97297,     0.97289,     0.97282,     0.97274,     0.97267,     0.97242,     0.97176,     0.97157,     0.97138,     0.97121,     0.97104,\n",
       "            0.97055,     0.97016,     0.96942,     0.96915,     0.96901,     0.96888,     0.96873,     0.96849,     0.96826,     0.96787,     0.96765,     0.96752,     0.96739,     0.96726,     0.98327,     0.98312,     0.98294,     0.98275,      0.9827,     0.98265,      0.9826,     0.98255,      0.9825,\n",
       "            0.98245,     0.98237,     0.98229,     0.98222,     0.98211,     0.98101,     0.98068,     0.98052,     0.98035,     0.98015,     0.97992,     0.97961,     0.97953,     0.97946,     0.97938,     0.97931,     0.97924,     0.97917,     0.97907,     0.97896,     0.97886,     0.97875,     0.97812,\n",
       "            0.97769,           1,           1,           1,           1,           1,           1,           1,           1,           1,           1,           1,           1,           1,           1,           1,           1,           1,           1,           1,           1,           1,           1,\n",
       "                  1,           1,           1,           1,           1,           1,           1,           1,           1,           1,           1,           1,           1,           1,           1,           1,           1,           1,           1,           1,           1,           1,           1,\n",
       "                  1,           1,           1,           1,           1,           1,           1,           1,           1,           1,           1,           1,           1,           1,           1,           1,           1,           1,           1,           1,           1,           1,           1,\n",
       "                  1,           1,           1,           1,           1,           1,           1,           1,           1,           1,           1,           1,           1,           1,           1,           1,           1,           1,           1,           1,           1,           1,           1,\n",
       "                  1,           1,           1,           1,           1,           1,           1,           1,           1,           1,           1,           1,           1,           1,           1,           1,           1,           1,           1,           1,           1,           1,           1,\n",
       "                  1,           1,           1,           1,           1,           1,           1,           1,           1,           1,           1,           1,           1,           1,           1,           1,           1,           1,           1,           1,           1,           1,           1,\n",
       "                  1,           1,           1,           1,           1,           1,           1,           1,           1,           1,           1,           1,           1,           1,           1,           1,           1,           1,           1,           1,           1,           1,           1,\n",
       "                  1,           1,           1,           1,           1,           1,           1,           1,           1,           1,           1,           1,           1,           1,           1,           1,           1,           1,           1,           1,           1,           1,           1,\n",
       "                  1,           1,           1,           1,           1,           1,           1,           1,           1,           1,           1,           1,           1,           1,           1,           1,           1,           1,           1,           1,           1,           1,           1,\n",
       "                  1,           1,           1,           1,           1,           1,           1,           1,           1,           1,           1,           1,           1,           1,           1,           1,           1,           1,           1,           1,           1,           1,           1,\n",
       "                  1,           1,           1,           1,           1,           1,           1,           1,           1,           1,           1,           1,           1,           1,           1,           1,           1,           1,           1,           1,           1,           1,           1,\n",
       "                  1,           1,           1,           1,           1,           1,           1,           1,           1,           1,           1,           1,           1,           1,           1,           1,           1,           1,           1,           1,           1,           1,           1,\n",
       "                  1,           1,           1,           1,           1,           1,           1,           1,           1,           1,           1,           1,           1,           1,           1,           1,           1,           1,           1,           1,           1,           1,           1,\n",
       "                  1,           1,           1,           1,           1,           1,           1,           1,           1,           1,           1,           1,           1,           1,           1,           1,           1,           1,           1,           1,           1,           1,           1,\n",
       "                  1,           1,           1,           1,           1,           1,           1,           1,           1,           1,           1,           1,           1,           1,           1,           1,           1,           1,           1,           1,           1,           1,           1,\n",
       "                  1,           1,           1,           1,           1,           1,           1,           1,           1,           1,           1,           1,           1,           1,           1,           1,           1,           1,           1,           1,           1,           1,           1,\n",
       "                  1,           1,           1,           1,           1,           1,           1,           1,           1,           1,           1,           1,           1,           1,           1,           1,           1,           1,           1,           1,           1,           1,           1,\n",
       "                  1,           1,           1,           1,           1,           1,           1,           1,           1,           1,           1,           1,           1,           1,           1,           1,           1,           1,           1,           1,           1,           1,           1,\n",
       "                  1,           1,           1,           1,           1,           1,           1,           1,           1,           1,           1]]), 'Confidence', 'Precision'], [array([          0,    0.001001,    0.002002,    0.003003,    0.004004,    0.005005,    0.006006,    0.007007,    0.008008,    0.009009,     0.01001,    0.011011,    0.012012,    0.013013,    0.014014,    0.015015,    0.016016,    0.017017,    0.018018,    0.019019,     0.02002,    0.021021,    0.022022,    0.023023,\n",
       "          0.024024,    0.025025,    0.026026,    0.027027,    0.028028,    0.029029,     0.03003,    0.031031,    0.032032,    0.033033,    0.034034,    0.035035,    0.036036,    0.037037,    0.038038,    0.039039,     0.04004,    0.041041,    0.042042,    0.043043,    0.044044,    0.045045,    0.046046,    0.047047,\n",
       "          0.048048,    0.049049,     0.05005,    0.051051,    0.052052,    0.053053,    0.054054,    0.055055,    0.056056,    0.057057,    0.058058,    0.059059,     0.06006,    0.061061,    0.062062,    0.063063,    0.064064,    0.065065,    0.066066,    0.067067,    0.068068,    0.069069,     0.07007,    0.071071,\n",
       "          0.072072,    0.073073,    0.074074,    0.075075,    0.076076,    0.077077,    0.078078,    0.079079,     0.08008,    0.081081,    0.082082,    0.083083,    0.084084,    0.085085,    0.086086,    0.087087,    0.088088,    0.089089,     0.09009,    0.091091,    0.092092,    0.093093,    0.094094,    0.095095,\n",
       "          0.096096,    0.097097,    0.098098,    0.099099,      0.1001,      0.1011,      0.1021,      0.1031,      0.1041,     0.10511,     0.10611,     0.10711,     0.10811,     0.10911,     0.11011,     0.11111,     0.11211,     0.11311,     0.11411,     0.11512,     0.11612,     0.11712,     0.11812,     0.11912,\n",
       "           0.12012,     0.12112,     0.12212,     0.12312,     0.12412,     0.12513,     0.12613,     0.12713,     0.12813,     0.12913,     0.13013,     0.13113,     0.13213,     0.13313,     0.13413,     0.13514,     0.13614,     0.13714,     0.13814,     0.13914,     0.14014,     0.14114,     0.14214,     0.14314,\n",
       "           0.14414,     0.14515,     0.14615,     0.14715,     0.14815,     0.14915,     0.15015,     0.15115,     0.15215,     0.15315,     0.15415,     0.15516,     0.15616,     0.15716,     0.15816,     0.15916,     0.16016,     0.16116,     0.16216,     0.16316,     0.16416,     0.16517,     0.16617,     0.16717,\n",
       "           0.16817,     0.16917,     0.17017,     0.17117,     0.17217,     0.17317,     0.17417,     0.17518,     0.17618,     0.17718,     0.17818,     0.17918,     0.18018,     0.18118,     0.18218,     0.18318,     0.18418,     0.18519,     0.18619,     0.18719,     0.18819,     0.18919,     0.19019,     0.19119,\n",
       "           0.19219,     0.19319,     0.19419,      0.1952,      0.1962,      0.1972,      0.1982,      0.1992,      0.2002,      0.2012,      0.2022,      0.2032,      0.2042,     0.20521,     0.20621,     0.20721,     0.20821,     0.20921,     0.21021,     0.21121,     0.21221,     0.21321,     0.21421,     0.21522,\n",
       "           0.21622,     0.21722,     0.21822,     0.21922,     0.22022,     0.22122,     0.22222,     0.22322,     0.22422,     0.22523,     0.22623,     0.22723,     0.22823,     0.22923,     0.23023,     0.23123,     0.23223,     0.23323,     0.23423,     0.23524,     0.23624,     0.23724,     0.23824,     0.23924,\n",
       "           0.24024,     0.24124,     0.24224,     0.24324,     0.24424,     0.24525,     0.24625,     0.24725,     0.24825,     0.24925,     0.25025,     0.25125,     0.25225,     0.25325,     0.25425,     0.25526,     0.25626,     0.25726,     0.25826,     0.25926,     0.26026,     0.26126,     0.26226,     0.26326,\n",
       "           0.26426,     0.26527,     0.26627,     0.26727,     0.26827,     0.26927,     0.27027,     0.27127,     0.27227,     0.27327,     0.27427,     0.27528,     0.27628,     0.27728,     0.27828,     0.27928,     0.28028,     0.28128,     0.28228,     0.28328,     0.28428,     0.28529,     0.28629,     0.28729,\n",
       "           0.28829,     0.28929,     0.29029,     0.29129,     0.29229,     0.29329,     0.29429,      0.2953,      0.2963,      0.2973,      0.2983,      0.2993,      0.3003,      0.3013,      0.3023,      0.3033,      0.3043,     0.30531,     0.30631,     0.30731,     0.30831,     0.30931,     0.31031,     0.31131,\n",
       "           0.31231,     0.31331,     0.31431,     0.31532,     0.31632,     0.31732,     0.31832,     0.31932,     0.32032,     0.32132,     0.32232,     0.32332,     0.32432,     0.32533,     0.32633,     0.32733,     0.32833,     0.32933,     0.33033,     0.33133,     0.33233,     0.33333,     0.33433,     0.33534,\n",
       "           0.33634,     0.33734,     0.33834,     0.33934,     0.34034,     0.34134,     0.34234,     0.34334,     0.34434,     0.34535,     0.34635,     0.34735,     0.34835,     0.34935,     0.35035,     0.35135,     0.35235,     0.35335,     0.35435,     0.35536,     0.35636,     0.35736,     0.35836,     0.35936,\n",
       "           0.36036,     0.36136,     0.36236,     0.36336,     0.36436,     0.36537,     0.36637,     0.36737,     0.36837,     0.36937,     0.37037,     0.37137,     0.37237,     0.37337,     0.37437,     0.37538,     0.37638,     0.37738,     0.37838,     0.37938,     0.38038,     0.38138,     0.38238,     0.38338,\n",
       "           0.38438,     0.38539,     0.38639,     0.38739,     0.38839,     0.38939,     0.39039,     0.39139,     0.39239,     0.39339,     0.39439,      0.3954,      0.3964,      0.3974,      0.3984,      0.3994,      0.4004,      0.4014,      0.4024,      0.4034,      0.4044,     0.40541,     0.40641,     0.40741,\n",
       "           0.40841,     0.40941,     0.41041,     0.41141,     0.41241,     0.41341,     0.41441,     0.41542,     0.41642,     0.41742,     0.41842,     0.41942,     0.42042,     0.42142,     0.42242,     0.42342,     0.42442,     0.42543,     0.42643,     0.42743,     0.42843,     0.42943,     0.43043,     0.43143,\n",
       "           0.43243,     0.43343,     0.43443,     0.43544,     0.43644,     0.43744,     0.43844,     0.43944,     0.44044,     0.44144,     0.44244,     0.44344,     0.44444,     0.44545,     0.44645,     0.44745,     0.44845,     0.44945,     0.45045,     0.45145,     0.45245,     0.45345,     0.45445,     0.45546,\n",
       "           0.45646,     0.45746,     0.45846,     0.45946,     0.46046,     0.46146,     0.46246,     0.46346,     0.46446,     0.46547,     0.46647,     0.46747,     0.46847,     0.46947,     0.47047,     0.47147,     0.47247,     0.47347,     0.47447,     0.47548,     0.47648,     0.47748,     0.47848,     0.47948,\n",
       "           0.48048,     0.48148,     0.48248,     0.48348,     0.48448,     0.48549,     0.48649,     0.48749,     0.48849,     0.48949,     0.49049,     0.49149,     0.49249,     0.49349,     0.49449,      0.4955,      0.4965,      0.4975,      0.4985,      0.4995,      0.5005,      0.5015,      0.5025,      0.5035,\n",
       "            0.5045,     0.50551,     0.50651,     0.50751,     0.50851,     0.50951,     0.51051,     0.51151,     0.51251,     0.51351,     0.51451,     0.51552,     0.51652,     0.51752,     0.51852,     0.51952,     0.52052,     0.52152,     0.52252,     0.52352,     0.52452,     0.52553,     0.52653,     0.52753,\n",
       "           0.52853,     0.52953,     0.53053,     0.53153,     0.53253,     0.53353,     0.53453,     0.53554,     0.53654,     0.53754,     0.53854,     0.53954,     0.54054,     0.54154,     0.54254,     0.54354,     0.54454,     0.54555,     0.54655,     0.54755,     0.54855,     0.54955,     0.55055,     0.55155,\n",
       "           0.55255,     0.55355,     0.55455,     0.55556,     0.55656,     0.55756,     0.55856,     0.55956,     0.56056,     0.56156,     0.56256,     0.56356,     0.56456,     0.56557,     0.56657,     0.56757,     0.56857,     0.56957,     0.57057,     0.57157,     0.57257,     0.57357,     0.57457,     0.57558,\n",
       "           0.57658,     0.57758,     0.57858,     0.57958,     0.58058,     0.58158,     0.58258,     0.58358,     0.58458,     0.58559,     0.58659,     0.58759,     0.58859,     0.58959,     0.59059,     0.59159,     0.59259,     0.59359,     0.59459,      0.5956,      0.5966,      0.5976,      0.5986,      0.5996,\n",
       "            0.6006,      0.6016,      0.6026,      0.6036,      0.6046,     0.60561,     0.60661,     0.60761,     0.60861,     0.60961,     0.61061,     0.61161,     0.61261,     0.61361,     0.61461,     0.61562,     0.61662,     0.61762,     0.61862,     0.61962,     0.62062,     0.62162,     0.62262,     0.62362,\n",
       "           0.62462,     0.62563,     0.62663,     0.62763,     0.62863,     0.62963,     0.63063,     0.63163,     0.63263,     0.63363,     0.63463,     0.63564,     0.63664,     0.63764,     0.63864,     0.63964,     0.64064,     0.64164,     0.64264,     0.64364,     0.64464,     0.64565,     0.64665,     0.64765,\n",
       "           0.64865,     0.64965,     0.65065,     0.65165,     0.65265,     0.65365,     0.65465,     0.65566,     0.65666,     0.65766,     0.65866,     0.65966,     0.66066,     0.66166,     0.66266,     0.66366,     0.66466,     0.66567,     0.66667,     0.66767,     0.66867,     0.66967,     0.67067,     0.67167,\n",
       "           0.67267,     0.67367,     0.67467,     0.67568,     0.67668,     0.67768,     0.67868,     0.67968,     0.68068,     0.68168,     0.68268,     0.68368,     0.68468,     0.68569,     0.68669,     0.68769,     0.68869,     0.68969,     0.69069,     0.69169,     0.69269,     0.69369,     0.69469,      0.6957,\n",
       "            0.6967,      0.6977,      0.6987,      0.6997,      0.7007,      0.7017,      0.7027,      0.7037,      0.7047,     0.70571,     0.70671,     0.70771,     0.70871,     0.70971,     0.71071,     0.71171,     0.71271,     0.71371,     0.71471,     0.71572,     0.71672,     0.71772,     0.71872,     0.71972,\n",
       "           0.72072,     0.72172,     0.72272,     0.72372,     0.72472,     0.72573,     0.72673,     0.72773,     0.72873,     0.72973,     0.73073,     0.73173,     0.73273,     0.73373,     0.73473,     0.73574,     0.73674,     0.73774,     0.73874,     0.73974,     0.74074,     0.74174,     0.74274,     0.74374,\n",
       "           0.74474,     0.74575,     0.74675,     0.74775,     0.74875,     0.74975,     0.75075,     0.75175,     0.75275,     0.75375,     0.75475,     0.75576,     0.75676,     0.75776,     0.75876,     0.75976,     0.76076,     0.76176,     0.76276,     0.76376,     0.76476,     0.76577,     0.76677,     0.76777,\n",
       "           0.76877,     0.76977,     0.77077,     0.77177,     0.77277,     0.77377,     0.77477,     0.77578,     0.77678,     0.77778,     0.77878,     0.77978,     0.78078,     0.78178,     0.78278,     0.78378,     0.78478,     0.78579,     0.78679,     0.78779,     0.78879,     0.78979,     0.79079,     0.79179,\n",
       "           0.79279,     0.79379,     0.79479,      0.7958,      0.7968,      0.7978,      0.7988,      0.7998,      0.8008,      0.8018,      0.8028,      0.8038,      0.8048,     0.80581,     0.80681,     0.80781,     0.80881,     0.80981,     0.81081,     0.81181,     0.81281,     0.81381,     0.81481,     0.81582,\n",
       "           0.81682,     0.81782,     0.81882,     0.81982,     0.82082,     0.82182,     0.82282,     0.82382,     0.82482,     0.82583,     0.82683,     0.82783,     0.82883,     0.82983,     0.83083,     0.83183,     0.83283,     0.83383,     0.83483,     0.83584,     0.83684,     0.83784,     0.83884,     0.83984,\n",
       "           0.84084,     0.84184,     0.84284,     0.84384,     0.84484,     0.84585,     0.84685,     0.84785,     0.84885,     0.84985,     0.85085,     0.85185,     0.85285,     0.85385,     0.85485,     0.85586,     0.85686,     0.85786,     0.85886,     0.85986,     0.86086,     0.86186,     0.86286,     0.86386,\n",
       "           0.86486,     0.86587,     0.86687,     0.86787,     0.86887,     0.86987,     0.87087,     0.87187,     0.87287,     0.87387,     0.87487,     0.87588,     0.87688,     0.87788,     0.87888,     0.87988,     0.88088,     0.88188,     0.88288,     0.88388,     0.88488,     0.88589,     0.88689,     0.88789,\n",
       "           0.88889,     0.88989,     0.89089,     0.89189,     0.89289,     0.89389,     0.89489,      0.8959,      0.8969,      0.8979,      0.8989,      0.8999,      0.9009,      0.9019,      0.9029,      0.9039,      0.9049,     0.90591,     0.90691,     0.90791,     0.90891,     0.90991,     0.91091,     0.91191,\n",
       "           0.91291,     0.91391,     0.91491,     0.91592,     0.91692,     0.91792,     0.91892,     0.91992,     0.92092,     0.92192,     0.92292,     0.92392,     0.92492,     0.92593,     0.92693,     0.92793,     0.92893,     0.92993,     0.93093,     0.93193,     0.93293,     0.93393,     0.93493,     0.93594,\n",
       "           0.93694,     0.93794,     0.93894,     0.93994,     0.94094,     0.94194,     0.94294,     0.94394,     0.94494,     0.94595,     0.94695,     0.94795,     0.94895,     0.94995,     0.95095,     0.95195,     0.95295,     0.95395,     0.95495,     0.95596,     0.95696,     0.95796,     0.95896,     0.95996,\n",
       "           0.96096,     0.96196,     0.96296,     0.96396,     0.96496,     0.96597,     0.96697,     0.96797,     0.96897,     0.96997,     0.97097,     0.97197,     0.97297,     0.97397,     0.97497,     0.97598,     0.97698,     0.97798,     0.97898,     0.97998,     0.98098,     0.98198,     0.98298,     0.98398,\n",
       "           0.98498,     0.98599,     0.98699,     0.98799,     0.98899,     0.98999,     0.99099,     0.99199,     0.99299,     0.99399,     0.99499,       0.996,       0.997,       0.998,       0.999,           1]), array([[    0.98524,     0.98524,     0.97786,     0.97048,      0.9631,     0.95572,     0.94465,     0.94096,     0.93358,     0.92251,     0.91882,     0.91513,     0.91144,     0.90775,     0.90775,     0.90406,     0.90037,     0.89299,      0.8893,      0.8893,      0.8893,     0.88561,     0.88561,\n",
       "            0.88192,     0.88192,     0.87823,     0.87823,     0.87823,     0.87823,     0.87454,     0.87454,     0.87454,     0.87454,     0.87085,     0.87085,     0.87085,     0.87085,     0.87085,     0.86716,     0.86347,     0.86347,     0.86347,     0.86347,     0.85978,     0.85978,     0.85978,\n",
       "            0.85978,     0.85609,      0.8524,      0.8524,     0.84871,     0.84133,     0.84133,     0.84133,     0.84133,     0.84133,     0.84133,     0.84133,     0.84133,     0.84133,     0.84133,     0.84133,     0.83764,     0.83764,     0.83764,     0.83764,     0.83764,     0.83764,     0.83764,\n",
       "            0.83764,     0.83764,     0.83764,     0.83764,     0.83764,     0.83764,     0.83395,     0.83395,     0.83395,     0.83395,     0.83395,     0.83395,     0.83395,     0.83026,     0.83026,     0.83026,     0.83026,     0.82288,     0.82288,     0.81181,     0.81181,     0.80812,     0.80812,\n",
       "            0.80812,     0.80812,     0.80812,     0.80812,     0.80812,     0.80812,     0.80812,     0.80812,     0.80443,     0.80443,     0.80443,     0.80443,     0.80074,     0.79705,     0.79705,     0.79705,     0.79705,     0.79705,     0.79705,     0.79336,     0.79336,     0.78967,     0.78967,\n",
       "            0.78967,     0.78967,     0.78702,     0.78598,     0.78586,     0.78229,     0.78229,     0.78229,      0.7786,      0.7786,      0.7786,      0.7753,     0.77491,     0.77491,     0.77491,     0.77491,     0.76753,     0.76753,     0.76753,      0.7658,     0.76384,     0.76384,     0.76384,\n",
       "            0.76093,     0.76015,     0.76015,     0.76015,     0.76015,     0.76015,     0.76015,     0.76015,     0.75646,     0.75646,     0.75646,     0.75411,     0.75277,     0.75191,     0.74937,     0.74539,     0.74539,     0.74378,      0.7417,      0.7417,      0.7417,     0.73907,     0.73432,\n",
       "            0.73432,     0.73432,     0.73432,     0.73432,     0.73432,     0.73153,     0.73063,     0.72826,     0.72694,     0.72694,     0.72694,     0.72187,     0.71956,     0.71956,     0.71956,     0.71587,     0.71587,     0.71587,     0.71587,     0.71218,     0.70849,     0.70849,     0.70849,\n",
       "            0.70714,      0.7048,     0.70471,     0.70111,     0.69742,     0.69742,     0.69742,     0.69742,     0.69742,     0.69742,     0.69742,     0.69588,     0.69373,     0.69373,     0.69373,     0.69373,     0.69373,     0.69373,     0.69325,     0.69004,     0.69004,     0.69004,     0.68928,\n",
       "            0.68635,     0.68635,     0.68608,     0.68266,     0.68266,     0.68266,     0.68266,     0.68266,     0.68266,     0.68266,     0.68266,     0.68266,     0.68266,     0.68058,     0.67897,     0.67897,     0.67897,     0.67419,     0.67295,      0.6717,     0.67083,     0.66771,     0.66421,\n",
       "            0.66421,     0.66224,      0.6595,     0.65831,     0.65712,     0.65683,     0.65683,     0.65683,     0.65683,     0.65683,     0.65683,     0.65683,     0.65683,     0.65683,     0.65683,     0.65683,     0.65683,     0.65683,     0.65683,     0.65683,     0.65683,     0.65527,     0.65314,\n",
       "            0.64945,     0.64945,     0.64945,     0.64841,     0.64207,     0.64207,     0.64207,     0.64207,     0.63911,     0.63063,      0.6285,     0.62731,     0.62731,     0.62665,     0.62596,     0.62527,     0.62459,      0.6239,     0.62362,     0.62362,     0.62362,     0.61628,     0.61624,\n",
       "            0.61624,     0.61375,     0.61195,     0.60923,     0.60886,     0.60849,     0.60631,     0.60517,     0.60517,     0.60517,     0.60517,     0.60517,     0.60517,     0.60308,     0.60148,     0.60145,     0.60076,     0.60007,     0.59939,      0.5987,     0.59801,     0.59779,     0.59779,\n",
       "            0.59779,     0.59779,     0.59779,     0.59779,     0.59779,     0.59779,     0.59779,     0.59779,     0.59779,     0.59779,     0.59779,     0.59359,     0.59009,     0.58711,     0.58672,       0.582,     0.57934,     0.57934,     0.57873,      0.5768,     0.57196,     0.57196,     0.57196,\n",
       "            0.56587,     0.56458,     0.56458,     0.56289,     0.56089,     0.56089,     0.56089,      0.5606,     0.56004,     0.55948,     0.55892,     0.55835,     0.55779,     0.55723,      0.5572,      0.5572,      0.5572,     0.55629,      0.5495,     0.54816,     0.54683,     0.54586,     0.54531,\n",
       "            0.54476,      0.5442,     0.54365,     0.54309,     0.54254,     0.53875,     0.53703,     0.53497,     0.53426,     0.53355,     0.53284,     0.53213,     0.53142,     0.52652,     0.52459,     0.52399,     0.52399,     0.52399,     0.52125,      0.5203,      0.5203,      0.5203,      0.5203,\n",
       "             0.5203,     0.51919,     0.51674,      0.5144,     0.51292,     0.51183,     0.51016,      0.5074,     0.50391,     0.50113,     0.49871,     0.49815,     0.49815,     0.49815,     0.49761,     0.49608,     0.49454,     0.49189,     0.48801,     0.48339,     0.48339,     0.48339,     0.48339,\n",
       "            0.48339,     0.48339,     0.48114,      0.4754,     0.47408,     0.47276,     0.46768,     0.46568,     0.45756,     0.45756,     0.45756,     0.45756,     0.45756,     0.45756,     0.45702,     0.45626,      0.4555,     0.45474,     0.45398,     0.45387,     0.45387,     0.44946,     0.44803,\n",
       "             0.4466,     0.44471,      0.4428,     0.44196,     0.44102,     0.44008,     0.43914,     0.43542,      0.4351,     0.43441,     0.43372,     0.43303,     0.43234,      0.4312,     0.42804,     0.42804,     0.42575,     0.42433,     0.42257,     0.42082,     0.41326,     0.41261,     0.41196,\n",
       "             0.4113,     0.41065,        0.41,     0.40959,     0.40959,     0.40959,     0.40959,     0.40794,     0.40202,     0.39971,      0.3937,     0.38745,     0.38745,     0.38621,      0.3847,     0.38268,     0.38007,     0.38007,     0.38007,     0.37638,     0.37638,     0.37638,     0.37638,\n",
       "            0.37638,     0.37638,     0.37089,     0.36838,     0.36665,     0.36141,     0.35868,     0.35455,     0.35363,     0.35267,     0.35171,     0.35075,     0.34816,     0.34634,     0.34541,     0.34448,     0.34355,     0.33713,     0.33297,     0.33059,     0.32865,     0.32841,     0.32841,\n",
       "             0.3281,     0.32659,     0.32508,     0.32423,     0.32359,     0.32294,      0.3223,     0.32165,      0.3206,     0.31671,     0.31572,     0.31474,     0.31375,     0.31365,     0.30896,     0.30714,      0.3058,     0.30489,     0.30398,     0.30307,     0.29852,     0.29747,     0.29642,\n",
       "            0.29537,     0.28911,     0.28728,     0.28639,      0.2855,     0.28461,     0.27732,      0.2716,     0.26892,     0.26809,     0.26726,     0.26644,     0.26561,     0.26487,     0.26413,     0.26338,     0.26264,     0.26026,     0.25399,     0.25222,     0.25051,       0.249,     0.24748,\n",
       "            0.24326,     0.23994,     0.23396,     0.23186,     0.23081,     0.22975,     0.22865,     0.22688,     0.22512,     0.22233,      0.2208,     0.21989,     0.21898,     0.21807,     0.21685,     0.21494,     0.21267,     0.21027,     0.20965,     0.20903,     0.20841,     0.20779,     0.20718,\n",
       "            0.20652,     0.20561,     0.20471,      0.2038,      0.2026,     0.19065,     0.18732,     0.18574,     0.18409,     0.18222,     0.18011,     0.17732,     0.17655,     0.17594,     0.17532,     0.17471,      0.1741,     0.17348,     0.17263,     0.17175,     0.17087,        0.17,     0.16496,\n",
       "             0.1617,     0.15258,     0.15057,      0.1496,     0.14863,     0.14767,      0.1461,     0.14449,     0.13882,     0.13479,      0.1327,      0.1317,     0.13069,     0.12968,     0.12646,     0.12493,     0.12428,     0.12364,     0.12299,     0.12235,     0.12162,     0.12022,     0.11883,\n",
       "            0.11747,     0.11614,     0.11482,       0.111,     0.10979,     0.10881,     0.10784,     0.10323,     0.10114,    0.099211,     0.09769,    0.096169,    0.091694,    0.090333,    0.088972,    0.087117,    0.085049,    0.083617,    0.082244,    0.080847,    0.079367,    0.077887,    0.075378,\n",
       "           0.073577,    0.073084,     0.07259,    0.072097,    0.071604,    0.071111,    0.070617,    0.070124,    0.066254,    0.064718,    0.063182,    0.062095,    0.061195,    0.060295,    0.059394,    0.058623,    0.057936,    0.057248,     0.05656,    0.055872,    0.054951,    0.053291,    0.051605,\n",
       "            0.04841,    0.045926,    0.043979,    0.042995,     0.04201,    0.041025,    0.035707,    0.033488,    0.031863,    0.030322,    0.029432,    0.029249,    0.029066,    0.028883,      0.0287,    0.028516,    0.028333,     0.02815,    0.027967,    0.027784,    0.027601,    0.027417,    0.027234,\n",
       "           0.027051,    0.026868,    0.026685,    0.026501,    0.026318,    0.026135,    0.025952,    0.025449,    0.024315,    0.023181,    0.021851,    0.018445,      0.0183,    0.018154,    0.018008,    0.017862,    0.017716,     0.01757,    0.017424,    0.017278,    0.017133,    0.016987,    0.016841,\n",
       "           0.016695,    0.016549,    0.016403,    0.016257,    0.016111,    0.015966,     0.01582,    0.015674,    0.015528,    0.015382,    0.015236,     0.01509,    0.014944,    0.014798,    0.013751,    0.012382,    0.010986,   0.0089823,    0.007361,    0.007266,    0.007171,    0.007076,    0.006981,\n",
       "           0.006886,    0.006791,    0.006696,    0.006601,    0.006506,    0.006411,    0.006316,    0.006221,    0.006126,    0.006031,    0.005936,    0.005841,    0.005746,    0.005651,    0.005556,    0.005461,    0.005366,    0.005271,    0.005176,    0.005081,    0.004986,    0.004891,    0.004796,\n",
       "           0.004701,    0.004606,    0.004511,    0.004416,    0.004321,    0.004226,    0.004131,    0.004036,    0.003941,    0.003846,    0.003751,           0,           0,           0,           0,           0,           0,           0,           0,           0,           0,           0,           0,\n",
       "                  0,           0,           0,           0,           0,           0,           0,           0,           0,           0,           0,           0,           0,           0,           0,           0,           0,           0,           0,           0,           0,           0,           0,\n",
       "                  0,           0,           0,           0,           0,           0,           0,           0,           0,           0,           0,           0,           0,           0,           0,           0,           0,           0,           0,           0,           0,           0,           0,\n",
       "                  0,           0,           0,           0,           0,           0,           0,           0,           0,           0,           0,           0,           0,           0,           0,           0,           0,           0,           0,           0,           0,           0,           0,\n",
       "                  0,           0,           0,           0,           0,           0,           0,           0,           0,           0,           0,           0,           0,           0,           0,           0,           0,           0,           0,           0,           0,           0,           0,\n",
       "                  0,           0,           0,           0,           0,           0,           0,           0,           0,           0,           0,           0,           0,           0,           0,           0,           0,           0,           0,           0,           0,           0,           0,\n",
       "                  0,           0,           0,           0,           0,           0,           0,           0,           0,           0,           0,           0,           0,           0,           0,           0,           0,           0,           0,           0,           0,           0,           0,\n",
       "                  0,           0,           0,           0,           0,           0,           0,           0,           0,           0,           0,           0,           0,           0,           0,           0,           0,           0,           0,           0,           0,           0,           0,\n",
       "                  0,           0,           0,           0,           0,           0,           0,           0,           0,           0,           0,           0,           0,           0,           0,           0,           0,           0,           0,           0,           0,           0,           0,\n",
       "                  0,           0,           0,           0,           0,           0,           0,           0,           0,           0,           0,           0,           0,           0,           0,           0,           0,           0,           0,           0,           0,           0,           0,\n",
       "                  0,           0,           0,           0,           0,           0,           0,           0,           0,           0,           0,           0,           0,           0,           0,           0,           0,           0,           0,           0,           0,           0,           0,\n",
       "                  0,           0,           0,           0,           0,           0,           0,           0,           0,           0,           0]]), 'Confidence', 'Recall'], [array([          0,    0.001001,    0.002002,    0.003003,    0.004004,    0.005005,    0.006006,    0.007007,    0.008008,    0.009009,     0.01001,    0.011011,    0.012012,    0.013013,    0.014014,    0.015015,    0.016016,    0.017017,    0.018018,    0.019019,     0.02002,    0.021021,    0.022022,    0.023023,\n",
       "          0.024024,    0.025025,    0.026026,    0.027027,    0.028028,    0.029029,     0.03003,    0.031031,    0.032032,    0.033033,    0.034034,    0.035035,    0.036036,    0.037037,    0.038038,    0.039039,     0.04004,    0.041041,    0.042042,    0.043043,    0.044044,    0.045045,    0.046046,    0.047047,\n",
       "          0.048048,    0.049049,     0.05005,    0.051051,    0.052052,    0.053053,    0.054054,    0.055055,    0.056056,    0.057057,    0.058058,    0.059059,     0.06006,    0.061061,    0.062062,    0.063063,    0.064064,    0.065065,    0.066066,    0.067067,    0.068068,    0.069069,     0.07007,    0.071071,\n",
       "          0.072072,    0.073073,    0.074074,    0.075075,    0.076076,    0.077077,    0.078078,    0.079079,     0.08008,    0.081081,    0.082082,    0.083083,    0.084084,    0.085085,    0.086086,    0.087087,    0.088088,    0.089089,     0.09009,    0.091091,    0.092092,    0.093093,    0.094094,    0.095095,\n",
       "          0.096096,    0.097097,    0.098098,    0.099099,      0.1001,      0.1011,      0.1021,      0.1031,      0.1041,     0.10511,     0.10611,     0.10711,     0.10811,     0.10911,     0.11011,     0.11111,     0.11211,     0.11311,     0.11411,     0.11512,     0.11612,     0.11712,     0.11812,     0.11912,\n",
       "           0.12012,     0.12112,     0.12212,     0.12312,     0.12412,     0.12513,     0.12613,     0.12713,     0.12813,     0.12913,     0.13013,     0.13113,     0.13213,     0.13313,     0.13413,     0.13514,     0.13614,     0.13714,     0.13814,     0.13914,     0.14014,     0.14114,     0.14214,     0.14314,\n",
       "           0.14414,     0.14515,     0.14615,     0.14715,     0.14815,     0.14915,     0.15015,     0.15115,     0.15215,     0.15315,     0.15415,     0.15516,     0.15616,     0.15716,     0.15816,     0.15916,     0.16016,     0.16116,     0.16216,     0.16316,     0.16416,     0.16517,     0.16617,     0.16717,\n",
       "           0.16817,     0.16917,     0.17017,     0.17117,     0.17217,     0.17317,     0.17417,     0.17518,     0.17618,     0.17718,     0.17818,     0.17918,     0.18018,     0.18118,     0.18218,     0.18318,     0.18418,     0.18519,     0.18619,     0.18719,     0.18819,     0.18919,     0.19019,     0.19119,\n",
       "           0.19219,     0.19319,     0.19419,      0.1952,      0.1962,      0.1972,      0.1982,      0.1992,      0.2002,      0.2012,      0.2022,      0.2032,      0.2042,     0.20521,     0.20621,     0.20721,     0.20821,     0.20921,     0.21021,     0.21121,     0.21221,     0.21321,     0.21421,     0.21522,\n",
       "           0.21622,     0.21722,     0.21822,     0.21922,     0.22022,     0.22122,     0.22222,     0.22322,     0.22422,     0.22523,     0.22623,     0.22723,     0.22823,     0.22923,     0.23023,     0.23123,     0.23223,     0.23323,     0.23423,     0.23524,     0.23624,     0.23724,     0.23824,     0.23924,\n",
       "           0.24024,     0.24124,     0.24224,     0.24324,     0.24424,     0.24525,     0.24625,     0.24725,     0.24825,     0.24925,     0.25025,     0.25125,     0.25225,     0.25325,     0.25425,     0.25526,     0.25626,     0.25726,     0.25826,     0.25926,     0.26026,     0.26126,     0.26226,     0.26326,\n",
       "           0.26426,     0.26527,     0.26627,     0.26727,     0.26827,     0.26927,     0.27027,     0.27127,     0.27227,     0.27327,     0.27427,     0.27528,     0.27628,     0.27728,     0.27828,     0.27928,     0.28028,     0.28128,     0.28228,     0.28328,     0.28428,     0.28529,     0.28629,     0.28729,\n",
       "           0.28829,     0.28929,     0.29029,     0.29129,     0.29229,     0.29329,     0.29429,      0.2953,      0.2963,      0.2973,      0.2983,      0.2993,      0.3003,      0.3013,      0.3023,      0.3033,      0.3043,     0.30531,     0.30631,     0.30731,     0.30831,     0.30931,     0.31031,     0.31131,\n",
       "           0.31231,     0.31331,     0.31431,     0.31532,     0.31632,     0.31732,     0.31832,     0.31932,     0.32032,     0.32132,     0.32232,     0.32332,     0.32432,     0.32533,     0.32633,     0.32733,     0.32833,     0.32933,     0.33033,     0.33133,     0.33233,     0.33333,     0.33433,     0.33534,\n",
       "           0.33634,     0.33734,     0.33834,     0.33934,     0.34034,     0.34134,     0.34234,     0.34334,     0.34434,     0.34535,     0.34635,     0.34735,     0.34835,     0.34935,     0.35035,     0.35135,     0.35235,     0.35335,     0.35435,     0.35536,     0.35636,     0.35736,     0.35836,     0.35936,\n",
       "           0.36036,     0.36136,     0.36236,     0.36336,     0.36436,     0.36537,     0.36637,     0.36737,     0.36837,     0.36937,     0.37037,     0.37137,     0.37237,     0.37337,     0.37437,     0.37538,     0.37638,     0.37738,     0.37838,     0.37938,     0.38038,     0.38138,     0.38238,     0.38338,\n",
       "           0.38438,     0.38539,     0.38639,     0.38739,     0.38839,     0.38939,     0.39039,     0.39139,     0.39239,     0.39339,     0.39439,      0.3954,      0.3964,      0.3974,      0.3984,      0.3994,      0.4004,      0.4014,      0.4024,      0.4034,      0.4044,     0.40541,     0.40641,     0.40741,\n",
       "           0.40841,     0.40941,     0.41041,     0.41141,     0.41241,     0.41341,     0.41441,     0.41542,     0.41642,     0.41742,     0.41842,     0.41942,     0.42042,     0.42142,     0.42242,     0.42342,     0.42442,     0.42543,     0.42643,     0.42743,     0.42843,     0.42943,     0.43043,     0.43143,\n",
       "           0.43243,     0.43343,     0.43443,     0.43544,     0.43644,     0.43744,     0.43844,     0.43944,     0.44044,     0.44144,     0.44244,     0.44344,     0.44444,     0.44545,     0.44645,     0.44745,     0.44845,     0.44945,     0.45045,     0.45145,     0.45245,     0.45345,     0.45445,     0.45546,\n",
       "           0.45646,     0.45746,     0.45846,     0.45946,     0.46046,     0.46146,     0.46246,     0.46346,     0.46446,     0.46547,     0.46647,     0.46747,     0.46847,     0.46947,     0.47047,     0.47147,     0.47247,     0.47347,     0.47447,     0.47548,     0.47648,     0.47748,     0.47848,     0.47948,\n",
       "           0.48048,     0.48148,     0.48248,     0.48348,     0.48448,     0.48549,     0.48649,     0.48749,     0.48849,     0.48949,     0.49049,     0.49149,     0.49249,     0.49349,     0.49449,      0.4955,      0.4965,      0.4975,      0.4985,      0.4995,      0.5005,      0.5015,      0.5025,      0.5035,\n",
       "            0.5045,     0.50551,     0.50651,     0.50751,     0.50851,     0.50951,     0.51051,     0.51151,     0.51251,     0.51351,     0.51451,     0.51552,     0.51652,     0.51752,     0.51852,     0.51952,     0.52052,     0.52152,     0.52252,     0.52352,     0.52452,     0.52553,     0.52653,     0.52753,\n",
       "           0.52853,     0.52953,     0.53053,     0.53153,     0.53253,     0.53353,     0.53453,     0.53554,     0.53654,     0.53754,     0.53854,     0.53954,     0.54054,     0.54154,     0.54254,     0.54354,     0.54454,     0.54555,     0.54655,     0.54755,     0.54855,     0.54955,     0.55055,     0.55155,\n",
       "           0.55255,     0.55355,     0.55455,     0.55556,     0.55656,     0.55756,     0.55856,     0.55956,     0.56056,     0.56156,     0.56256,     0.56356,     0.56456,     0.56557,     0.56657,     0.56757,     0.56857,     0.56957,     0.57057,     0.57157,     0.57257,     0.57357,     0.57457,     0.57558,\n",
       "           0.57658,     0.57758,     0.57858,     0.57958,     0.58058,     0.58158,     0.58258,     0.58358,     0.58458,     0.58559,     0.58659,     0.58759,     0.58859,     0.58959,     0.59059,     0.59159,     0.59259,     0.59359,     0.59459,      0.5956,      0.5966,      0.5976,      0.5986,      0.5996,\n",
       "            0.6006,      0.6016,      0.6026,      0.6036,      0.6046,     0.60561,     0.60661,     0.60761,     0.60861,     0.60961,     0.61061,     0.61161,     0.61261,     0.61361,     0.61461,     0.61562,     0.61662,     0.61762,     0.61862,     0.61962,     0.62062,     0.62162,     0.62262,     0.62362,\n",
       "           0.62462,     0.62563,     0.62663,     0.62763,     0.62863,     0.62963,     0.63063,     0.63163,     0.63263,     0.63363,     0.63463,     0.63564,     0.63664,     0.63764,     0.63864,     0.63964,     0.64064,     0.64164,     0.64264,     0.64364,     0.64464,     0.64565,     0.64665,     0.64765,\n",
       "           0.64865,     0.64965,     0.65065,     0.65165,     0.65265,     0.65365,     0.65465,     0.65566,     0.65666,     0.65766,     0.65866,     0.65966,     0.66066,     0.66166,     0.66266,     0.66366,     0.66466,     0.66567,     0.66667,     0.66767,     0.66867,     0.66967,     0.67067,     0.67167,\n",
       "           0.67267,     0.67367,     0.67467,     0.67568,     0.67668,     0.67768,     0.67868,     0.67968,     0.68068,     0.68168,     0.68268,     0.68368,     0.68468,     0.68569,     0.68669,     0.68769,     0.68869,     0.68969,     0.69069,     0.69169,     0.69269,     0.69369,     0.69469,      0.6957,\n",
       "            0.6967,      0.6977,      0.6987,      0.6997,      0.7007,      0.7017,      0.7027,      0.7037,      0.7047,     0.70571,     0.70671,     0.70771,     0.70871,     0.70971,     0.71071,     0.71171,     0.71271,     0.71371,     0.71471,     0.71572,     0.71672,     0.71772,     0.71872,     0.71972,\n",
       "           0.72072,     0.72172,     0.72272,     0.72372,     0.72472,     0.72573,     0.72673,     0.72773,     0.72873,     0.72973,     0.73073,     0.73173,     0.73273,     0.73373,     0.73473,     0.73574,     0.73674,     0.73774,     0.73874,     0.73974,     0.74074,     0.74174,     0.74274,     0.74374,\n",
       "           0.74474,     0.74575,     0.74675,     0.74775,     0.74875,     0.74975,     0.75075,     0.75175,     0.75275,     0.75375,     0.75475,     0.75576,     0.75676,     0.75776,     0.75876,     0.75976,     0.76076,     0.76176,     0.76276,     0.76376,     0.76476,     0.76577,     0.76677,     0.76777,\n",
       "           0.76877,     0.76977,     0.77077,     0.77177,     0.77277,     0.77377,     0.77477,     0.77578,     0.77678,     0.77778,     0.77878,     0.77978,     0.78078,     0.78178,     0.78278,     0.78378,     0.78478,     0.78579,     0.78679,     0.78779,     0.78879,     0.78979,     0.79079,     0.79179,\n",
       "           0.79279,     0.79379,     0.79479,      0.7958,      0.7968,      0.7978,      0.7988,      0.7998,      0.8008,      0.8018,      0.8028,      0.8038,      0.8048,     0.80581,     0.80681,     0.80781,     0.80881,     0.80981,     0.81081,     0.81181,     0.81281,     0.81381,     0.81481,     0.81582,\n",
       "           0.81682,     0.81782,     0.81882,     0.81982,     0.82082,     0.82182,     0.82282,     0.82382,     0.82482,     0.82583,     0.82683,     0.82783,     0.82883,     0.82983,     0.83083,     0.83183,     0.83283,     0.83383,     0.83483,     0.83584,     0.83684,     0.83784,     0.83884,     0.83984,\n",
       "           0.84084,     0.84184,     0.84284,     0.84384,     0.84484,     0.84585,     0.84685,     0.84785,     0.84885,     0.84985,     0.85085,     0.85185,     0.85285,     0.85385,     0.85485,     0.85586,     0.85686,     0.85786,     0.85886,     0.85986,     0.86086,     0.86186,     0.86286,     0.86386,\n",
       "           0.86486,     0.86587,     0.86687,     0.86787,     0.86887,     0.86987,     0.87087,     0.87187,     0.87287,     0.87387,     0.87487,     0.87588,     0.87688,     0.87788,     0.87888,     0.87988,     0.88088,     0.88188,     0.88288,     0.88388,     0.88488,     0.88589,     0.88689,     0.88789,\n",
       "           0.88889,     0.88989,     0.89089,     0.89189,     0.89289,     0.89389,     0.89489,      0.8959,      0.8969,      0.8979,      0.8989,      0.8999,      0.9009,      0.9019,      0.9029,      0.9039,      0.9049,     0.90591,     0.90691,     0.90791,     0.90891,     0.90991,     0.91091,     0.91191,\n",
       "           0.91291,     0.91391,     0.91491,     0.91592,     0.91692,     0.91792,     0.91892,     0.91992,     0.92092,     0.92192,     0.92292,     0.92392,     0.92492,     0.92593,     0.92693,     0.92793,     0.92893,     0.92993,     0.93093,     0.93193,     0.93293,     0.93393,     0.93493,     0.93594,\n",
       "           0.93694,     0.93794,     0.93894,     0.93994,     0.94094,     0.94194,     0.94294,     0.94394,     0.94494,     0.94595,     0.94695,     0.94795,     0.94895,     0.94995,     0.95095,     0.95195,     0.95295,     0.95395,     0.95495,     0.95596,     0.95696,     0.95796,     0.95896,     0.95996,\n",
       "           0.96096,     0.96196,     0.96296,     0.96396,     0.96496,     0.96597,     0.96697,     0.96797,     0.96897,     0.96997,     0.97097,     0.97197,     0.97297,     0.97397,     0.97497,     0.97598,     0.97698,     0.97798,     0.97898,     0.97998,     0.98098,     0.98198,     0.98298,     0.98398,\n",
       "           0.98498,     0.98599,     0.98699,     0.98799,     0.98899,     0.98999,     0.99099,     0.99199,     0.99299,     0.99399,     0.99499,       0.996,       0.997,       0.998,       0.999,           1]), array([[          1,           1,           1,           1,           1,           1,           1,           1,           1,           1,           1,           1,           1,           1,           1,           1,           1,           1,           1,           1,           1,           1,           1,\n",
       "                  1,           1,           1,           1,           1,           1,           1,           1,           1,           1,           1,           1,           1,           1,           1,           1,           1,           1,           1,           1,           1,           1,           1,\n",
       "                  1,           1,           1,           1,           1,           1,           1,           1,           1,           1,           1,           1,           1,           1,           1,           1,           1,           1,           1,           1,           1,           1,           1,\n",
       "                  1,           1,           1,           1,           1,           1,           1,           1,           1,           1,           1,           1,           1,           1,           1,           1,           1,           1,           1,           1,           1,           1,           1,\n",
       "                  1,           1,           1,           1,           1,           1,           1,           1,           1,           1,           1,           1,           1,           1,           1,           1,           1,           1,           1,           1,           1,           1,           1,\n",
       "                  1,           1,           1,           1,           1,           1,           1,           1,           1,           1,           1,           1,           1,           1,           1,           1,           1,           1,           1,           1,           1,           1,           1,\n",
       "                  1,           1,           1,           1,           1,           1,           1,           1,           1,           1,           1,           1,           1,           1,           1,           1,           1,     0.98333,     0.98333,     0.98333,     0.98333,     0.98333,     0.98333,\n",
       "            0.98333,     0.98333,     0.98333,     0.98333,     0.98333,     0.98333,     0.98333,     0.98333,     0.98333,     0.98333,     0.98333,     0.98333,     0.98333,     0.98333,     0.98333,     0.98333,     0.98333,     0.98333,     0.98333,     0.98333,     0.98333,     0.98333,     0.98333,\n",
       "            0.98333,     0.98333,     0.98333,     0.98333,     0.98333,     0.98333,     0.98333,     0.98333,     0.98333,     0.98333,     0.98333,     0.98333,     0.98333,     0.98333,     0.98333,     0.98333,     0.98333,     0.98333,     0.98333,     0.98333,     0.98333,     0.98333,     0.98333,\n",
       "            0.98333,     0.98333,     0.98333,     0.98333,     0.98333,     0.98333,     0.98333,     0.98333,     0.98333,     0.98333,     0.98333,     0.97701,     0.97701,     0.97701,     0.97701,     0.97701,     0.97701,     0.97701,     0.97701,     0.97701,     0.97701,     0.97701,     0.97701,\n",
       "            0.97701,     0.97701,     0.97701,     0.97701,     0.97701,     0.97701,     0.97701,     0.97701,     0.97701,     0.97701,     0.97701,     0.97701,     0.97701,     0.97701,     0.97701,     0.97701,     0.97701,     0.97701,     0.97701,     0.97701,     0.97701,     0.97701,     0.97701,\n",
       "            0.97701,     0.97701,     0.97701,     0.97701,     0.97701,     0.97701,     0.97701,     0.97701,     0.97701,     0.97701,     0.97701,     0.97701,     0.97701,     0.97701,     0.97701,     0.97701,     0.97701,     0.97701,     0.97701,     0.97701,     0.97701,     0.97701,     0.97701,\n",
       "            0.97701,     0.97701,     0.97701,     0.97701,     0.97701,     0.97701,     0.97701,     0.97701,     0.97701,     0.97701,     0.97701,     0.97701,     0.97701,     0.97701,     0.97701,     0.97701,     0.97701,     0.97701,     0.97701,     0.97701,     0.97701,     0.97701,     0.97701,\n",
       "            0.97701,     0.97701,     0.97701,     0.97701,     0.97701,     0.97701,     0.97701,     0.97701,     0.97701,     0.97701,     0.97701,     0.97701,     0.97701,     0.97701,     0.97701,     0.96629,     0.96629,     0.96629,     0.96629,     0.95699,     0.95699,     0.95699,     0.95699,\n",
       "            0.95699,     0.95699,     0.95699,     0.95699,     0.95699,     0.95699,     0.95699,     0.94118,     0.94118,     0.94118,     0.94118,     0.94118,     0.94118,     0.94118,     0.94118,     0.94118,     0.94118,     0.94118,     0.94118,     0.94118,     0.94118,     0.94118,     0.94118,\n",
       "            0.94118,     0.94118,     0.94118,     0.94118,     0.94118,     0.94118,     0.94118,     0.94118,     0.94118,     0.93269,     0.93269,     0.93269,     0.93269,     0.92727,     0.92727,     0.92727,     0.92727,     0.92727,     0.92727,     0.92727,     0.92727,     0.92727,     0.92727,\n",
       "            0.92727,     0.92727,     0.92727,     0.92727,     0.92727,     0.92727,     0.92727,     0.92727,     0.92727,     0.91964,     0.91964,     0.91964,     0.89744,     0.89744,     0.89744,     0.89744,     0.89744,     0.89744,     0.89744,     0.89744,     0.89516,     0.89516,     0.89516,\n",
       "            0.89516,     0.89516,     0.89516,     0.89516,     0.89516,     0.89516,     0.89516,     0.89516,     0.89516,     0.89516,     0.89516,     0.89516,     0.89516,     0.89516,     0.89516,     0.89516,     0.89516,     0.89516,     0.89516,     0.89147,     0.89147,     0.89147,     0.89147,\n",
       "            0.89147,     0.89147,     0.89147,     0.89147,     0.89147,     0.89147,     0.89147,     0.89147,     0.89147,     0.89147,      0.8855,      0.8855,      0.8855,      0.8855,      0.8806,      0.8806,      0.8806,      0.8806,      0.8806,      0.8806,      0.8806,     0.87591,     0.87591,\n",
       "            0.87591,     0.87591,     0.87591,     0.87591,     0.87591,     0.87591,     0.87234,     0.87234,     0.87234,     0.87234,     0.87234,     0.87234,     0.87234,     0.87234,     0.87234,     0.87234,     0.87234,     0.86111,     0.86111,     0.86111,     0.86111,     0.84516,     0.84516,\n",
       "            0.84516,     0.84516,     0.84516,     0.84516,     0.84516,     0.84516,     0.84516,     0.84516,     0.84516,     0.84516,     0.84516,     0.84516,     0.84516,     0.84516,     0.84516,     0.84516,     0.84516,     0.84516,     0.84516,     0.84516,     0.84516,     0.84516,     0.84516,\n",
       "            0.83333,     0.83333,     0.83333,     0.83333,     0.83333,     0.83333,     0.83333,     0.83333,     0.83333,     0.83333,     0.83333,     0.83333,     0.83333,     0.83333,     0.83333,     0.82249,     0.82249,     0.82249,     0.82249,     0.82249,     0.82249,     0.82249,     0.82249,\n",
       "            0.82249,     0.82249,     0.82249,     0.82249,     0.82249,     0.82249,     0.82249,     0.81503,     0.81503,     0.81503,     0.81503,     0.81503,     0.81503,     0.81503,     0.79775,     0.79775,     0.79775,     0.79775,     0.79444,     0.79444,     0.79444,     0.79444,     0.79348,\n",
       "            0.79348,     0.79348,     0.79348,     0.79348,     0.79348,     0.79348,     0.79348,     0.79348,     0.79348,     0.79348,     0.79058,     0.79058,     0.79058,     0.79058,     0.79058,     0.79058,     0.79058,     0.79058,     0.79058,     0.79058,     0.79058,     0.79058,     0.79058,\n",
       "            0.79058,     0.79058,     0.79058,     0.79058,     0.79058,     0.78351,     0.78351,     0.78351,     0.78351,     0.77665,     0.77665,     0.77665,     0.77665,       0.775,       0.775,       0.775,       0.775,       0.775,       0.775,       0.775,      0.7734,      0.7734,      0.7734,\n",
       "             0.7734,      0.7734,      0.7734,      0.7734,     0.76812,     0.76812,     0.76812,     0.76812,     0.76812,     0.76812,     0.76812,     0.76812,     0.76777,     0.76777,     0.76777,     0.76777,     0.76777,     0.76777,     0.76777,     0.76777,     0.76777,     0.76777,     0.76777,\n",
       "            0.73214,     0.73214,     0.73214,     0.73214,     0.73214,     0.73214,     0.73214,     0.73009,     0.73009,     0.73009,     0.73009,     0.71861,     0.71861,     0.71861,     0.71368,     0.71368,     0.71368,     0.71368,     0.71186,     0.71186,     0.71186,     0.71186,     0.70417,\n",
       "            0.70417,     0.70417,     0.70248,     0.70248,     0.70248,     0.70248,     0.68952,     0.68952,     0.68952,     0.68952,       0.688,       0.688,       0.688,       0.688,     0.68775,     0.68775,     0.68775,     0.68775,     0.68775,     0.68775,     0.68775,     0.68077,     0.68077,\n",
       "            0.68077,     0.68077,     0.68077,     0.68077,     0.68077,     0.68077,     0.68077,     0.68077,     0.68077,     0.67939,     0.67939,     0.67939,     0.67939,     0.67547,     0.67547,     0.67547,     0.65343,     0.65343,     0.65343,     0.65343,     0.65343,     0.65343,     0.65343,\n",
       "            0.65343,     0.65141,     0.65141,     0.65141,     0.65141,     0.65141,     0.65141,     0.65141,     0.65141,     0.65141,     0.65141,     0.65141,     0.65141,     0.65141,     0.65141,     0.64138,     0.64138,     0.64138,     0.64138,     0.61513,     0.61513,     0.61513,     0.61513,\n",
       "            0.60841,     0.60841,     0.60841,     0.60841,     0.60191,     0.60191,     0.60191,     0.59006,     0.59006,     0.59006,     0.59006,     0.58769,     0.58769,     0.58769,     0.58769,      0.5791,      0.5791,      0.5791,      0.5791,      0.5791,      0.5791,      0.5791,      0.5791,\n",
       "             0.5791,      0.5791,      0.5791,     0.57522,     0.57522,     0.57522,      0.5731,      0.5731,      0.5731,      0.5731,     0.57267,     0.57267,     0.57267,     0.57267,      0.5641,      0.5641,      0.5641,     0.55742,     0.55742,     0.55742,     0.55742,      0.5571,      0.5571,\n",
       "             0.5571,      0.5571,     0.54768,     0.54768,     0.54768,     0.54301,     0.54301,     0.54301,     0.54301,     0.53562,     0.53562,     0.53562,     0.53562,     0.53403,     0.53403,     0.53403,     0.53403,     0.52835,     0.52835,     0.52835,     0.52284,     0.52284,     0.52284,\n",
       "            0.52284,      0.5213,      0.5213,      0.5213,      0.5213,      0.5213,      0.5213,      0.5213,      0.5199,      0.5199,      0.5199,      0.5199,     0.51852,     0.51852,     0.51852,     0.51852,     0.49299,     0.49299,     0.49299,     0.48519,     0.48519,     0.48519,     0.48519,\n",
       "            0.48519,     0.48519,     0.48519,     0.48519,     0.48098,     0.48098,     0.48098,     0.48098,     0.48098,     0.48098,     0.48098,     0.47682,     0.47682,     0.47682,     0.47682,     0.47174,     0.47174,     0.47174,     0.46186,     0.46186,     0.46186,     0.46186,      0.4311,\n",
       "             0.4311,      0.4311,      0.4311,     0.42885,     0.42885,     0.42885,     0.40625,     0.40625,     0.40625,     0.40625,     0.39223,     0.39223,     0.39223,     0.39223,      0.3629,      0.3629,      0.3629,      0.3629,      0.3629,      0.3629,      0.3629,      0.3629,      0.3629,\n",
       "             0.3629,      0.3629,     0.35647,     0.35647,     0.35647,     0.35647,     0.35248,     0.35248,     0.35248,     0.34183,     0.34183,     0.34183,     0.34183,     0.32808,     0.32808,     0.32808,     0.32808,     0.23374,     0.23374,     0.23374,      0.2331,      0.2331,      0.2331,\n",
       "             0.2331,     0.23108,     0.23108,     0.23108,     0.23108,     0.22512,     0.22512,     0.22512,     0.22222,     0.22222,     0.22222,     0.22222,     0.21659,     0.21659,     0.21659,     0.21659,     0.21109,     0.21109,     0.21109,     0.20222,     0.20222,     0.20222,     0.20222,\n",
       "            0.19817,     0.19817,     0.19817,     0.19817,     0.19352,     0.19352,     0.19352,     0.19352,     0.17131,     0.17131,     0.17131,     0.15845,     0.15845,     0.15845,     0.15845,     0.12539,     0.12539,     0.12539,     0.12539,     0.11292,     0.11292,     0.11292,      0.1126,\n",
       "             0.1126,      0.1126,      0.1126,     0.10657,     0.10657,     0.10657,     0.10657,     0.10375,     0.10375,     0.10375,     0.10037,     0.10037,     0.10037,     0.10037,    0.089957,    0.089957,    0.089957,    0.089957,    0.089957,    0.089957,    0.089957,    0.084918,    0.084918,\n",
       "           0.084918,    0.084918,     0.07986,     0.07986,     0.07986,     0.07986,     0.07332,     0.07332,     0.07332,    0.068527,    0.068527,    0.068527,    0.068527,    0.061014,    0.061014,    0.061014,    0.061014,    0.055291,    0.055291,    0.055291,    0.055291,    0.055054,    0.055054,\n",
       "           0.055054,    0.053508,    0.053508,    0.053508,    0.053508,    0.051838,    0.051838,    0.051838,    0.051838,    0.047142,    0.047142,    0.047142,    0.046148,    0.046148,    0.046148,    0.046148,    0.037302,    0.037302,    0.037302,    0.037302,    0.032997,    0.032997,    0.032997,\n",
       "           0.027325,    0.027325,    0.027325,    0.027325,    0.026253,    0.026253,    0.026253,    0.026253,    0.024406,    0.024406,    0.024406,    0.020951,    0.020951,    0.020951,    0.020951,    0.020108,    0.020108,    0.020108,    0.020108,     0.01124,     0.01124,     0.01124,   0.0078359,\n",
       "          0.0078359,   0.0078359,   0.0078359,    0.004397,   0.0037689,   0.0031407,   0.0025126,   0.0018844,   0.0012563,  0.00062815,           0]]), 'Recall', 'Precision'], [array([          0,    0.001001,    0.002002,    0.003003,    0.004004,    0.005005,    0.006006,    0.007007,    0.008008,    0.009009,     0.01001,    0.011011,    0.012012,    0.013013,    0.014014,    0.015015,    0.016016,    0.017017,    0.018018,    0.019019,     0.02002,    0.021021,    0.022022,    0.023023,\n",
       "          0.024024,    0.025025,    0.026026,    0.027027,    0.028028,    0.029029,     0.03003,    0.031031,    0.032032,    0.033033,    0.034034,    0.035035,    0.036036,    0.037037,    0.038038,    0.039039,     0.04004,    0.041041,    0.042042,    0.043043,    0.044044,    0.045045,    0.046046,    0.047047,\n",
       "          0.048048,    0.049049,     0.05005,    0.051051,    0.052052,    0.053053,    0.054054,    0.055055,    0.056056,    0.057057,    0.058058,    0.059059,     0.06006,    0.061061,    0.062062,    0.063063,    0.064064,    0.065065,    0.066066,    0.067067,    0.068068,    0.069069,     0.07007,    0.071071,\n",
       "          0.072072,    0.073073,    0.074074,    0.075075,    0.076076,    0.077077,    0.078078,    0.079079,     0.08008,    0.081081,    0.082082,    0.083083,    0.084084,    0.085085,    0.086086,    0.087087,    0.088088,    0.089089,     0.09009,    0.091091,    0.092092,    0.093093,    0.094094,    0.095095,\n",
       "          0.096096,    0.097097,    0.098098,    0.099099,      0.1001,      0.1011,      0.1021,      0.1031,      0.1041,     0.10511,     0.10611,     0.10711,     0.10811,     0.10911,     0.11011,     0.11111,     0.11211,     0.11311,     0.11411,     0.11512,     0.11612,     0.11712,     0.11812,     0.11912,\n",
       "           0.12012,     0.12112,     0.12212,     0.12312,     0.12412,     0.12513,     0.12613,     0.12713,     0.12813,     0.12913,     0.13013,     0.13113,     0.13213,     0.13313,     0.13413,     0.13514,     0.13614,     0.13714,     0.13814,     0.13914,     0.14014,     0.14114,     0.14214,     0.14314,\n",
       "           0.14414,     0.14515,     0.14615,     0.14715,     0.14815,     0.14915,     0.15015,     0.15115,     0.15215,     0.15315,     0.15415,     0.15516,     0.15616,     0.15716,     0.15816,     0.15916,     0.16016,     0.16116,     0.16216,     0.16316,     0.16416,     0.16517,     0.16617,     0.16717,\n",
       "           0.16817,     0.16917,     0.17017,     0.17117,     0.17217,     0.17317,     0.17417,     0.17518,     0.17618,     0.17718,     0.17818,     0.17918,     0.18018,     0.18118,     0.18218,     0.18318,     0.18418,     0.18519,     0.18619,     0.18719,     0.18819,     0.18919,     0.19019,     0.19119,\n",
       "           0.19219,     0.19319,     0.19419,      0.1952,      0.1962,      0.1972,      0.1982,      0.1992,      0.2002,      0.2012,      0.2022,      0.2032,      0.2042,     0.20521,     0.20621,     0.20721,     0.20821,     0.20921,     0.21021,     0.21121,     0.21221,     0.21321,     0.21421,     0.21522,\n",
       "           0.21622,     0.21722,     0.21822,     0.21922,     0.22022,     0.22122,     0.22222,     0.22322,     0.22422,     0.22523,     0.22623,     0.22723,     0.22823,     0.22923,     0.23023,     0.23123,     0.23223,     0.23323,     0.23423,     0.23524,     0.23624,     0.23724,     0.23824,     0.23924,\n",
       "           0.24024,     0.24124,     0.24224,     0.24324,     0.24424,     0.24525,     0.24625,     0.24725,     0.24825,     0.24925,     0.25025,     0.25125,     0.25225,     0.25325,     0.25425,     0.25526,     0.25626,     0.25726,     0.25826,     0.25926,     0.26026,     0.26126,     0.26226,     0.26326,\n",
       "           0.26426,     0.26527,     0.26627,     0.26727,     0.26827,     0.26927,     0.27027,     0.27127,     0.27227,     0.27327,     0.27427,     0.27528,     0.27628,     0.27728,     0.27828,     0.27928,     0.28028,     0.28128,     0.28228,     0.28328,     0.28428,     0.28529,     0.28629,     0.28729,\n",
       "           0.28829,     0.28929,     0.29029,     0.29129,     0.29229,     0.29329,     0.29429,      0.2953,      0.2963,      0.2973,      0.2983,      0.2993,      0.3003,      0.3013,      0.3023,      0.3033,      0.3043,     0.30531,     0.30631,     0.30731,     0.30831,     0.30931,     0.31031,     0.31131,\n",
       "           0.31231,     0.31331,     0.31431,     0.31532,     0.31632,     0.31732,     0.31832,     0.31932,     0.32032,     0.32132,     0.32232,     0.32332,     0.32432,     0.32533,     0.32633,     0.32733,     0.32833,     0.32933,     0.33033,     0.33133,     0.33233,     0.33333,     0.33433,     0.33534,\n",
       "           0.33634,     0.33734,     0.33834,     0.33934,     0.34034,     0.34134,     0.34234,     0.34334,     0.34434,     0.34535,     0.34635,     0.34735,     0.34835,     0.34935,     0.35035,     0.35135,     0.35235,     0.35335,     0.35435,     0.35536,     0.35636,     0.35736,     0.35836,     0.35936,\n",
       "           0.36036,     0.36136,     0.36236,     0.36336,     0.36436,     0.36537,     0.36637,     0.36737,     0.36837,     0.36937,     0.37037,     0.37137,     0.37237,     0.37337,     0.37437,     0.37538,     0.37638,     0.37738,     0.37838,     0.37938,     0.38038,     0.38138,     0.38238,     0.38338,\n",
       "           0.38438,     0.38539,     0.38639,     0.38739,     0.38839,     0.38939,     0.39039,     0.39139,     0.39239,     0.39339,     0.39439,      0.3954,      0.3964,      0.3974,      0.3984,      0.3994,      0.4004,      0.4014,      0.4024,      0.4034,      0.4044,     0.40541,     0.40641,     0.40741,\n",
       "           0.40841,     0.40941,     0.41041,     0.41141,     0.41241,     0.41341,     0.41441,     0.41542,     0.41642,     0.41742,     0.41842,     0.41942,     0.42042,     0.42142,     0.42242,     0.42342,     0.42442,     0.42543,     0.42643,     0.42743,     0.42843,     0.42943,     0.43043,     0.43143,\n",
       "           0.43243,     0.43343,     0.43443,     0.43544,     0.43644,     0.43744,     0.43844,     0.43944,     0.44044,     0.44144,     0.44244,     0.44344,     0.44444,     0.44545,     0.44645,     0.44745,     0.44845,     0.44945,     0.45045,     0.45145,     0.45245,     0.45345,     0.45445,     0.45546,\n",
       "           0.45646,     0.45746,     0.45846,     0.45946,     0.46046,     0.46146,     0.46246,     0.46346,     0.46446,     0.46547,     0.46647,     0.46747,     0.46847,     0.46947,     0.47047,     0.47147,     0.47247,     0.47347,     0.47447,     0.47548,     0.47648,     0.47748,     0.47848,     0.47948,\n",
       "           0.48048,     0.48148,     0.48248,     0.48348,     0.48448,     0.48549,     0.48649,     0.48749,     0.48849,     0.48949,     0.49049,     0.49149,     0.49249,     0.49349,     0.49449,      0.4955,      0.4965,      0.4975,      0.4985,      0.4995,      0.5005,      0.5015,      0.5025,      0.5035,\n",
       "            0.5045,     0.50551,     0.50651,     0.50751,     0.50851,     0.50951,     0.51051,     0.51151,     0.51251,     0.51351,     0.51451,     0.51552,     0.51652,     0.51752,     0.51852,     0.51952,     0.52052,     0.52152,     0.52252,     0.52352,     0.52452,     0.52553,     0.52653,     0.52753,\n",
       "           0.52853,     0.52953,     0.53053,     0.53153,     0.53253,     0.53353,     0.53453,     0.53554,     0.53654,     0.53754,     0.53854,     0.53954,     0.54054,     0.54154,     0.54254,     0.54354,     0.54454,     0.54555,     0.54655,     0.54755,     0.54855,     0.54955,     0.55055,     0.55155,\n",
       "           0.55255,     0.55355,     0.55455,     0.55556,     0.55656,     0.55756,     0.55856,     0.55956,     0.56056,     0.56156,     0.56256,     0.56356,     0.56456,     0.56557,     0.56657,     0.56757,     0.56857,     0.56957,     0.57057,     0.57157,     0.57257,     0.57357,     0.57457,     0.57558,\n",
       "           0.57658,     0.57758,     0.57858,     0.57958,     0.58058,     0.58158,     0.58258,     0.58358,     0.58458,     0.58559,     0.58659,     0.58759,     0.58859,     0.58959,     0.59059,     0.59159,     0.59259,     0.59359,     0.59459,      0.5956,      0.5966,      0.5976,      0.5986,      0.5996,\n",
       "            0.6006,      0.6016,      0.6026,      0.6036,      0.6046,     0.60561,     0.60661,     0.60761,     0.60861,     0.60961,     0.61061,     0.61161,     0.61261,     0.61361,     0.61461,     0.61562,     0.61662,     0.61762,     0.61862,     0.61962,     0.62062,     0.62162,     0.62262,     0.62362,\n",
       "           0.62462,     0.62563,     0.62663,     0.62763,     0.62863,     0.62963,     0.63063,     0.63163,     0.63263,     0.63363,     0.63463,     0.63564,     0.63664,     0.63764,     0.63864,     0.63964,     0.64064,     0.64164,     0.64264,     0.64364,     0.64464,     0.64565,     0.64665,     0.64765,\n",
       "           0.64865,     0.64965,     0.65065,     0.65165,     0.65265,     0.65365,     0.65465,     0.65566,     0.65666,     0.65766,     0.65866,     0.65966,     0.66066,     0.66166,     0.66266,     0.66366,     0.66466,     0.66567,     0.66667,     0.66767,     0.66867,     0.66967,     0.67067,     0.67167,\n",
       "           0.67267,     0.67367,     0.67467,     0.67568,     0.67668,     0.67768,     0.67868,     0.67968,     0.68068,     0.68168,     0.68268,     0.68368,     0.68468,     0.68569,     0.68669,     0.68769,     0.68869,     0.68969,     0.69069,     0.69169,     0.69269,     0.69369,     0.69469,      0.6957,\n",
       "            0.6967,      0.6977,      0.6987,      0.6997,      0.7007,      0.7017,      0.7027,      0.7037,      0.7047,     0.70571,     0.70671,     0.70771,     0.70871,     0.70971,     0.71071,     0.71171,     0.71271,     0.71371,     0.71471,     0.71572,     0.71672,     0.71772,     0.71872,     0.71972,\n",
       "           0.72072,     0.72172,     0.72272,     0.72372,     0.72472,     0.72573,     0.72673,     0.72773,     0.72873,     0.72973,     0.73073,     0.73173,     0.73273,     0.73373,     0.73473,     0.73574,     0.73674,     0.73774,     0.73874,     0.73974,     0.74074,     0.74174,     0.74274,     0.74374,\n",
       "           0.74474,     0.74575,     0.74675,     0.74775,     0.74875,     0.74975,     0.75075,     0.75175,     0.75275,     0.75375,     0.75475,     0.75576,     0.75676,     0.75776,     0.75876,     0.75976,     0.76076,     0.76176,     0.76276,     0.76376,     0.76476,     0.76577,     0.76677,     0.76777,\n",
       "           0.76877,     0.76977,     0.77077,     0.77177,     0.77277,     0.77377,     0.77477,     0.77578,     0.77678,     0.77778,     0.77878,     0.77978,     0.78078,     0.78178,     0.78278,     0.78378,     0.78478,     0.78579,     0.78679,     0.78779,     0.78879,     0.78979,     0.79079,     0.79179,\n",
       "           0.79279,     0.79379,     0.79479,      0.7958,      0.7968,      0.7978,      0.7988,      0.7998,      0.8008,      0.8018,      0.8028,      0.8038,      0.8048,     0.80581,     0.80681,     0.80781,     0.80881,     0.80981,     0.81081,     0.81181,     0.81281,     0.81381,     0.81481,     0.81582,\n",
       "           0.81682,     0.81782,     0.81882,     0.81982,     0.82082,     0.82182,     0.82282,     0.82382,     0.82482,     0.82583,     0.82683,     0.82783,     0.82883,     0.82983,     0.83083,     0.83183,     0.83283,     0.83383,     0.83483,     0.83584,     0.83684,     0.83784,     0.83884,     0.83984,\n",
       "           0.84084,     0.84184,     0.84284,     0.84384,     0.84484,     0.84585,     0.84685,     0.84785,     0.84885,     0.84985,     0.85085,     0.85185,     0.85285,     0.85385,     0.85485,     0.85586,     0.85686,     0.85786,     0.85886,     0.85986,     0.86086,     0.86186,     0.86286,     0.86386,\n",
       "           0.86486,     0.86587,     0.86687,     0.86787,     0.86887,     0.86987,     0.87087,     0.87187,     0.87287,     0.87387,     0.87487,     0.87588,     0.87688,     0.87788,     0.87888,     0.87988,     0.88088,     0.88188,     0.88288,     0.88388,     0.88488,     0.88589,     0.88689,     0.88789,\n",
       "           0.88889,     0.88989,     0.89089,     0.89189,     0.89289,     0.89389,     0.89489,      0.8959,      0.8969,      0.8979,      0.8989,      0.8999,      0.9009,      0.9019,      0.9029,      0.9039,      0.9049,     0.90591,     0.90691,     0.90791,     0.90891,     0.90991,     0.91091,     0.91191,\n",
       "           0.91291,     0.91391,     0.91491,     0.91592,     0.91692,     0.91792,     0.91892,     0.91992,     0.92092,     0.92192,     0.92292,     0.92392,     0.92492,     0.92593,     0.92693,     0.92793,     0.92893,     0.92993,     0.93093,     0.93193,     0.93293,     0.93393,     0.93493,     0.93594,\n",
       "           0.93694,     0.93794,     0.93894,     0.93994,     0.94094,     0.94194,     0.94294,     0.94394,     0.94494,     0.94595,     0.94695,     0.94795,     0.94895,     0.94995,     0.95095,     0.95195,     0.95295,     0.95395,     0.95495,     0.95596,     0.95696,     0.95796,     0.95896,     0.95996,\n",
       "           0.96096,     0.96196,     0.96296,     0.96396,     0.96496,     0.96597,     0.96697,     0.96797,     0.96897,     0.96997,     0.97097,     0.97197,     0.97297,     0.97397,     0.97497,     0.97598,     0.97698,     0.97798,     0.97898,     0.97998,     0.98098,     0.98198,     0.98298,     0.98398,\n",
       "           0.98498,     0.98599,     0.98699,     0.98799,     0.98899,     0.98999,     0.99099,     0.99199,     0.99299,     0.99399,     0.99499,       0.996,       0.997,       0.998,       0.999,           1]), array([[  0.0092193,    0.009232,    0.020585,    0.039579,     0.06545,    0.082075,    0.096325,     0.10877,        0.12,     0.13116,     0.14167,     0.15234,     0.16049,     0.16687,     0.17554,      0.1831,     0.18916,     0.19616,      0.2023,      0.2099,     0.21556,     0.22167,     0.22777,\n",
       "            0.23428,     0.24133,     0.24705,      0.2522,     0.25908,     0.26393,     0.26883,     0.27479,     0.28124,     0.28669,     0.29155,      0.2979,     0.30209,     0.30771,      0.3151,     0.31848,     0.32236,     0.32774,     0.33238,     0.33793,     0.34311,     0.34584,     0.35029,\n",
       "            0.35256,     0.35601,      0.3589,     0.36217,     0.36567,     0.36606,     0.37219,     0.37667,     0.37986,     0.38371,     0.38775,     0.39178,      0.3967,     0.40255,     0.40724,     0.41052,     0.41443,     0.41836,     0.42226,       0.425,     0.42945,     0.43557,     0.43885,\n",
       "            0.44281,     0.44616,     0.45013,      0.4546,     0.45713,     0.46204,     0.46641,     0.47075,     0.47152,     0.47413,     0.47751,     0.48261,     0.48525,     0.48654,       0.491,     0.49501,     0.49839,     0.49936,     0.50428,     0.50129,     0.50391,     0.50835,     0.51221,\n",
       "             0.5127,     0.51568,     0.51885,     0.52087,     0.52286,     0.52755,     0.52918,     0.53058,     0.53365,     0.53631,     0.53722,     0.53897,     0.54298,     0.54672,      0.5487,     0.54919,     0.55189,     0.55569,     0.55755,     0.55943,     0.56065,     0.56245,     0.56778,\n",
       "            0.56914,     0.57185,     0.57423,     0.57857,     0.57981,     0.58163,     0.58302,     0.58508,      0.5859,      0.5864,     0.58962,     0.59199,     0.59422,     0.59556,     0.59527,     0.59781,     0.59581,     0.59763,     0.59998,      0.5971,     0.59646,     0.59805,     0.60066,\n",
       "            0.60215,     0.60469,     0.60716,     0.61133,     0.61571,     0.61782,     0.61859,     0.61946,     0.61977,     0.62052,     0.62108,      0.6198,     0.62013,     0.62042,       0.619,     0.61679,     0.61925,     0.61864,     0.61759,     0.61884,     0.62141,     0.62066,     0.62319,\n",
       "            0.62316,     0.62439,      0.6265,     0.62723,     0.62803,     0.62669,      0.6277,     0.62872,     0.63136,     0.63419,      0.6347,     0.63295,     0.63214,     0.63405,     0.63584,     0.63551,     0.63609,     0.63759,      0.6384,     0.63846,     0.63742,     0.63814,     0.63879,\n",
       "            0.63853,     0.63936,     0.64021,     0.63599,     0.63473,     0.63523,     0.63592,      0.6379,     0.63856,     0.64076,     0.64019,     0.63985,     0.64016,     0.64086,     0.64138,     0.64197,      0.6428,     0.64472,     0.64586,     0.64477,     0.64637,     0.64714,      0.6478,\n",
       "            0.64631,     0.64733,     0.65027,     0.64923,     0.65105,     0.65192,     0.65265,     0.65348,     0.65559,     0.65698,     0.65906,     0.66103,     0.66253,     0.66176,      0.6612,     0.66188,     0.66545,     0.66355,     0.66274,     0.66192,     0.66254,     0.66049,     0.65892,\n",
       "            0.65992,     0.65928,     0.65746,     0.65667,     0.65587,      0.6561,     0.65665,     0.65753,     0.65893,     0.65983,     0.66051,     0.66146,     0.66378,     0.66441,     0.66468,     0.66496,     0.66523,     0.66585,     0.66686,      0.6673,     0.66774,     0.66686,     0.66594,\n",
       "            0.66556,     0.66594,     0.66497,     0.66344,     0.65951,      0.6614,     0.66339,     0.66402,     0.66207,     0.66002,     0.65853,     0.65807,     0.65893,      0.6585,     0.65802,     0.65754,     0.65705,     0.65657,     0.65846,     0.66005,     0.66193,     0.65886,     0.66147,\n",
       "            0.66254,     0.66094,     0.66096,       0.659,     0.66043,     0.66109,     0.65951,     0.65898,      0.6596,     0.66045,     0.66151,     0.66213,     0.66295,     0.66246,     0.66184,     0.66261,      0.6621,      0.6616,     0.66109,     0.66059,     0.66008,      0.6583,     0.65742,\n",
       "            0.65781,      0.6582,     0.65863,     0.65921,     0.65979,     0.66296,     0.66375,     0.66813,     0.66912,     0.67102,     0.67174,     0.66906,     0.66643,     0.66418,     0.66477,     0.66169,     0.66043,     0.66173,     0.66198,      0.6605,     0.65683,     0.65743,     0.65803,\n",
       "            0.65346,     0.65292,     0.65358,     0.65253,     0.65217,     0.65291,     0.65348,     0.65354,      0.6531,     0.65266,     0.65222,     0.65177,     0.65133,     0.65089,     0.65233,     0.65282,      0.6533,     0.65296,     0.64757,     0.64651,     0.64544,     0.64467,     0.64423,\n",
       "            0.64378,     0.64334,     0.64289,     0.64245,     0.64201,     0.64115,     0.64037,     0.63869,     0.63812,     0.63754,     0.63696,     0.63639,     0.63581,      0.6332,     0.63161,     0.63143,     0.63189,     0.63235,     0.63025,     0.63121,     0.63174,     0.63227,     0.63417,\n",
       "            0.63479,     0.63421,     0.63217,     0.63021,     0.63064,      0.6309,     0.62949,     0.62715,     0.62419,     0.62181,     0.61974,     0.61985,      0.6206,     0.62256,     0.62309,     0.62176,     0.62043,     0.61814,     0.61476,     0.61121,     0.61221,     0.61269,     0.61318,\n",
       "            0.61375,      0.6148,     0.61303,     0.60795,     0.60677,     0.60559,     0.60104,     0.59923,     0.59198,     0.59481,     0.59521,     0.59561,     0.59601,     0.59715,     0.59709,     0.59639,      0.5957,       0.595,      0.5943,     0.59602,     0.59686,       0.593,     0.59167,\n",
       "            0.59034,     0.58858,     0.58691,     0.58744,     0.58656,     0.58567,     0.58479,     0.58206,     0.58241,     0.58175,      0.5811,     0.58044,     0.57978,      0.5787,     0.57588,     0.57677,     0.57491,     0.57497,     0.57328,     0.57158,     0.56421,     0.56357,     0.56293,\n",
       "            0.56229,     0.56165,     0.56101,     0.56074,      0.5611,     0.56147,     0.56183,     0.56039,     0.55451,      0.5522,     0.54617,     0.54025,     0.54109,     0.53997,     0.53843,     0.53636,     0.53424,     0.53669,     0.53749,      0.5341,     0.53436,     0.53462,     0.53489,\n",
       "            0.53515,     0.53541,     0.52968,     0.52705,     0.52522,     0.51966,     0.51675,      0.5137,     0.51409,     0.51305,       0.512,     0.51096,     0.50816,     0.50617,     0.50515,     0.50413,     0.50311,     0.49604,     0.49143,     0.48878,     0.48661,     0.48693,      0.4876,\n",
       "            0.48866,     0.48696,     0.48526,     0.48429,     0.48356,     0.48283,      0.4821,     0.48137,     0.48017,     0.47705,     0.47592,     0.47479,     0.47365,     0.47486,     0.46942,      0.4673,     0.46574,     0.46467,     0.46361,     0.46255,     0.45719,     0.45594,      0.4547,\n",
       "            0.45345,     0.44599,     0.44379,     0.44272,     0.44165,     0.44058,     0.43172,     0.42472,     0.42141,     0.42038,     0.41935,     0.41833,     0.41731,     0.41638,     0.41545,     0.41453,      0.4136,     0.41063,     0.40272,     0.40047,     0.39831,     0.39638,     0.39444,\n",
       "            0.38902,     0.38472,     0.37695,     0.37419,     0.37281,     0.37143,     0.36997,     0.36764,      0.3653,      0.3616,     0.35955,     0.35833,     0.35712,      0.3559,     0.35533,     0.35276,     0.34968,     0.34642,     0.34558,     0.34473,     0.34389,     0.34304,     0.34219,\n",
       "            0.34129,     0.34005,     0.33881,     0.33756,      0.3359,     0.31925,     0.31455,     0.31231,     0.30998,      0.3073,     0.30429,     0.30029,     0.29918,     0.29829,     0.29741,     0.29652,     0.29563,     0.29475,     0.29351,     0.29223,     0.29096,     0.28968,     0.28231,\n",
       "             0.2775,     0.26476,     0.26173,     0.26027,      0.2588,     0.25733,     0.25495,     0.25249,      0.2438,     0.23757,     0.23431,     0.23274,     0.23117,     0.22959,     0.22452,     0.22211,     0.22109,     0.22007,     0.21904,     0.21802,     0.21687,     0.21464,     0.21242,\n",
       "            0.21024,     0.20812,     0.20599,     0.19983,     0.19785,     0.19627,     0.19468,     0.18714,      0.1837,     0.18051,     0.17799,     0.17546,     0.16799,      0.1657,     0.16341,     0.16027,     0.15677,     0.15433,     0.15199,      0.1496,     0.14706,     0.14452,     0.14019,\n",
       "            0.13707,     0.13621,     0.13536,      0.1345,     0.13364,     0.13278,     0.13192,     0.13106,     0.12427,     0.12157,     0.11885,     0.11693,     0.11533,     0.11373,     0.11213,     0.11075,     0.10953,      0.1083,     0.10706,     0.10583,     0.10418,     0.10119,    0.098145,\n",
       "           0.092349,    0.087819,    0.084253,    0.082445,    0.080633,    0.078817,    0.068952,    0.064807,    0.061758,    0.058859,    0.057182,    0.056836,     0.05649,    0.056144,    0.055798,    0.055452,    0.055105,    0.054759,    0.054412,    0.054065,    0.053718,    0.053371,    0.053024,\n",
       "           0.052677,     0.05233,    0.051982,    0.051634,    0.051287,    0.050939,    0.050591,    0.049634,    0.047475,    0.045311,    0.042768,    0.036223,    0.035941,     0.03566,    0.035379,    0.035097,    0.034815,    0.034534,    0.034252,     0.03397,    0.033688,    0.033406,    0.033124,\n",
       "           0.032842,    0.032559,    0.032277,    0.031994,    0.031712,    0.031429,    0.031147,    0.030864,    0.030581,    0.030298,    0.030015,    0.029732,    0.029449,    0.029165,    0.027129,     0.02446,    0.021733,    0.017805,    0.014615,    0.014427,     0.01424,    0.014053,    0.013865,\n",
       "           0.013678,     0.01349,    0.013303,    0.013116,    0.012928,     0.01274,    0.012553,    0.012365,    0.012177,     0.01199,    0.011802,    0.011614,    0.011426,    0.011239,    0.011051,    0.010863,    0.010675,    0.010487,    0.010299,    0.010111,   0.0099226,   0.0097344,   0.0095463,\n",
       "          0.0093581,   0.0091698,   0.0089815,   0.0087932,   0.0086049,   0.0084165,   0.0082281,   0.0080396,   0.0078511,   0.0076626,    0.007474,           0,           0,           0,           0,           0,           0,           0,           0,           0,           0,           0,           0,\n",
       "                  0,           0,           0,           0,           0,           0,           0,           0,           0,           0,           0,           0,           0,           0,           0,           0,           0,           0,           0,           0,           0,           0,           0,\n",
       "                  0,           0,           0,           0,           0,           0,           0,           0,           0,           0,           0,           0,           0,           0,           0,           0,           0,           0,           0,           0,           0,           0,           0,\n",
       "                  0,           0,           0,           0,           0,           0,           0,           0,           0,           0,           0,           0,           0,           0,           0,           0,           0,           0,           0,           0,           0,           0,           0,\n",
       "                  0,           0,           0,           0,           0,           0,           0,           0,           0,           0,           0,           0,           0,           0,           0,           0,           0,           0,           0,           0,           0,           0,           0,\n",
       "                  0,           0,           0,           0,           0,           0,           0,           0,           0,           0,           0,           0,           0,           0,           0,           0,           0,           0,           0,           0,           0,           0,           0,\n",
       "                  0,           0,           0,           0,           0,           0,           0,           0,           0,           0,           0,           0,           0,           0,           0,           0,           0,           0,           0,           0,           0,           0,           0,\n",
       "                  0,           0,           0,           0,           0,           0,           0,           0,           0,           0,           0,           0,           0,           0,           0,           0,           0,           0,           0,           0,           0,           0,           0,\n",
       "                  0,           0,           0,           0,           0,           0,           0,           0,           0,           0,           0,           0,           0,           0,           0,           0,           0,           0,           0,           0,           0,           0,           0,\n",
       "                  0,           0,           0,           0,           0,           0,           0,           0,           0,           0,           0,           0,           0,           0,           0,           0,           0,           0,           0,           0,           0,           0,           0,\n",
       "                  0,           0,           0,           0,           0,           0,           0,           0,           0,           0,           0,           0,           0,           0,           0,           0,           0,           0,           0,           0,           0,           0,           0,\n",
       "                  0,           0,           0,           0,           0,           0,           0,           0,           0,           0,           0]]), 'Confidence', 'F1'], [array([          0,    0.001001,    0.002002,    0.003003,    0.004004,    0.005005,    0.006006,    0.007007,    0.008008,    0.009009,     0.01001,    0.011011,    0.012012,    0.013013,    0.014014,    0.015015,    0.016016,    0.017017,    0.018018,    0.019019,     0.02002,    0.021021,    0.022022,    0.023023,\n",
       "          0.024024,    0.025025,    0.026026,    0.027027,    0.028028,    0.029029,     0.03003,    0.031031,    0.032032,    0.033033,    0.034034,    0.035035,    0.036036,    0.037037,    0.038038,    0.039039,     0.04004,    0.041041,    0.042042,    0.043043,    0.044044,    0.045045,    0.046046,    0.047047,\n",
       "          0.048048,    0.049049,     0.05005,    0.051051,    0.052052,    0.053053,    0.054054,    0.055055,    0.056056,    0.057057,    0.058058,    0.059059,     0.06006,    0.061061,    0.062062,    0.063063,    0.064064,    0.065065,    0.066066,    0.067067,    0.068068,    0.069069,     0.07007,    0.071071,\n",
       "          0.072072,    0.073073,    0.074074,    0.075075,    0.076076,    0.077077,    0.078078,    0.079079,     0.08008,    0.081081,    0.082082,    0.083083,    0.084084,    0.085085,    0.086086,    0.087087,    0.088088,    0.089089,     0.09009,    0.091091,    0.092092,    0.093093,    0.094094,    0.095095,\n",
       "          0.096096,    0.097097,    0.098098,    0.099099,      0.1001,      0.1011,      0.1021,      0.1031,      0.1041,     0.10511,     0.10611,     0.10711,     0.10811,     0.10911,     0.11011,     0.11111,     0.11211,     0.11311,     0.11411,     0.11512,     0.11612,     0.11712,     0.11812,     0.11912,\n",
       "           0.12012,     0.12112,     0.12212,     0.12312,     0.12412,     0.12513,     0.12613,     0.12713,     0.12813,     0.12913,     0.13013,     0.13113,     0.13213,     0.13313,     0.13413,     0.13514,     0.13614,     0.13714,     0.13814,     0.13914,     0.14014,     0.14114,     0.14214,     0.14314,\n",
       "           0.14414,     0.14515,     0.14615,     0.14715,     0.14815,     0.14915,     0.15015,     0.15115,     0.15215,     0.15315,     0.15415,     0.15516,     0.15616,     0.15716,     0.15816,     0.15916,     0.16016,     0.16116,     0.16216,     0.16316,     0.16416,     0.16517,     0.16617,     0.16717,\n",
       "           0.16817,     0.16917,     0.17017,     0.17117,     0.17217,     0.17317,     0.17417,     0.17518,     0.17618,     0.17718,     0.17818,     0.17918,     0.18018,     0.18118,     0.18218,     0.18318,     0.18418,     0.18519,     0.18619,     0.18719,     0.18819,     0.18919,     0.19019,     0.19119,\n",
       "           0.19219,     0.19319,     0.19419,      0.1952,      0.1962,      0.1972,      0.1982,      0.1992,      0.2002,      0.2012,      0.2022,      0.2032,      0.2042,     0.20521,     0.20621,     0.20721,     0.20821,     0.20921,     0.21021,     0.21121,     0.21221,     0.21321,     0.21421,     0.21522,\n",
       "           0.21622,     0.21722,     0.21822,     0.21922,     0.22022,     0.22122,     0.22222,     0.22322,     0.22422,     0.22523,     0.22623,     0.22723,     0.22823,     0.22923,     0.23023,     0.23123,     0.23223,     0.23323,     0.23423,     0.23524,     0.23624,     0.23724,     0.23824,     0.23924,\n",
       "           0.24024,     0.24124,     0.24224,     0.24324,     0.24424,     0.24525,     0.24625,     0.24725,     0.24825,     0.24925,     0.25025,     0.25125,     0.25225,     0.25325,     0.25425,     0.25526,     0.25626,     0.25726,     0.25826,     0.25926,     0.26026,     0.26126,     0.26226,     0.26326,\n",
       "           0.26426,     0.26527,     0.26627,     0.26727,     0.26827,     0.26927,     0.27027,     0.27127,     0.27227,     0.27327,     0.27427,     0.27528,     0.27628,     0.27728,     0.27828,     0.27928,     0.28028,     0.28128,     0.28228,     0.28328,     0.28428,     0.28529,     0.28629,     0.28729,\n",
       "           0.28829,     0.28929,     0.29029,     0.29129,     0.29229,     0.29329,     0.29429,      0.2953,      0.2963,      0.2973,      0.2983,      0.2993,      0.3003,      0.3013,      0.3023,      0.3033,      0.3043,     0.30531,     0.30631,     0.30731,     0.30831,     0.30931,     0.31031,     0.31131,\n",
       "           0.31231,     0.31331,     0.31431,     0.31532,     0.31632,     0.31732,     0.31832,     0.31932,     0.32032,     0.32132,     0.32232,     0.32332,     0.32432,     0.32533,     0.32633,     0.32733,     0.32833,     0.32933,     0.33033,     0.33133,     0.33233,     0.33333,     0.33433,     0.33534,\n",
       "           0.33634,     0.33734,     0.33834,     0.33934,     0.34034,     0.34134,     0.34234,     0.34334,     0.34434,     0.34535,     0.34635,     0.34735,     0.34835,     0.34935,     0.35035,     0.35135,     0.35235,     0.35335,     0.35435,     0.35536,     0.35636,     0.35736,     0.35836,     0.35936,\n",
       "           0.36036,     0.36136,     0.36236,     0.36336,     0.36436,     0.36537,     0.36637,     0.36737,     0.36837,     0.36937,     0.37037,     0.37137,     0.37237,     0.37337,     0.37437,     0.37538,     0.37638,     0.37738,     0.37838,     0.37938,     0.38038,     0.38138,     0.38238,     0.38338,\n",
       "           0.38438,     0.38539,     0.38639,     0.38739,     0.38839,     0.38939,     0.39039,     0.39139,     0.39239,     0.39339,     0.39439,      0.3954,      0.3964,      0.3974,      0.3984,      0.3994,      0.4004,      0.4014,      0.4024,      0.4034,      0.4044,     0.40541,     0.40641,     0.40741,\n",
       "           0.40841,     0.40941,     0.41041,     0.41141,     0.41241,     0.41341,     0.41441,     0.41542,     0.41642,     0.41742,     0.41842,     0.41942,     0.42042,     0.42142,     0.42242,     0.42342,     0.42442,     0.42543,     0.42643,     0.42743,     0.42843,     0.42943,     0.43043,     0.43143,\n",
       "           0.43243,     0.43343,     0.43443,     0.43544,     0.43644,     0.43744,     0.43844,     0.43944,     0.44044,     0.44144,     0.44244,     0.44344,     0.44444,     0.44545,     0.44645,     0.44745,     0.44845,     0.44945,     0.45045,     0.45145,     0.45245,     0.45345,     0.45445,     0.45546,\n",
       "           0.45646,     0.45746,     0.45846,     0.45946,     0.46046,     0.46146,     0.46246,     0.46346,     0.46446,     0.46547,     0.46647,     0.46747,     0.46847,     0.46947,     0.47047,     0.47147,     0.47247,     0.47347,     0.47447,     0.47548,     0.47648,     0.47748,     0.47848,     0.47948,\n",
       "           0.48048,     0.48148,     0.48248,     0.48348,     0.48448,     0.48549,     0.48649,     0.48749,     0.48849,     0.48949,     0.49049,     0.49149,     0.49249,     0.49349,     0.49449,      0.4955,      0.4965,      0.4975,      0.4985,      0.4995,      0.5005,      0.5015,      0.5025,      0.5035,\n",
       "            0.5045,     0.50551,     0.50651,     0.50751,     0.50851,     0.50951,     0.51051,     0.51151,     0.51251,     0.51351,     0.51451,     0.51552,     0.51652,     0.51752,     0.51852,     0.51952,     0.52052,     0.52152,     0.52252,     0.52352,     0.52452,     0.52553,     0.52653,     0.52753,\n",
       "           0.52853,     0.52953,     0.53053,     0.53153,     0.53253,     0.53353,     0.53453,     0.53554,     0.53654,     0.53754,     0.53854,     0.53954,     0.54054,     0.54154,     0.54254,     0.54354,     0.54454,     0.54555,     0.54655,     0.54755,     0.54855,     0.54955,     0.55055,     0.55155,\n",
       "           0.55255,     0.55355,     0.55455,     0.55556,     0.55656,     0.55756,     0.55856,     0.55956,     0.56056,     0.56156,     0.56256,     0.56356,     0.56456,     0.56557,     0.56657,     0.56757,     0.56857,     0.56957,     0.57057,     0.57157,     0.57257,     0.57357,     0.57457,     0.57558,\n",
       "           0.57658,     0.57758,     0.57858,     0.57958,     0.58058,     0.58158,     0.58258,     0.58358,     0.58458,     0.58559,     0.58659,     0.58759,     0.58859,     0.58959,     0.59059,     0.59159,     0.59259,     0.59359,     0.59459,      0.5956,      0.5966,      0.5976,      0.5986,      0.5996,\n",
       "            0.6006,      0.6016,      0.6026,      0.6036,      0.6046,     0.60561,     0.60661,     0.60761,     0.60861,     0.60961,     0.61061,     0.61161,     0.61261,     0.61361,     0.61461,     0.61562,     0.61662,     0.61762,     0.61862,     0.61962,     0.62062,     0.62162,     0.62262,     0.62362,\n",
       "           0.62462,     0.62563,     0.62663,     0.62763,     0.62863,     0.62963,     0.63063,     0.63163,     0.63263,     0.63363,     0.63463,     0.63564,     0.63664,     0.63764,     0.63864,     0.63964,     0.64064,     0.64164,     0.64264,     0.64364,     0.64464,     0.64565,     0.64665,     0.64765,\n",
       "           0.64865,     0.64965,     0.65065,     0.65165,     0.65265,     0.65365,     0.65465,     0.65566,     0.65666,     0.65766,     0.65866,     0.65966,     0.66066,     0.66166,     0.66266,     0.66366,     0.66466,     0.66567,     0.66667,     0.66767,     0.66867,     0.66967,     0.67067,     0.67167,\n",
       "           0.67267,     0.67367,     0.67467,     0.67568,     0.67668,     0.67768,     0.67868,     0.67968,     0.68068,     0.68168,     0.68268,     0.68368,     0.68468,     0.68569,     0.68669,     0.68769,     0.68869,     0.68969,     0.69069,     0.69169,     0.69269,     0.69369,     0.69469,      0.6957,\n",
       "            0.6967,      0.6977,      0.6987,      0.6997,      0.7007,      0.7017,      0.7027,      0.7037,      0.7047,     0.70571,     0.70671,     0.70771,     0.70871,     0.70971,     0.71071,     0.71171,     0.71271,     0.71371,     0.71471,     0.71572,     0.71672,     0.71772,     0.71872,     0.71972,\n",
       "           0.72072,     0.72172,     0.72272,     0.72372,     0.72472,     0.72573,     0.72673,     0.72773,     0.72873,     0.72973,     0.73073,     0.73173,     0.73273,     0.73373,     0.73473,     0.73574,     0.73674,     0.73774,     0.73874,     0.73974,     0.74074,     0.74174,     0.74274,     0.74374,\n",
       "           0.74474,     0.74575,     0.74675,     0.74775,     0.74875,     0.74975,     0.75075,     0.75175,     0.75275,     0.75375,     0.75475,     0.75576,     0.75676,     0.75776,     0.75876,     0.75976,     0.76076,     0.76176,     0.76276,     0.76376,     0.76476,     0.76577,     0.76677,     0.76777,\n",
       "           0.76877,     0.76977,     0.77077,     0.77177,     0.77277,     0.77377,     0.77477,     0.77578,     0.77678,     0.77778,     0.77878,     0.77978,     0.78078,     0.78178,     0.78278,     0.78378,     0.78478,     0.78579,     0.78679,     0.78779,     0.78879,     0.78979,     0.79079,     0.79179,\n",
       "           0.79279,     0.79379,     0.79479,      0.7958,      0.7968,      0.7978,      0.7988,      0.7998,      0.8008,      0.8018,      0.8028,      0.8038,      0.8048,     0.80581,     0.80681,     0.80781,     0.80881,     0.80981,     0.81081,     0.81181,     0.81281,     0.81381,     0.81481,     0.81582,\n",
       "           0.81682,     0.81782,     0.81882,     0.81982,     0.82082,     0.82182,     0.82282,     0.82382,     0.82482,     0.82583,     0.82683,     0.82783,     0.82883,     0.82983,     0.83083,     0.83183,     0.83283,     0.83383,     0.83483,     0.83584,     0.83684,     0.83784,     0.83884,     0.83984,\n",
       "           0.84084,     0.84184,     0.84284,     0.84384,     0.84484,     0.84585,     0.84685,     0.84785,     0.84885,     0.84985,     0.85085,     0.85185,     0.85285,     0.85385,     0.85485,     0.85586,     0.85686,     0.85786,     0.85886,     0.85986,     0.86086,     0.86186,     0.86286,     0.86386,\n",
       "           0.86486,     0.86587,     0.86687,     0.86787,     0.86887,     0.86987,     0.87087,     0.87187,     0.87287,     0.87387,     0.87487,     0.87588,     0.87688,     0.87788,     0.87888,     0.87988,     0.88088,     0.88188,     0.88288,     0.88388,     0.88488,     0.88589,     0.88689,     0.88789,\n",
       "           0.88889,     0.88989,     0.89089,     0.89189,     0.89289,     0.89389,     0.89489,      0.8959,      0.8969,      0.8979,      0.8989,      0.8999,      0.9009,      0.9019,      0.9029,      0.9039,      0.9049,     0.90591,     0.90691,     0.90791,     0.90891,     0.90991,     0.91091,     0.91191,\n",
       "           0.91291,     0.91391,     0.91491,     0.91592,     0.91692,     0.91792,     0.91892,     0.91992,     0.92092,     0.92192,     0.92292,     0.92392,     0.92492,     0.92593,     0.92693,     0.92793,     0.92893,     0.92993,     0.93093,     0.93193,     0.93293,     0.93393,     0.93493,     0.93594,\n",
       "           0.93694,     0.93794,     0.93894,     0.93994,     0.94094,     0.94194,     0.94294,     0.94394,     0.94494,     0.94595,     0.94695,     0.94795,     0.94895,     0.94995,     0.95095,     0.95195,     0.95295,     0.95395,     0.95495,     0.95596,     0.95696,     0.95796,     0.95896,     0.95996,\n",
       "           0.96096,     0.96196,     0.96296,     0.96396,     0.96496,     0.96597,     0.96697,     0.96797,     0.96897,     0.96997,     0.97097,     0.97197,     0.97297,     0.97397,     0.97497,     0.97598,     0.97698,     0.97798,     0.97898,     0.97998,     0.98098,     0.98198,     0.98298,     0.98398,\n",
       "           0.98498,     0.98599,     0.98699,     0.98799,     0.98899,     0.98999,     0.99099,     0.99199,     0.99299,     0.99399,     0.99499,       0.996,       0.997,       0.998,       0.999,           1]), array([[  0.0046311,   0.0046376,    0.010401,    0.020196,    0.033876,    0.042871,    0.050729,    0.057736,    0.064123,    0.070558,    0.076702,    0.083024,    0.087922,    0.091842,    0.097122,     0.10182,     0.10563,     0.11007,     0.11407,     0.11893,     0.12257,     0.12661,     0.13061,\n",
       "            0.13491,     0.13961,     0.14345,     0.14694,     0.15163,     0.15496,     0.15847,     0.16262,     0.16716,     0.17103,     0.17464,     0.17922,     0.18226,     0.18637,     0.19182,     0.19451,      0.1976,     0.20166,     0.20539,     0.20964,     0.21386,     0.21622,     0.21971,\n",
       "            0.22174,     0.22448,     0.22704,     0.22966,     0.23276,     0.23364,     0.23865,     0.24235,       0.245,     0.24821,      0.2516,       0.255,     0.25919,     0.26421,     0.26826,     0.27111,     0.27454,     0.27799,     0.28145,     0.28389,     0.28788,     0.29341,     0.29639,\n",
       "            0.30002,     0.30309,     0.30678,     0.31094,     0.31331,     0.31794,     0.32209,     0.32625,     0.32754,     0.33007,     0.33336,     0.33835,     0.34095,     0.34284,     0.34729,     0.35131,     0.35539,     0.35706,     0.36211,     0.36114,     0.36387,     0.36851,     0.37259,\n",
       "             0.3731,     0.37627,     0.37966,     0.38183,     0.38397,     0.38905,     0.39167,      0.3932,     0.39658,     0.39953,     0.40054,     0.40249,     0.40791,     0.41214,     0.41439,     0.41495,     0.41805,     0.42242,     0.42458,     0.42779,     0.42922,     0.43238,     0.43872,\n",
       "            0.44034,      0.4436,     0.44646,     0.45174,     0.45325,     0.45548,     0.45718,     0.45972,     0.46195,     0.46258,      0.4666,     0.47071,     0.47368,     0.47538,     0.47598,     0.47959,     0.47973,      0.4821,     0.48517,     0.48347,     0.48338,     0.48547,     0.48892,\n",
       "            0.49206,     0.49578,     0.49911,     0.50478,     0.51078,     0.51368,     0.51475,     0.51595,     0.51804,     0.51908,     0.51987,     0.51914,     0.52023,     0.52102,      0.5202,     0.51893,     0.52242,     0.52231,     0.52181,     0.52358,     0.52728,     0.52748,     0.53353,\n",
       "            0.53537,     0.53719,     0.54032,     0.54141,      0.5426,     0.54208,     0.54407,     0.54689,     0.55164,     0.55598,     0.55676,     0.55696,     0.55705,     0.56002,     0.56282,     0.56451,     0.56543,     0.56781,      0.5691,     0.57146,     0.57211,     0.57328,     0.57432,\n",
       "            0.57476,     0.57763,     0.57908,     0.57696,     0.57733,     0.57817,     0.57931,      0.5826,      0.5837,      0.5874,     0.58901,     0.58953,      0.5916,     0.59279,     0.59367,     0.59469,     0.59612,     0.59943,     0.60175,     0.60227,     0.60507,     0.60641,     0.60815,\n",
       "             0.6078,      0.6096,     0.61504,     0.61592,      0.6192,     0.62077,      0.6221,     0.62362,     0.62747,     0.63003,     0.63385,     0.63752,     0.64031,     0.64068,     0.64106,     0.64233,     0.64909,     0.64981,     0.64939,     0.64897,     0.65099,     0.64994,     0.65018,\n",
       "            0.65214,     0.65276,     0.65183,     0.65142,     0.65101,     0.65173,     0.65283,     0.65457,     0.65735,     0.65914,     0.66049,      0.6624,     0.66708,     0.66835,      0.6689,     0.66946,     0.67002,     0.67128,     0.67333,     0.67423,     0.67513,     0.67495,     0.67532,\n",
       "            0.67847,     0.68041,     0.67994,     0.67919,     0.67792,     0.68193,     0.68617,     0.68753,     0.68675,     0.68788,     0.68715,     0.68757,     0.68944,     0.68929,     0.68906,     0.68882,     0.68859,     0.68836,     0.69288,      0.6964,     0.70059,     0.70294,     0.70897,\n",
       "            0.71144,     0.71104,     0.71348,     0.71257,     0.71644,     0.71849,     0.71777,      0.7181,     0.71958,      0.7216,     0.72412,     0.72562,      0.7276,     0.72941,     0.73022,     0.73213,     0.73191,     0.73169,     0.73146,     0.73124,     0.73101,     0.73022,     0.73026,\n",
       "            0.73123,     0.73221,     0.73325,      0.7347,     0.73614,     0.74409,     0.74607,     0.75724,     0.75979,     0.76472,     0.76657,     0.76651,     0.76545,     0.76454,     0.76677,     0.76667,     0.76792,     0.77144,     0.77322,     0.77263,     0.77128,     0.77294,     0.77459,\n",
       "            0.77313,     0.77403,      0.7759,     0.77613,     0.77893,     0.78105,     0.78269,     0.78342,     0.78325,     0.78308,     0.78291,     0.78274,     0.78257,     0.78239,     0.78664,     0.78805,     0.78946,     0.79031,     0.78826,     0.78786,     0.78745,     0.78715,     0.78698,\n",
       "            0.78681,     0.78664,     0.78647,      0.7863,     0.78613,     0.79161,     0.79296,     0.79232,      0.7921,     0.79188,     0.79167,     0.79145,     0.79123,     0.79408,     0.79349,      0.7943,     0.79576,     0.79723,      0.7969,     0.80222,     0.80393,     0.80565,     0.81185,\n",
       "            0.81391,     0.81471,     0.81399,      0.8133,      0.8185,     0.82217,      0.8217,      0.8209,     0.81988,     0.81906,     0.81835,     0.82022,     0.82286,     0.82978,     0.83318,     0.83275,     0.83232,     0.83157,     0.83045,     0.83091,     0.83461,     0.83641,     0.83822,\n",
       "            0.84036,     0.84432,     0.84455,     0.84297,      0.8426,     0.84223,     0.84079,     0.84021,     0.83823,     0.84968,     0.85131,     0.85295,     0.85458,      0.8593,     0.86097,     0.86077,     0.86057,     0.86037,     0.86017,     0.86779,     0.87135,     0.87125,     0.87089,\n",
       "            0.87053,     0.87005,     0.87005,      0.8757,     0.87547,     0.87524,     0.87501,     0.87759,     0.88052,     0.88035,     0.88018,     0.88001,     0.87985,     0.87957,     0.87973,     0.88388,     0.88495,     0.89147,     0.89106,     0.89066,     0.88888,     0.88873,     0.88857,\n",
       "            0.88841,     0.88826,      0.8881,     0.88868,     0.89051,     0.89233,     0.89415,     0.89478,      0.8934,     0.89284,     0.89139,     0.89203,     0.89663,     0.89714,     0.89678,     0.89629,     0.89884,     0.91285,     0.91746,     0.91932,     0.92088,     0.92244,       0.924,\n",
       "            0.92556,     0.92712,     0.92627,     0.92581,     0.92548,     0.92449,     0.92395,     0.93209,     0.94108,     0.94093,     0.94078,     0.94062,     0.94021,     0.93991,     0.93976,     0.93961,     0.93946,     0.93837,     0.93765,     0.93723,     0.93688,     0.94124,     0.94626,\n",
       "            0.95695,     0.95676,     0.95657,     0.95646,     0.95637,     0.95629,     0.95621,     0.95612,     0.95599,     0.96623,     0.96612,     0.96602,     0.96592,       0.977,     0.97667,     0.97653,     0.97643,     0.97637,      0.9763,     0.97623,     0.97587,     0.97579,     0.97571,\n",
       "            0.97562,     0.97511,     0.97495,     0.97488,      0.9748,     0.97472,     0.97408,     0.97355,     0.97329,     0.97321,     0.97313,     0.97305,     0.97297,     0.97289,     0.97282,     0.97274,     0.97267,     0.97242,     0.97176,     0.97157,     0.97138,     0.97121,     0.97104,\n",
       "            0.97055,     0.97016,     0.96942,     0.96915,     0.96901,     0.96888,     0.96873,     0.96849,     0.96826,     0.96787,     0.96765,     0.96752,     0.96739,     0.96726,     0.98327,     0.98312,     0.98294,     0.98275,      0.9827,     0.98265,      0.9826,     0.98255,      0.9825,\n",
       "            0.98245,     0.98237,     0.98229,     0.98222,     0.98211,     0.98101,     0.98068,     0.98052,     0.98035,     0.98015,     0.97992,     0.97961,     0.97953,     0.97946,     0.97938,     0.97931,     0.97924,     0.97917,     0.97907,     0.97896,     0.97886,     0.97875,     0.97812,\n",
       "            0.97769,           1,           1,           1,           1,           1,           1,           1,           1,           1,           1,           1,           1,           1,           1,           1,           1,           1,           1,           1,           1,           1,           1,\n",
       "                  1,           1,           1,           1,           1,           1,           1,           1,           1,           1,           1,           1,           1,           1,           1,           1,           1,           1,           1,           1,           1,           1,           1,\n",
       "                  1,           1,           1,           1,           1,           1,           1,           1,           1,           1,           1,           1,           1,           1,           1,           1,           1,           1,           1,           1,           1,           1,           1,\n",
       "                  1,           1,           1,           1,           1,           1,           1,           1,           1,           1,           1,           1,           1,           1,           1,           1,           1,           1,           1,           1,           1,           1,           1,\n",
       "                  1,           1,           1,           1,           1,           1,           1,           1,           1,           1,           1,           1,           1,           1,           1,           1,           1,           1,           1,           1,           1,           1,           1,\n",
       "                  1,           1,           1,           1,           1,           1,           1,           1,           1,           1,           1,           1,           1,           1,           1,           1,           1,           1,           1,           1,           1,           1,           1,\n",
       "                  1,           1,           1,           1,           1,           1,           1,           1,           1,           1,           1,           1,           1,           1,           1,           1,           1,           1,           1,           1,           1,           1,           1,\n",
       "                  1,           1,           1,           1,           1,           1,           1,           1,           1,           1,           1,           1,           1,           1,           1,           1,           1,           1,           1,           1,           1,           1,           1,\n",
       "                  1,           1,           1,           1,           1,           1,           1,           1,           1,           1,           1,           1,           1,           1,           1,           1,           1,           1,           1,           1,           1,           1,           1,\n",
       "                  1,           1,           1,           1,           1,           1,           1,           1,           1,           1,           1,           1,           1,           1,           1,           1,           1,           1,           1,           1,           1,           1,           1,\n",
       "                  1,           1,           1,           1,           1,           1,           1,           1,           1,           1,           1,           1,           1,           1,           1,           1,           1,           1,           1,           1,           1,           1,           1,\n",
       "                  1,           1,           1,           1,           1,           1,           1,           1,           1,           1,           1,           1,           1,           1,           1,           1,           1,           1,           1,           1,           1,           1,           1,\n",
       "                  1,           1,           1,           1,           1,           1,           1,           1,           1,           1,           1,           1,           1,           1,           1,           1,           1,           1,           1,           1,           1,           1,           1,\n",
       "                  1,           1,           1,           1,           1,           1,           1,           1,           1,           1,           1,           1,           1,           1,           1,           1,           1,           1,           1,           1,           1,           1,           1,\n",
       "                  1,           1,           1,           1,           1,           1,           1,           1,           1,           1,           1,           1,           1,           1,           1,           1,           1,           1,           1,           1,           1,           1,           1,\n",
       "                  1,           1,           1,           1,           1,           1,           1,           1,           1,           1,           1,           1,           1,           1,           1,           1,           1,           1,           1,           1,           1,           1,           1,\n",
       "                  1,           1,           1,           1,           1,           1,           1,           1,           1,           1,           1,           1,           1,           1,           1,           1,           1,           1,           1,           1,           1,           1,           1,\n",
       "                  1,           1,           1,           1,           1,           1,           1,           1,           1,           1,           1,           1,           1,           1,           1,           1,           1,           1,           1,           1,           1,           1,           1,\n",
       "                  1,           1,           1,           1,           1,           1,           1,           1,           1,           1,           1]]), 'Confidence', 'Precision'], [array([          0,    0.001001,    0.002002,    0.003003,    0.004004,    0.005005,    0.006006,    0.007007,    0.008008,    0.009009,     0.01001,    0.011011,    0.012012,    0.013013,    0.014014,    0.015015,    0.016016,    0.017017,    0.018018,    0.019019,     0.02002,    0.021021,    0.022022,    0.023023,\n",
       "          0.024024,    0.025025,    0.026026,    0.027027,    0.028028,    0.029029,     0.03003,    0.031031,    0.032032,    0.033033,    0.034034,    0.035035,    0.036036,    0.037037,    0.038038,    0.039039,     0.04004,    0.041041,    0.042042,    0.043043,    0.044044,    0.045045,    0.046046,    0.047047,\n",
       "          0.048048,    0.049049,     0.05005,    0.051051,    0.052052,    0.053053,    0.054054,    0.055055,    0.056056,    0.057057,    0.058058,    0.059059,     0.06006,    0.061061,    0.062062,    0.063063,    0.064064,    0.065065,    0.066066,    0.067067,    0.068068,    0.069069,     0.07007,    0.071071,\n",
       "          0.072072,    0.073073,    0.074074,    0.075075,    0.076076,    0.077077,    0.078078,    0.079079,     0.08008,    0.081081,    0.082082,    0.083083,    0.084084,    0.085085,    0.086086,    0.087087,    0.088088,    0.089089,     0.09009,    0.091091,    0.092092,    0.093093,    0.094094,    0.095095,\n",
       "          0.096096,    0.097097,    0.098098,    0.099099,      0.1001,      0.1011,      0.1021,      0.1031,      0.1041,     0.10511,     0.10611,     0.10711,     0.10811,     0.10911,     0.11011,     0.11111,     0.11211,     0.11311,     0.11411,     0.11512,     0.11612,     0.11712,     0.11812,     0.11912,\n",
       "           0.12012,     0.12112,     0.12212,     0.12312,     0.12412,     0.12513,     0.12613,     0.12713,     0.12813,     0.12913,     0.13013,     0.13113,     0.13213,     0.13313,     0.13413,     0.13514,     0.13614,     0.13714,     0.13814,     0.13914,     0.14014,     0.14114,     0.14214,     0.14314,\n",
       "           0.14414,     0.14515,     0.14615,     0.14715,     0.14815,     0.14915,     0.15015,     0.15115,     0.15215,     0.15315,     0.15415,     0.15516,     0.15616,     0.15716,     0.15816,     0.15916,     0.16016,     0.16116,     0.16216,     0.16316,     0.16416,     0.16517,     0.16617,     0.16717,\n",
       "           0.16817,     0.16917,     0.17017,     0.17117,     0.17217,     0.17317,     0.17417,     0.17518,     0.17618,     0.17718,     0.17818,     0.17918,     0.18018,     0.18118,     0.18218,     0.18318,     0.18418,     0.18519,     0.18619,     0.18719,     0.18819,     0.18919,     0.19019,     0.19119,\n",
       "           0.19219,     0.19319,     0.19419,      0.1952,      0.1962,      0.1972,      0.1982,      0.1992,      0.2002,      0.2012,      0.2022,      0.2032,      0.2042,     0.20521,     0.20621,     0.20721,     0.20821,     0.20921,     0.21021,     0.21121,     0.21221,     0.21321,     0.21421,     0.21522,\n",
       "           0.21622,     0.21722,     0.21822,     0.21922,     0.22022,     0.22122,     0.22222,     0.22322,     0.22422,     0.22523,     0.22623,     0.22723,     0.22823,     0.22923,     0.23023,     0.23123,     0.23223,     0.23323,     0.23423,     0.23524,     0.23624,     0.23724,     0.23824,     0.23924,\n",
       "           0.24024,     0.24124,     0.24224,     0.24324,     0.24424,     0.24525,     0.24625,     0.24725,     0.24825,     0.24925,     0.25025,     0.25125,     0.25225,     0.25325,     0.25425,     0.25526,     0.25626,     0.25726,     0.25826,     0.25926,     0.26026,     0.26126,     0.26226,     0.26326,\n",
       "           0.26426,     0.26527,     0.26627,     0.26727,     0.26827,     0.26927,     0.27027,     0.27127,     0.27227,     0.27327,     0.27427,     0.27528,     0.27628,     0.27728,     0.27828,     0.27928,     0.28028,     0.28128,     0.28228,     0.28328,     0.28428,     0.28529,     0.28629,     0.28729,\n",
       "           0.28829,     0.28929,     0.29029,     0.29129,     0.29229,     0.29329,     0.29429,      0.2953,      0.2963,      0.2973,      0.2983,      0.2993,      0.3003,      0.3013,      0.3023,      0.3033,      0.3043,     0.30531,     0.30631,     0.30731,     0.30831,     0.30931,     0.31031,     0.31131,\n",
       "           0.31231,     0.31331,     0.31431,     0.31532,     0.31632,     0.31732,     0.31832,     0.31932,     0.32032,     0.32132,     0.32232,     0.32332,     0.32432,     0.32533,     0.32633,     0.32733,     0.32833,     0.32933,     0.33033,     0.33133,     0.33233,     0.33333,     0.33433,     0.33534,\n",
       "           0.33634,     0.33734,     0.33834,     0.33934,     0.34034,     0.34134,     0.34234,     0.34334,     0.34434,     0.34535,     0.34635,     0.34735,     0.34835,     0.34935,     0.35035,     0.35135,     0.35235,     0.35335,     0.35435,     0.35536,     0.35636,     0.35736,     0.35836,     0.35936,\n",
       "           0.36036,     0.36136,     0.36236,     0.36336,     0.36436,     0.36537,     0.36637,     0.36737,     0.36837,     0.36937,     0.37037,     0.37137,     0.37237,     0.37337,     0.37437,     0.37538,     0.37638,     0.37738,     0.37838,     0.37938,     0.38038,     0.38138,     0.38238,     0.38338,\n",
       "           0.38438,     0.38539,     0.38639,     0.38739,     0.38839,     0.38939,     0.39039,     0.39139,     0.39239,     0.39339,     0.39439,      0.3954,      0.3964,      0.3974,      0.3984,      0.3994,      0.4004,      0.4014,      0.4024,      0.4034,      0.4044,     0.40541,     0.40641,     0.40741,\n",
       "           0.40841,     0.40941,     0.41041,     0.41141,     0.41241,     0.41341,     0.41441,     0.41542,     0.41642,     0.41742,     0.41842,     0.41942,     0.42042,     0.42142,     0.42242,     0.42342,     0.42442,     0.42543,     0.42643,     0.42743,     0.42843,     0.42943,     0.43043,     0.43143,\n",
       "           0.43243,     0.43343,     0.43443,     0.43544,     0.43644,     0.43744,     0.43844,     0.43944,     0.44044,     0.44144,     0.44244,     0.44344,     0.44444,     0.44545,     0.44645,     0.44745,     0.44845,     0.44945,     0.45045,     0.45145,     0.45245,     0.45345,     0.45445,     0.45546,\n",
       "           0.45646,     0.45746,     0.45846,     0.45946,     0.46046,     0.46146,     0.46246,     0.46346,     0.46446,     0.46547,     0.46647,     0.46747,     0.46847,     0.46947,     0.47047,     0.47147,     0.47247,     0.47347,     0.47447,     0.47548,     0.47648,     0.47748,     0.47848,     0.47948,\n",
       "           0.48048,     0.48148,     0.48248,     0.48348,     0.48448,     0.48549,     0.48649,     0.48749,     0.48849,     0.48949,     0.49049,     0.49149,     0.49249,     0.49349,     0.49449,      0.4955,      0.4965,      0.4975,      0.4985,      0.4995,      0.5005,      0.5015,      0.5025,      0.5035,\n",
       "            0.5045,     0.50551,     0.50651,     0.50751,     0.50851,     0.50951,     0.51051,     0.51151,     0.51251,     0.51351,     0.51451,     0.51552,     0.51652,     0.51752,     0.51852,     0.51952,     0.52052,     0.52152,     0.52252,     0.52352,     0.52452,     0.52553,     0.52653,     0.52753,\n",
       "           0.52853,     0.52953,     0.53053,     0.53153,     0.53253,     0.53353,     0.53453,     0.53554,     0.53654,     0.53754,     0.53854,     0.53954,     0.54054,     0.54154,     0.54254,     0.54354,     0.54454,     0.54555,     0.54655,     0.54755,     0.54855,     0.54955,     0.55055,     0.55155,\n",
       "           0.55255,     0.55355,     0.55455,     0.55556,     0.55656,     0.55756,     0.55856,     0.55956,     0.56056,     0.56156,     0.56256,     0.56356,     0.56456,     0.56557,     0.56657,     0.56757,     0.56857,     0.56957,     0.57057,     0.57157,     0.57257,     0.57357,     0.57457,     0.57558,\n",
       "           0.57658,     0.57758,     0.57858,     0.57958,     0.58058,     0.58158,     0.58258,     0.58358,     0.58458,     0.58559,     0.58659,     0.58759,     0.58859,     0.58959,     0.59059,     0.59159,     0.59259,     0.59359,     0.59459,      0.5956,      0.5966,      0.5976,      0.5986,      0.5996,\n",
       "            0.6006,      0.6016,      0.6026,      0.6036,      0.6046,     0.60561,     0.60661,     0.60761,     0.60861,     0.60961,     0.61061,     0.61161,     0.61261,     0.61361,     0.61461,     0.61562,     0.61662,     0.61762,     0.61862,     0.61962,     0.62062,     0.62162,     0.62262,     0.62362,\n",
       "           0.62462,     0.62563,     0.62663,     0.62763,     0.62863,     0.62963,     0.63063,     0.63163,     0.63263,     0.63363,     0.63463,     0.63564,     0.63664,     0.63764,     0.63864,     0.63964,     0.64064,     0.64164,     0.64264,     0.64364,     0.64464,     0.64565,     0.64665,     0.64765,\n",
       "           0.64865,     0.64965,     0.65065,     0.65165,     0.65265,     0.65365,     0.65465,     0.65566,     0.65666,     0.65766,     0.65866,     0.65966,     0.66066,     0.66166,     0.66266,     0.66366,     0.66466,     0.66567,     0.66667,     0.66767,     0.66867,     0.66967,     0.67067,     0.67167,\n",
       "           0.67267,     0.67367,     0.67467,     0.67568,     0.67668,     0.67768,     0.67868,     0.67968,     0.68068,     0.68168,     0.68268,     0.68368,     0.68468,     0.68569,     0.68669,     0.68769,     0.68869,     0.68969,     0.69069,     0.69169,     0.69269,     0.69369,     0.69469,      0.6957,\n",
       "            0.6967,      0.6977,      0.6987,      0.6997,      0.7007,      0.7017,      0.7027,      0.7037,      0.7047,     0.70571,     0.70671,     0.70771,     0.70871,     0.70971,     0.71071,     0.71171,     0.71271,     0.71371,     0.71471,     0.71572,     0.71672,     0.71772,     0.71872,     0.71972,\n",
       "           0.72072,     0.72172,     0.72272,     0.72372,     0.72472,     0.72573,     0.72673,     0.72773,     0.72873,     0.72973,     0.73073,     0.73173,     0.73273,     0.73373,     0.73473,     0.73574,     0.73674,     0.73774,     0.73874,     0.73974,     0.74074,     0.74174,     0.74274,     0.74374,\n",
       "           0.74474,     0.74575,     0.74675,     0.74775,     0.74875,     0.74975,     0.75075,     0.75175,     0.75275,     0.75375,     0.75475,     0.75576,     0.75676,     0.75776,     0.75876,     0.75976,     0.76076,     0.76176,     0.76276,     0.76376,     0.76476,     0.76577,     0.76677,     0.76777,\n",
       "           0.76877,     0.76977,     0.77077,     0.77177,     0.77277,     0.77377,     0.77477,     0.77578,     0.77678,     0.77778,     0.77878,     0.77978,     0.78078,     0.78178,     0.78278,     0.78378,     0.78478,     0.78579,     0.78679,     0.78779,     0.78879,     0.78979,     0.79079,     0.79179,\n",
       "           0.79279,     0.79379,     0.79479,      0.7958,      0.7968,      0.7978,      0.7988,      0.7998,      0.8008,      0.8018,      0.8028,      0.8038,      0.8048,     0.80581,     0.80681,     0.80781,     0.80881,     0.80981,     0.81081,     0.81181,     0.81281,     0.81381,     0.81481,     0.81582,\n",
       "           0.81682,     0.81782,     0.81882,     0.81982,     0.82082,     0.82182,     0.82282,     0.82382,     0.82482,     0.82583,     0.82683,     0.82783,     0.82883,     0.82983,     0.83083,     0.83183,     0.83283,     0.83383,     0.83483,     0.83584,     0.83684,     0.83784,     0.83884,     0.83984,\n",
       "           0.84084,     0.84184,     0.84284,     0.84384,     0.84484,     0.84585,     0.84685,     0.84785,     0.84885,     0.84985,     0.85085,     0.85185,     0.85285,     0.85385,     0.85485,     0.85586,     0.85686,     0.85786,     0.85886,     0.85986,     0.86086,     0.86186,     0.86286,     0.86386,\n",
       "           0.86486,     0.86587,     0.86687,     0.86787,     0.86887,     0.86987,     0.87087,     0.87187,     0.87287,     0.87387,     0.87487,     0.87588,     0.87688,     0.87788,     0.87888,     0.87988,     0.88088,     0.88188,     0.88288,     0.88388,     0.88488,     0.88589,     0.88689,     0.88789,\n",
       "           0.88889,     0.88989,     0.89089,     0.89189,     0.89289,     0.89389,     0.89489,      0.8959,      0.8969,      0.8979,      0.8989,      0.8999,      0.9009,      0.9019,      0.9029,      0.9039,      0.9049,     0.90591,     0.90691,     0.90791,     0.90891,     0.90991,     0.91091,     0.91191,\n",
       "           0.91291,     0.91391,     0.91491,     0.91592,     0.91692,     0.91792,     0.91892,     0.91992,     0.92092,     0.92192,     0.92292,     0.92392,     0.92492,     0.92593,     0.92693,     0.92793,     0.92893,     0.92993,     0.93093,     0.93193,     0.93293,     0.93393,     0.93493,     0.93594,\n",
       "           0.93694,     0.93794,     0.93894,     0.93994,     0.94094,     0.94194,     0.94294,     0.94394,     0.94494,     0.94595,     0.94695,     0.94795,     0.94895,     0.94995,     0.95095,     0.95195,     0.95295,     0.95395,     0.95495,     0.95596,     0.95696,     0.95796,     0.95896,     0.95996,\n",
       "           0.96096,     0.96196,     0.96296,     0.96396,     0.96496,     0.96597,     0.96697,     0.96797,     0.96897,     0.96997,     0.97097,     0.97197,     0.97297,     0.97397,     0.97497,     0.97598,     0.97698,     0.97798,     0.97898,     0.97998,     0.98098,     0.98198,     0.98298,     0.98398,\n",
       "           0.98498,     0.98599,     0.98699,     0.98799,     0.98899,     0.98999,     0.99099,     0.99199,     0.99299,     0.99399,     0.99499,       0.996,       0.997,       0.998,       0.999,           1]), array([[    0.99262,     0.99262,     0.98893,     0.98155,      0.9631,     0.95941,     0.95203,     0.93727,     0.93358,     0.92989,      0.9262,     0.92251,     0.91882,     0.91144,     0.91144,     0.90775,     0.90406,     0.90037,     0.89299,     0.89299,     0.89299,      0.8893,      0.8893,\n",
       "             0.8893,      0.8893,      0.8893,      0.8893,      0.8893,      0.8893,     0.88561,     0.88561,     0.88561,     0.88561,     0.88192,     0.88192,     0.88192,     0.88192,     0.88192,     0.87823,     0.87454,     0.87454,     0.87085,     0.87085,     0.86716,     0.86347,     0.86347,\n",
       "            0.85978,     0.85978,     0.85609,     0.85609,      0.8524,     0.84502,     0.84502,     0.84502,     0.84502,     0.84502,     0.84502,     0.84502,     0.84502,     0.84502,     0.84502,     0.84502,     0.84502,     0.84502,     0.84502,     0.84502,     0.84502,     0.84502,     0.84502,\n",
       "            0.84502,     0.84502,     0.84502,     0.84502,     0.84502,     0.84502,     0.84502,     0.84502,     0.84133,     0.84133,     0.84133,     0.84133,     0.84133,     0.83764,     0.83764,     0.83764,     0.83395,     0.83026,     0.83026,     0.81919,     0.81919,     0.81919,     0.81919,\n",
       "            0.81919,     0.81919,     0.81919,     0.81919,     0.81919,     0.81919,      0.8155,      0.8155,      0.8155,      0.8155,      0.8155,      0.8155,     0.81181,     0.81181,     0.81181,     0.81181,     0.81181,     0.81181,     0.81181,     0.80812,     0.80812,     0.80443,     0.80443,\n",
       "            0.80443,     0.80443,     0.80443,     0.80443,     0.80443,     0.80443,     0.80443,     0.80443,     0.80074,     0.80074,     0.80074,     0.79744,     0.79705,     0.79705,     0.79437,     0.79336,     0.78598,     0.78598,     0.78598,     0.78056,      0.7786,      0.7786,      0.7786,\n",
       "            0.77569,     0.77491,     0.77491,     0.77491,     0.77491,     0.77491,     0.77491,     0.77491,     0.77122,     0.77122,     0.77122,     0.76887,     0.76753,     0.76667,     0.76413,     0.76015,     0.76015,     0.75854,     0.75646,     0.75646,     0.75646,     0.75383,     0.74908,\n",
       "            0.74539,     0.74539,     0.74539,     0.74539,     0.74539,      0.7426,      0.7417,     0.73933,     0.73801,     0.73801,     0.73801,     0.73294,     0.73063,     0.73063,     0.73063,     0.72694,     0.72694,     0.72694,     0.72694,     0.72325,     0.71956,     0.71956,     0.71956,\n",
       "            0.71821,     0.71587,     0.71578,     0.70849,      0.7048,      0.7048,      0.7048,      0.7048,      0.7048,      0.7048,     0.70111,     0.69957,     0.69742,     0.69742,     0.69742,     0.69742,     0.69742,     0.69742,     0.69694,     0.69373,     0.69373,     0.69373,     0.69297,\n",
       "            0.69004,     0.69004,     0.68977,     0.68635,     0.68635,     0.68635,     0.68635,     0.68635,     0.68635,     0.68635,     0.68635,     0.68635,     0.68635,     0.68427,     0.68266,     0.68266,     0.68266,     0.67788,     0.67664,     0.67539,     0.67452,      0.6714,      0.6679,\n",
       "             0.6679,     0.66593,     0.66319,       0.662,     0.66081,     0.66052,     0.66052,     0.66052,     0.66052,     0.66052,     0.66052,     0.66052,     0.66052,     0.66052,     0.66052,     0.66052,     0.66052,     0.66052,     0.66052,     0.66052,     0.66052,     0.65896,     0.65683,\n",
       "            0.65314,     0.65207,     0.65064,     0.64841,     0.64207,     0.64207,     0.64207,     0.64207,     0.63911,     0.63432,     0.63219,       0.631,       0.631,     0.63034,     0.62965,     0.62896,     0.62828,     0.62759,     0.62731,     0.62731,     0.62731,     0.61997,     0.61993,\n",
       "            0.61993,     0.61744,     0.61564,     0.61292,     0.61255,     0.61218,        0.61,     0.60886,     0.60886,     0.60886,     0.60886,     0.60886,     0.60886,     0.60677,     0.60517,     0.60514,     0.60445,     0.60376,     0.60308,     0.60239,      0.6017,     0.59927,     0.59779,\n",
       "            0.59779,     0.59779,     0.59779,     0.59779,     0.59779,     0.59779,     0.59779,     0.59779,     0.59779,     0.59779,     0.59779,     0.59359,     0.59009,     0.58711,     0.58672,       0.582,     0.57934,     0.57934,     0.57873,      0.5768,     0.57196,     0.57196,     0.57196,\n",
       "            0.56587,     0.56458,     0.56458,     0.56289,     0.56089,     0.56089,     0.56089,      0.5606,     0.56004,     0.55948,     0.55892,     0.55835,     0.55779,     0.55723,      0.5572,      0.5572,      0.5572,     0.55629,      0.5495,     0.54816,     0.54683,     0.54586,     0.54531,\n",
       "            0.54476,      0.5442,     0.54365,     0.54309,     0.54254,     0.53875,     0.53703,     0.53497,     0.53426,     0.53355,     0.53284,     0.53213,     0.53142,     0.52652,     0.52459,     0.52399,     0.52399,     0.52399,     0.52125,      0.5203,      0.5203,      0.5203,      0.5203,\n",
       "             0.5203,     0.51919,     0.51674,      0.5144,     0.51292,     0.51183,     0.51016,      0.5074,     0.50391,     0.50113,     0.49871,     0.49815,     0.49815,     0.49815,     0.49761,     0.49608,     0.49454,     0.49189,     0.48801,     0.48339,     0.48339,     0.48339,     0.48339,\n",
       "            0.48339,     0.48339,     0.48114,      0.4754,     0.47408,     0.47276,     0.46768,     0.46568,     0.45756,     0.45756,     0.45756,     0.45756,     0.45756,     0.45756,     0.45702,     0.45626,      0.4555,     0.45474,     0.45398,     0.45387,     0.45387,     0.44946,     0.44803,\n",
       "             0.4466,     0.44471,      0.4428,     0.44196,     0.44102,     0.44008,     0.43914,     0.43542,      0.4351,     0.43441,     0.43372,     0.43303,     0.43234,      0.4312,     0.42804,     0.42804,     0.42575,     0.42433,     0.42257,     0.42082,     0.41326,     0.41261,     0.41196,\n",
       "             0.4113,     0.41065,        0.41,     0.40959,     0.40959,     0.40959,     0.40959,     0.40794,     0.40202,     0.39971,      0.3937,     0.38745,     0.38745,     0.38621,      0.3847,     0.38268,     0.38007,     0.38007,     0.38007,     0.37638,     0.37638,     0.37638,     0.37638,\n",
       "            0.37638,     0.37638,     0.37089,     0.36838,     0.36665,     0.36141,     0.35868,     0.35455,     0.35363,     0.35267,     0.35171,     0.35075,     0.34816,     0.34634,     0.34541,     0.34448,     0.34355,     0.33713,     0.33297,     0.33059,     0.32865,     0.32841,     0.32841,\n",
       "             0.3281,     0.32659,     0.32508,     0.32423,     0.32359,     0.32294,      0.3223,     0.32165,      0.3206,     0.31671,     0.31572,     0.31474,     0.31375,     0.31365,     0.30896,     0.30714,      0.3058,     0.30489,     0.30398,     0.30307,     0.29852,     0.29747,     0.29642,\n",
       "            0.29537,     0.28911,     0.28728,     0.28639,      0.2855,     0.28461,     0.27732,      0.2716,     0.26892,     0.26809,     0.26726,     0.26644,     0.26561,     0.26487,     0.26413,     0.26338,     0.26264,     0.26026,     0.25399,     0.25222,     0.25051,       0.249,     0.24748,\n",
       "            0.24326,     0.23994,     0.23396,     0.23186,     0.23081,     0.22975,     0.22865,     0.22688,     0.22512,     0.22233,      0.2208,     0.21989,     0.21898,     0.21807,     0.21685,     0.21494,     0.21267,     0.21027,     0.20965,     0.20903,     0.20841,     0.20779,     0.20718,\n",
       "            0.20652,     0.20561,     0.20471,      0.2038,      0.2026,     0.19065,     0.18732,     0.18574,     0.18409,     0.18222,     0.18011,     0.17732,     0.17655,     0.17594,     0.17532,     0.17471,      0.1741,     0.17348,     0.17263,     0.17175,     0.17087,        0.17,     0.16496,\n",
       "             0.1617,     0.15258,     0.15057,      0.1496,     0.14863,     0.14767,      0.1461,     0.14449,     0.13882,     0.13479,      0.1327,      0.1317,     0.13069,     0.12968,     0.12646,     0.12493,     0.12428,     0.12364,     0.12299,     0.12235,     0.12162,     0.12022,     0.11883,\n",
       "            0.11747,     0.11614,     0.11482,       0.111,     0.10979,     0.10881,     0.10784,     0.10323,     0.10114,    0.099211,     0.09769,    0.096169,    0.091694,    0.090333,    0.088972,    0.087117,    0.085049,    0.083617,    0.082244,    0.080847,    0.079367,    0.077887,    0.075378,\n",
       "           0.073577,    0.073084,     0.07259,    0.072097,    0.071604,    0.071111,    0.070617,    0.070124,    0.066254,    0.064718,    0.063182,    0.062095,    0.061195,    0.060295,    0.059394,    0.058623,    0.057936,    0.057248,     0.05656,    0.055872,    0.054951,    0.053291,    0.051605,\n",
       "            0.04841,    0.045926,    0.043979,    0.042995,     0.04201,    0.041025,    0.035707,    0.033488,    0.031863,    0.030322,    0.029432,    0.029249,    0.029066,    0.028883,      0.0287,    0.028516,    0.028333,     0.02815,    0.027967,    0.027784,    0.027601,    0.027417,    0.027234,\n",
       "           0.027051,    0.026868,    0.026685,    0.026501,    0.026318,    0.026135,    0.025952,    0.025449,    0.024315,    0.023181,    0.021851,    0.018445,      0.0183,    0.018154,    0.018008,    0.017862,    0.017716,     0.01757,    0.017424,    0.017278,    0.017133,    0.016987,    0.016841,\n",
       "           0.016695,    0.016549,    0.016403,    0.016257,    0.016111,    0.015966,     0.01582,    0.015674,    0.015528,    0.015382,    0.015236,     0.01509,    0.014944,    0.014798,    0.013751,    0.012382,    0.010986,   0.0089823,    0.007361,    0.007266,    0.007171,    0.007076,    0.006981,\n",
       "           0.006886,    0.006791,    0.006696,    0.006601,    0.006506,    0.006411,    0.006316,    0.006221,    0.006126,    0.006031,    0.005936,    0.005841,    0.005746,    0.005651,    0.005556,    0.005461,    0.005366,    0.005271,    0.005176,    0.005081,    0.004986,    0.004891,    0.004796,\n",
       "           0.004701,    0.004606,    0.004511,    0.004416,    0.004321,    0.004226,    0.004131,    0.004036,    0.003941,    0.003846,    0.003751,           0,           0,           0,           0,           0,           0,           0,           0,           0,           0,           0,           0,\n",
       "                  0,           0,           0,           0,           0,           0,           0,           0,           0,           0,           0,           0,           0,           0,           0,           0,           0,           0,           0,           0,           0,           0,           0,\n",
       "                  0,           0,           0,           0,           0,           0,           0,           0,           0,           0,           0,           0,           0,           0,           0,           0,           0,           0,           0,           0,           0,           0,           0,\n",
       "                  0,           0,           0,           0,           0,           0,           0,           0,           0,           0,           0,           0,           0,           0,           0,           0,           0,           0,           0,           0,           0,           0,           0,\n",
       "                  0,           0,           0,           0,           0,           0,           0,           0,           0,           0,           0,           0,           0,           0,           0,           0,           0,           0,           0,           0,           0,           0,           0,\n",
       "                  0,           0,           0,           0,           0,           0,           0,           0,           0,           0,           0,           0,           0,           0,           0,           0,           0,           0,           0,           0,           0,           0,           0,\n",
       "                  0,           0,           0,           0,           0,           0,           0,           0,           0,           0,           0,           0,           0,           0,           0,           0,           0,           0,           0,           0,           0,           0,           0,\n",
       "                  0,           0,           0,           0,           0,           0,           0,           0,           0,           0,           0,           0,           0,           0,           0,           0,           0,           0,           0,           0,           0,           0,           0,\n",
       "                  0,           0,           0,           0,           0,           0,           0,           0,           0,           0,           0,           0,           0,           0,           0,           0,           0,           0,           0,           0,           0,           0,           0,\n",
       "                  0,           0,           0,           0,           0,           0,           0,           0,           0,           0,           0,           0,           0,           0,           0,           0,           0,           0,           0,           0,           0,           0,           0,\n",
       "                  0,           0,           0,           0,           0,           0,           0,           0,           0,           0,           0,           0,           0,           0,           0,           0,           0,           0,           0,           0,           0,           0,           0,\n",
       "                  0,           0,           0,           0,           0,           0,           0,           0,           0,           0,           0]]), 'Confidence', 'Recall']]\n",
       "fitness: 0.8780264577063688\n",
       "keys: ['metrics/precision(B)', 'metrics/recall(B)', 'metrics/mAP50(B)', 'metrics/mAP50-95(B)', 'metrics/precision(M)', 'metrics/recall(M)', 'metrics/mAP50(M)', 'metrics/mAP50-95(M)']\n",
       "maps: array([    0.81874])\n",
       "names: {0: 'pollen'}\n",
       "plot: True\n",
       "results_dict: {'metrics/precision(B)': 0.684782909112251, 'metrics/recall(B)': 0.6252749494077041, 'metrics/mAP50(B)': 0.7020903610319199, 'metrics/mAP50-95(B)': 0.3461817360750734, 'metrics/precision(M)': 0.6888241538672222, 'metrics/recall(M)': 0.6289649863080732, 'metrics/mAP50(M)': 0.7094866048834743, 'metrics/mAP50-95(M)': 0.47256133183029253, 'fitness': 0.8780264577063688}\n",
       "save_dir: PosixPath('runs/segment/train')\n",
       "seg: ultralytics.utils.metrics.Metric object\n",
       "speed: {'preprocess': 0.6187929878375626, 'inference': 49.22116022708231, 'loss': 0.00015396033705820459, 'postprocess': 1.0822118428360492}\n",
       "task: 'segment'"
      ]
     },
     "execution_count": 24,
     "metadata": {},
     "output_type": "execute_result"
    }
   ],
   "source": [
    "# Plot results\n",
    "results"
   ]
  },
  {
   "cell_type": "code",
   "execution_count": null,
   "metadata": {},
   "outputs": [],
   "source": []
  }
 ],
 "metadata": {
  "kernelspec": {
   "display_name": "pollen",
   "language": "python",
   "name": "python3"
  },
  "language_info": {
   "codemirror_mode": {
    "name": "ipython",
    "version": 3
   },
   "file_extension": ".py",
   "mimetype": "text/x-python",
   "name": "python",
   "nbconvert_exporter": "python",
   "pygments_lexer": "ipython3",
   "version": "3.9.20"
  }
 },
 "nbformat": 4,
 "nbformat_minor": 2
}
